{
 "cells": [
  {
   "cell_type": "raw",
   "id": "7b491f1b-8a84-4264-ab47-7d4e46093193",
   "metadata": {},
   "source": [
    "---\n",
    "title: \"Blending models - Food production\"\n",
    "author: \"cbarz\"\n",
    "date: \"2023-01-09\"\n",
    "categories: [pyomo, modeling, blending, product mix]\n",
    "draft: false\n",
    "code-fold: true\n",
    "toc: true\n",
    "description: A blending model with multiple products which fulfill certain requirements.\n",
    "---"
   ]
  },
  {
   "cell_type": "markdown",
   "id": "e4f46a0e-3407-4a7f-a71b-d6d84e0b118e",
   "metadata": {},
   "source": [
    "# Animal food production\n",
    "\n",
    "\n",
    "- We want to produce a predefined quantities of products, e.g. animal foods: granules and powder.\n",
    "- The produced product must have certain characteristics - nutritional requirements see section below. \n",
    "- The ingredients - oat, maize and molasses - have different nutritional and have different availablility and prices - see section below.\n",
    "- Ingredients may enter the production process at different places.\n",
    "- The product steps have different costs.\n",
    "- We want to determine the recipie which minimizes the production costs. \n",
    "\n",
    "source: @gueret1999applications p.62"
   ]
  },
  {
   "cell_type": "code",
   "execution_count": null,
   "id": "50ed8e20-1dab-49ab-91dc-33fb89838c21",
   "metadata": {},
   "outputs": [],
   "source": [
    "import pandas as pd\n",
    "import numpy as np\n",
    "import pyomo.environ as pyo"
   ]
  },
  {
   "cell_type": "markdown",
   "id": "b4708c91-6319-4830-9ef9-2960b2287d52",
   "metadata": {},
   "source": [
    "# Example data\n",
    "\n",
    "For our example we consider the following characteristics of the final product and the following raw materials with the the following properties:"
   ]
  },
  {
   "cell_type": "code",
   "execution_count": null,
   "id": "d1eeb0a1-4913-48e8-b48f-c87b3488c3b1",
   "metadata": {},
   "outputs": [
    {
     "name": "stdout",
     "output_type": "stream",
     "text": [
      "requirements\n"
     ]
    },
    {
     "data": {
      "text/html": [
       "<div>\n",
       "<style scoped>\n",
       "    .dataframe tbody tr th:only-of-type {\n",
       "        vertical-align: middle;\n",
       "    }\n",
       "\n",
       "    .dataframe tbody tr th {\n",
       "        vertical-align: top;\n",
       "    }\n",
       "\n",
       "    .dataframe thead th {\n",
       "        text-align: right;\n",
       "    }\n",
       "</style>\n",
       "<table border=\"1\" class=\"dataframe\">\n",
       "  <thead>\n",
       "    <tr style=\"text-align: right;\">\n",
       "      <th></th>\n",
       "      <th>element</th>\n",
       "      <th>min_content</th>\n",
       "      <th>max_content</th>\n",
       "    </tr>\n",
       "  </thead>\n",
       "  <tbody>\n",
       "    <tr>\n",
       "      <th>0</th>\n",
       "      <td>Proteins</td>\n",
       "      <td>9.5</td>\n",
       "      <td>NaN</td>\n",
       "    </tr>\n",
       "    <tr>\n",
       "      <th>1</th>\n",
       "      <td>Lipids</td>\n",
       "      <td>2.0</td>\n",
       "      <td>NaN</td>\n",
       "    </tr>\n",
       "    <tr>\n",
       "      <th>2</th>\n",
       "      <td>Fiber</td>\n",
       "      <td>0.0</td>\n",
       "      <td>6.0</td>\n",
       "    </tr>\n",
       "  </tbody>\n",
       "</table>\n",
       "</div>"
      ],
      "text/plain": [
       "    element  min_content  max_content\n",
       "0  Proteins          9.5          NaN\n",
       "1    Lipids          2.0          NaN\n",
       "2     Fiber          0.0          6.0"
      ]
     },
     "metadata": {},
     "output_type": "display_data"
    },
    {
     "name": "stdout",
     "output_type": "stream",
     "text": [
      "raw materials\n"
     ]
    },
    {
     "data": {
      "text/html": [
       "<div>\n",
       "<style scoped>\n",
       "    .dataframe tbody tr th:only-of-type {\n",
       "        vertical-align: middle;\n",
       "    }\n",
       "\n",
       "    .dataframe tbody tr th {\n",
       "        vertical-align: top;\n",
       "    }\n",
       "\n",
       "    .dataframe thead th {\n",
       "        text-align: right;\n",
       "    }\n",
       "</style>\n",
       "<table border=\"1\" class=\"dataframe\">\n",
       "  <thead>\n",
       "    <tr style=\"text-align: right;\">\n",
       "      <th></th>\n",
       "      <th>raw_mat</th>\n",
       "      <th>Proteins</th>\n",
       "      <th>Lipids</th>\n",
       "      <th>Fiber</th>\n",
       "      <th>availability</th>\n",
       "      <th>costs</th>\n",
       "    </tr>\n",
       "  </thead>\n",
       "  <tbody>\n",
       "    <tr>\n",
       "      <th>0</th>\n",
       "      <td>Oat</td>\n",
       "      <td>13.6</td>\n",
       "      <td>7.1</td>\n",
       "      <td>7.0</td>\n",
       "      <td>11900.0</td>\n",
       "      <td>0.13</td>\n",
       "    </tr>\n",
       "    <tr>\n",
       "      <th>1</th>\n",
       "      <td>Maize</td>\n",
       "      <td>4.1</td>\n",
       "      <td>2.4</td>\n",
       "      <td>3.7</td>\n",
       "      <td>23500.0</td>\n",
       "      <td>0.17</td>\n",
       "    </tr>\n",
       "    <tr>\n",
       "      <th>2</th>\n",
       "      <td>Molasses</td>\n",
       "      <td>5.0</td>\n",
       "      <td>0.3</td>\n",
       "      <td>25.0</td>\n",
       "      <td>750.0</td>\n",
       "      <td>0.12</td>\n",
       "    </tr>\n",
       "  </tbody>\n",
       "</table>\n",
       "</div>"
      ],
      "text/plain": [
       "    raw_mat  Proteins  Lipids  Fiber  availability  costs\n",
       "0       Oat      13.6     7.1    7.0       11900.0   0.13\n",
       "1     Maize       4.1     2.4    3.7       23500.0   0.17\n",
       "2  Molasses       5.0     0.3   25.0         750.0   0.12"
      ]
     },
     "metadata": {},
     "output_type": "display_data"
    },
    {
     "name": "stdout",
     "output_type": "stream",
     "text": [
      "Demand of the final product: 500.0\n"
     ]
    }
   ],
   "source": [
    "requirements = pd.DataFrame(\n",
    "    {'element' : ['Proteins','Lipids','Fiber'],\n",
    "    'min_content': [9.5,2.,0],\n",
    "    'max_content': [np.NaN,np.NaN,6.0]\n",
    "    })\n",
    "\n",
    "raw_mat = pd.DataFrame({\n",
    "    'raw_mat': ['Oat','Maize','Molasses'],\n",
    "    'Proteins': [13.6, 4.1, 5.],\n",
    "    'Lipids':[7.1, 2.4, 0.3],\n",
    "    'Fiber':[7.0, 3.7, 25.0],\n",
    "    'availability':[11900., 23500., 750.],\n",
    "    'costs':[0.13, 0.17, 0.12],\n",
    "})\n",
    "\n",
    "demand = 500.\n",
    "\n",
    "print('requirements')\n",
    "display(requirements)\n",
    "print('raw materials')\n",
    "display(raw_mat)\n",
    "print('Demand of the final product: ' + str(demand))"
   ]
  },
  {
   "cell_type": "markdown",
   "id": "90240d61-12a1-40b1-afc2-0afadbe6b23e",
   "metadata": {},
   "source": [
    "# Model \n",
    "\n",
    "Before we give an algebraic representation of the model, we introduce the relevant problem notions:\n",
    "\n",
    "## sets\n",
    "\n",
    "- TBA\n",
    "\n",
    "## variables\n",
    "\n",
    "- TBA\n",
    "\n",
    "## parameter\n",
    "\n",
    "- TBA\n",
    "\n",
    "\n",
    "## objective\n",
    "\n",
    "- TBA\n",
    "\n",
    "## constraints\n",
    "\n",
    "- TBA"
   ]
  },
  {
   "cell_type": "markdown",
   "id": "1c1dc92b-638d-4e67-98a5-c0c914af1098",
   "metadata": {},
   "source": [
    "## deterministic model\n",
    "\n",
    "TBA\n",
    "\n",
    "$$\n",
    "\\begin{array}{llll}\n",
    "\\min & \\sum_{r\\in raw} cost_r \\cdot use_r & & \\\\\n",
    "s.t. & produce = \\sum_{r\\in raw} use_r & & (c1)\\\\\n",
    "     & \\sum_{r\\in raw} P_{rc}\\cdot use_r \\geq Pmin_c \\cdot produce & , \\forall c\\in comp & (c2)\\\\\n",
    "     & \\sum_{r\\in raw} P_{rc}\\cdot use_r \\leq Pmax_c \\cdot produce &  , \\forall c\\in comp & (c3)\\\\\n",
    "     & use_r \\leq avail_r &  , \\forall r\\in raw & (c4) \\\\\n",
    "     & produce \\geq demand & & (c5) \\\\\n",
    "     & use_r,produce \\geq 0 & & (c6)\n",
    "\\end{array}\n",
    "$$"
   ]
  },
  {
   "cell_type": "code",
   "execution_count": null,
   "id": "e9bda4c1-543b-4723-8f67-cfd0743e4ffc",
   "metadata": {},
   "outputs": [],
   "source": []
  },
  {
   "cell_type": "code",
   "execution_count": null,
   "id": "7a65d3b0-376e-463d-98ad-ab04791ffae9",
   "metadata": {},
   "outputs": [],
   "source": []
  }
 ],
 "metadata": {
  "kernelspec": {
   "display_name": "python3",
   "language": "python",
   "name": "python3"
  }
 },
 "nbformat": 4,
 "nbformat_minor": 5
}
