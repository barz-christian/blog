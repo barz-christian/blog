{
 "cells": [
  {
   "cell_type": "raw",
   "id": "f3668ae7-0ac9-4776-a0cf-386268c320cb",
   "metadata": {},
   "source": [
    "---\n",
    "title: \"Blending models - Sugar cane production\"\n",
    "author: \"cbarz\"\n",
    "date: \"2023-02-22\"\n",
    "categories: [pyomo, modeling, scheduling]\n",
    "draft: true\n",
    "code-fold: true\n",
    "toc: true\n",
    "description: A blending model with multiple products which fulfill certain requirements.\n",
    "---"
   ]
  },
  {
   "cell_type": "code",
   "execution_count": null,
   "id": "7dc42755-b415-413c-9277-8d1661217437",
   "metadata": {},
   "outputs": [],
   "source": [
    "import pandas as pd\n",
    "import numpy as np\n",
    "import pyomo.environ as pyo"
   ]
  },
  {
   "cell_type": "markdown",
   "id": "2e86d0be-ab0e-49b7-b996-9c4255d0c486",
   "metadata": {},
   "source": [
    "# Example - Sugar cane production\n",
    "\n",
    "Harvested sugar cane is immediately transported to a sugar house for further processing, because sugar decreases rapidly trough fermentation.\n",
    "\n",
    "Suppose we have 11 wagons with sugar, all loaded with the same quantity. Moreover we know the hourly loss of sugar in kg per hour and the remaining live span in hour of the lot in every wagon. (see table below)\n",
    "\n",
    "We as\n",
    "\n",
    "\n",
    "This example is from [@gueret1999applications, chap. 6.4]."
   ]
  },
  {
   "cell_type": "code",
   "execution_count": null,
   "id": "96f6beef-93da-4085-bde4-2203da01af45",
   "metadata": {},
   "outputs": [],
   "source": [
    "data = {\n",
    "'lot':{\n",
    "    1:{'loss': 43, 'life_span': 8},\n",
    "    2:{'loss': 26, 'life_span': 8},\n",
    "    3:{'loss': 37, 'life_span': 2},\n",
    "    4:{'loss': 28, 'life_span': 8},\n",
    "    5:{'loss': 13, 'life_span': 4},\n",
    "    6:{'loss': 54, 'life_span': 8},\n",
    "    7:{'loss': 62, 'life_span': 8},\n",
    "    8:{'loss': 49, 'life_span': 8},\n",
    "    9:{'loss': 19, 'life_span': 8},\n",
    "    10:{'loss': 28, 'life_span':8},\n",
    "    11:{'loss': 30, 'life_span':8},    \n",
    "}\n",
    "\n",
    "}"
   ]
  },
  {
   "cell_type": "code",
   "execution_count": null,
   "id": "614d8c2b-e22b-4fed-9db8-e7116f2d0710",
   "metadata": {},
   "outputs": [
    {
     "data": {
      "text/html": [
       "<div>\n",
       "<style scoped>\n",
       "    .dataframe tbody tr th:only-of-type {\n",
       "        vertical-align: middle;\n",
       "    }\n",
       "\n",
       "    .dataframe tbody tr th {\n",
       "        vertical-align: top;\n",
       "    }\n",
       "\n",
       "    .dataframe thead th {\n",
       "        text-align: right;\n",
       "    }\n",
       "</style>\n",
       "<table border=\"1\" class=\"dataframe\">\n",
       "  <thead>\n",
       "    <tr style=\"text-align: right;\">\n",
       "      <th></th>\n",
       "      <th>1</th>\n",
       "      <th>2</th>\n",
       "      <th>3</th>\n",
       "      <th>4</th>\n",
       "      <th>5</th>\n",
       "      <th>6</th>\n",
       "      <th>7</th>\n",
       "      <th>8</th>\n",
       "      <th>9</th>\n",
       "      <th>10</th>\n",
       "      <th>11</th>\n",
       "    </tr>\n",
       "  </thead>\n",
       "  <tbody>\n",
       "    <tr>\n",
       "      <th>loss</th>\n",
       "      <td>43</td>\n",
       "      <td>26</td>\n",
       "      <td>37</td>\n",
       "      <td>28</td>\n",
       "      <td>13</td>\n",
       "      <td>54</td>\n",
       "      <td>62</td>\n",
       "      <td>49</td>\n",
       "      <td>19</td>\n",
       "      <td>28</td>\n",
       "      <td>30</td>\n",
       "    </tr>\n",
       "    <tr>\n",
       "      <th>life_span</th>\n",
       "      <td>8</td>\n",
       "      <td>8</td>\n",
       "      <td>2</td>\n",
       "      <td>8</td>\n",
       "      <td>4</td>\n",
       "      <td>8</td>\n",
       "      <td>8</td>\n",
       "      <td>8</td>\n",
       "      <td>8</td>\n",
       "      <td>8</td>\n",
       "      <td>8</td>\n",
       "    </tr>\n",
       "  </tbody>\n",
       "</table>\n",
       "</div>"
      ],
      "text/plain": [
       "           1   2   3   4   5   6   7   8   9   10  11\n",
       "loss       43  26  37  28  13  54  62  49  19  28  30\n",
       "life_span   8   8   2   8   4   8   8   8   8   8   8"
      ]
     },
     "execution_count": null,
     "metadata": {},
     "output_type": "execute_result"
    }
   ],
   "source": [
    "pd.DataFrame(data['lot'])"
   ]
  },
  {
   "cell_type": "code",
   "execution_count": null,
   "id": "2c8d9ec5-d06b-4dbb-9e39-121e834386de",
   "metadata": {},
   "outputs": [],
   "source": []
  }
 ],
 "metadata": {
  "kernelspec": {
   "display_name": "python3",
   "language": "python",
   "name": "python3"
  }
 },
 "nbformat": 4,
 "nbformat_minor": 5
}
