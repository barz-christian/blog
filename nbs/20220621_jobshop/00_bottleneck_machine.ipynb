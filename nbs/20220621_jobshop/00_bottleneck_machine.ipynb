{
 "cells": [
  {
   "cell_type": "raw",
   "id": "174c2df6-e511-41d7-ad0c-bdad44fd4420",
   "metadata": {},
   "source": [
    "---\n",
    "title: Job shop scheduling\n",
    "author: cbarz\n",
    "date: 2022-06-21\n",
    "draft: false\n",
    "code-fold: true\n",
    "toc: true\n",
    "description: Schedule jobs on a bottleneck machine and multiple machines\n",
    "categories: [pyomo, modeling]\n",
    "---"
   ]
  },
  {
   "cell_type": "code",
   "execution_count": null,
   "id": "194b946f-d22a-406b-880b-5670c93c603d",
   "metadata": {},
   "outputs": [],
   "source": [
    "import pyomo.environ as pyo\n",
    "import pyomo.gdp as gdp\n",
    "import pandas as pd\n",
    "import matplotlib.pyplot as plt"
   ]
  },
  {
   "cell_type": "markdown",
   "id": "ebcea0bc-a071-480a-af20-1105f5afc20c",
   "metadata": {},
   "source": [
    "# Introduction - Schedule jobs on a bottleneck machine\n",
    "\n",
    "\"What should be done next?\" is a question one faces in many different situations.\n",
    "In this notebook we consider two scheduling problems:\n",
    "\n",
    "1. A single machine determines the throughput of an entiry production, for example because only one machine of this type is available, its the slowest machine in a production line, etc. . Such a machine is called a bottleneck machine. We ask for an optimal job schedule for the bottleneck machine.\n",
    "\n",
    "2. We have multiple machines and a set of jobs for them and ask for an optimal job schedule for the machines.\n",
    "\n",
    "Moreover each job has a start date (release), a duration time and a due time.\n",
    "\n",
    "Our task is to find an optimal sequence of jobs, but we have not said *what an optimal schedule is.*\n",
    "\n",
    "In practize there may be different answer to this question depending on the application and the circumstances. Hence we will consider the following key performance indicators (KPIs) to compare different schedules and measure their optimality\n",
    "\n",
    "- makespan, i.e. minimizing the total duration of the schedule\n",
    "- maximum of past due days among the jobs\n",
    "- number of jobs past due\n",
    "- number of jobs in time\n",
    "- sum of past due days\n",
    "- fraction of jobs on time\n",
    "\n",
    "This notebook is based on [@gueret1999applications, chap. 74] and [@PostekZocca2022]."
   ]
  },
  {
   "cell_type": "markdown",
   "id": "c2353f2f-d9d5-49cb-82d5-7bfbcb27579a",
   "metadata": {},
   "source": [
    "## Optimal vs. empirical schedules\n",
    "\n",
    "In order to see the benefit of mathematical optimization we proceed as follows:\n",
    "\n",
    "1. We visualize and compute KPIs for certain empirical schedules.\n",
    "1. We visualize and compute KPIs for optimal schedules with respect to different KPIs.\n",
    "1. We determine an optimal solution for a given set of jobs and a given sets of machines.\n"
   ]
  },
  {
   "cell_type": "markdown",
   "id": "99127b93-fe44-4e3a-b0eb-467e48394cac",
   "metadata": {},
   "source": [
    "## Example\n",
    "\n",
    "In our discussion we use the following example of jobs."
   ]
  },
  {
   "cell_type": "code",
   "execution_count": null,
   "id": "a10b71f3-71eb-4aa8-ae2a-50277baab8f6",
   "metadata": {},
   "outputs": [
    {
     "data": {
      "text/html": [
       "<div>\n",
       "<style scoped>\n",
       "    .dataframe tbody tr th:only-of-type {\n",
       "        vertical-align: middle;\n",
       "    }\n",
       "\n",
       "    .dataframe tbody tr th {\n",
       "        vertical-align: top;\n",
       "    }\n",
       "\n",
       "    .dataframe thead th {\n",
       "        text-align: right;\n",
       "    }\n",
       "</style>\n",
       "<table border=\"1\" class=\"dataframe\">\n",
       "  <thead>\n",
       "    <tr style=\"text-align: right;\">\n",
       "      <th></th>\n",
       "      <th>release time</th>\n",
       "      <th>duration in hours</th>\n",
       "      <th>due time</th>\n",
       "    </tr>\n",
       "  </thead>\n",
       "  <tbody>\n",
       "    <tr>\n",
       "      <th>A</th>\n",
       "      <td>2</td>\n",
       "      <td>5</td>\n",
       "      <td>10</td>\n",
       "    </tr>\n",
       "    <tr>\n",
       "      <th>B</th>\n",
       "      <td>5</td>\n",
       "      <td>6</td>\n",
       "      <td>21</td>\n",
       "    </tr>\n",
       "    <tr>\n",
       "      <th>C</th>\n",
       "      <td>4</td>\n",
       "      <td>8</td>\n",
       "      <td>15</td>\n",
       "    </tr>\n",
       "    <tr>\n",
       "      <th>D</th>\n",
       "      <td>0</td>\n",
       "      <td>4</td>\n",
       "      <td>10</td>\n",
       "    </tr>\n",
       "    <tr>\n",
       "      <th>E</th>\n",
       "      <td>0</td>\n",
       "      <td>2</td>\n",
       "      <td>5</td>\n",
       "    </tr>\n",
       "    <tr>\n",
       "      <th>F</th>\n",
       "      <td>8</td>\n",
       "      <td>3</td>\n",
       "      <td>15</td>\n",
       "    </tr>\n",
       "    <tr>\n",
       "      <th>G</th>\n",
       "      <td>9</td>\n",
       "      <td>2</td>\n",
       "      <td>22</td>\n",
       "    </tr>\n",
       "  </tbody>\n",
       "</table>\n",
       "</div>"
      ],
      "text/plain": [
       "   release time  duration in hours  due time\n",
       "A             2                  5        10\n",
       "B             5                  6        21\n",
       "C             4                  8        15\n",
       "D             0                  4        10\n",
       "E             0                  2         5\n",
       "F             8                  3        15\n",
       "G             9                  2        22"
      ]
     },
     "execution_count": null,
     "metadata": {},
     "output_type": "execute_result"
    }
   ],
   "source": [
    "jobs = {\n",
    "    'A': {'release':2, 'duration': 5, 'due': 10},\n",
    "    'B': {'release':5, 'duration': 6, 'due': 21},\n",
    "    'C': {'release':4, 'duration': 8, 'due': 15},\n",
    "    'D': {'release':0, 'duration': 4, 'due': 10},\n",
    "    'E': {'release':0, 'duration': 2, 'due':  5},\n",
    "    'F': {'release':8, 'duration': 3, 'due': 15},\n",
    "    'G': {'release':9, 'duration': 2, 'due': 22}\n",
    "}\n",
    "pd.DataFrame(jobs).T.rename(columns = {'release': 'release time', \n",
    "                                       'duration': 'duration in hours',\n",
    "                                      'due':'due time'})"
   ]
  },
  {
   "cell_type": "markdown",
   "id": "7c9d6eed-5d47-4e73-a058-6d674d32f8b5",
   "metadata": {},
   "source": [
    "## GANTT charts\n",
    "\n",
    "Schedules can be visualised using GANTT charts. In the next cells we define some helper functions, for example to plot a Gantt chart.\n",
    "\n",
    "Afterwards we consider empirical schedules, in particular we consider:\n",
    "\n",
    "- First-In First-Out (FIFO)\n",
    "- Last-In, First-Out (LIFO)\n",
    "- Shortest Processing Time First (SPT)\n",
    "- Earliest Due Data (EDD)"
   ]
  },
  {
   "cell_type": "code",
   "execution_count": null,
   "id": "ad6859dd-23f6-405b-8a44-0eb120947f27",
   "metadata": {},
   "outputs": [],
   "source": [
    "# copy and pasted from jeffrey !\n",
    "def gantt(JOBS, SCHEDULE={}):\n",
    "    bw = 0.3\n",
    "    plt.figure(figsize=(12, 0.7*(len(JOBS.keys()))))\n",
    "    idx = 0\n",
    "    for j in sorted(JOBS.keys()):\n",
    "        x = JOBS[j]['release']\n",
    "        y = JOBS[j]['due']\n",
    "        plt.fill_between([x,y],[idx-bw,idx-bw],[idx+bw,idx+bw], color='cyan', alpha=0.6)\n",
    "        if j in SCHEDULE.keys():\n",
    "            x = SCHEDULE[j]['start']\n",
    "            y = SCHEDULE[j]['finish']\n",
    "            plt.fill_between([x,y],[idx-bw,idx-bw],[idx+bw,idx+bw], color='red', alpha=0.5)\n",
    "            plt.plot([x,y,y,x,x], [idx-bw,idx-bw,idx+bw,idx+bw,idx-bw],color='k')\n",
    "            plt.text((SCHEDULE[j]['start'] + SCHEDULE[j]['finish'])/2.0,idx,\n",
    "                'Job ' + j, color='white', weight='bold',\n",
    "                horizontalalignment='center', verticalalignment='center')\n",
    "        idx += 1\n",
    "\n",
    "    plt.ylim(-0.5, idx-0.5)\n",
    "    plt.title('Job Schedule')\n",
    "    plt.xlabel('Time')\n",
    "    plt.ylabel('Jobs')\n",
    "    plt.yticks(range(len(JOBS)), JOBS.keys())\n",
    "    plt.grid()\n",
    "    xlim = plt.xlim()\n",
    "    \n",
    "    if SCHEDULE:\n",
    "        for j in SCHEDULE.keys():\n",
    "            if 'machine' not in SCHEDULE[j].keys():\n",
    "                SCHEDULE[j]['machine'] = 1\n",
    "        MACHINES = sorted(set([SCHEDULE[j]['machine'] for j in SCHEDULE.keys()]))\n",
    "\n",
    "        plt.figure(figsize=(12, 0.7*len(MACHINES)))\n",
    "        for j in sorted(SCHEDULE.keys()):\n",
    "            idx = MACHINES.index(SCHEDULE[j]['machine'])\n",
    "            x = SCHEDULE[j]['start']\n",
    "            y = SCHEDULE[j]['finish']\n",
    "            plt.fill_between([x,y],[idx-bw,idx-bw],[idx+bw,idx+bw], color='red', alpha=0.5)\n",
    "            plt.plot([x,y,y,x,x], [idx-bw,idx-bw,idx+bw,idx+bw,idx-bw],color='k')\n",
    "            plt.text((SCHEDULE[j]['start'] + SCHEDULE[j]['finish'])/2.0,idx,\n",
    "                'Job ' + j, color='white', weight='bold',\n",
    "                horizontalalignment='center', verticalalignment='center')\n",
    "        plt.xlim(xlim)\n",
    "        plt.ylim(-0.5, len(MACHINES)-0.5)\n",
    "        plt.title('Machine Schedule')\n",
    "        plt.yticks(range(len(MACHINES)), MACHINES)\n",
    "        plt.ylabel('Machines')\n",
    "        plt.grid()"
   ]
  },
  {
   "cell_type": "code",
   "execution_count": null,
   "id": "36c8a512-1130-4c53-8a28-3e8c62aebc73",
   "metadata": {},
   "outputs": [],
   "source": [
    "# jeffrery's code !\n",
    "def schedule(JOBS, order):\n",
    "    \"\"\"Schedule a dictionary of JOBS on a single machine in a specified order.\"\"\"\n",
    "    start = 0\n",
    "    finish = 0\n",
    "    SCHEDULE = {}\n",
    "    for job in order:\n",
    "        start = max(JOBS[job]['release'], finish)\n",
    "        finish = start + JOBS[job]['duration']\n",
    "        SCHEDULE[job] = {'start': start, 'finish': finish}\n",
    "    return SCHEDULE"
   ]
  },
  {
   "cell_type": "code",
   "execution_count": null,
   "id": "69aab08f-b1f9-489b-a35e-bbc8d653e7de",
   "metadata": {},
   "outputs": [],
   "source": [
    "# mainly jeffrery's code !\n",
    "def schedule_from_model(m, machines = 1):\n",
    "    SCHEDULE = {}\n",
    "    for j in m.jobs:\n",
    "        if machines == 1:\n",
    "            tmp = 1\n",
    "        else:\n",
    "            tmp = [mach for mach in machines if pyo.value(m.job_to_machine[j,mach]) == 1][0]\n",
    "        SCHEDULE[j] = {\n",
    "            'start': m.start[j](), \n",
    "            'finish': m.start[j]() + m.duration[j],\n",
    "            'machine': tmp\n",
    "        }\n",
    "    return SCHEDULE"
   ]
  },
  {
   "cell_type": "code",
   "execution_count": null,
   "id": "c7529c64-a43f-4958-8a61-eb5ad5d0f7d2",
   "metadata": {},
   "outputs": [],
   "source": [
    "# jeffreys code\n",
    "## KPI for job schedule\n",
    "def kpi(JOBS, SCHEDULE):\n",
    "    KPI = {}\n",
    "    KPI['Makespan'] = max(SCHEDULE[job]['finish'] for job in SCHEDULE)\n",
    "    KPI['Max Pastdue'] = max(max(0, SCHEDULE[job]['finish'] - JOBS[job]['due']) for job in SCHEDULE)\n",
    "    KPI['Sum of Pastdue'] = sum(max(0, SCHEDULE[job]['finish'] - JOBS[job]['due']) for job in SCHEDULE)\n",
    "    KPI['Number Pastdue'] = sum(SCHEDULE[job]['finish'] > JOBS[job]['due'] for job in SCHEDULE)\n",
    "    KPI['Number on Time'] = sum(SCHEDULE[job]['finish'] <= JOBS[job]['due'] for job in SCHEDULE)\n",
    "    KPI['Fraction on Time'] = KPI['Number on Time']/len(SCHEDULE)\n",
    "    return KPI"
   ]
  },
  {
   "cell_type": "markdown",
   "id": "21ec9522-a7bd-4145-aab3-178ae07dbb02",
   "metadata": {},
   "source": [
    "# Empirical schedules"
   ]
  },
  {
   "cell_type": "markdown",
   "id": "af19fe60-f506-4203-91f8-9ec696f598f6",
   "metadata": {},
   "source": [
    "## A Manual Schedule\n",
    "\n",
    "By specifying schedules we can evaluate and compare them. The following snippet shows how the user can specify a schedule and judge its performance through the KPIs.\n",
    "\n",
    "We invite the reader to spend some minutes trying to find a better schedule.\n",
    "Spoiler: The given schedule here is already optimal in a way we will see later."
   ]
  },
  {
   "cell_type": "code",
   "execution_count": null,
   "id": "8fac1bcb-5a5c-4a0f-b35b-a1a94c859c15",
   "metadata": {},
   "outputs": [
    {
     "data": {
      "text/plain": [
       "{'Makespan': 30,\n",
       " 'Max Pastdue': 15,\n",
       " 'Sum of Pastdue': 16,\n",
       " 'Number Pastdue': 2,\n",
       " 'Number on Time': 5,\n",
       " 'Fraction on Time': 0.7142857142857143}"
      ]
     },
     "execution_count": null,
     "metadata": {},
     "output_type": "execute_result"
    },
    {
     "data": {
      "image/png": "[encoded data removed]",
      "text/plain": [
       "<Figure size 864x352.8 with 1 Axes>"
      ]
     },
     "metadata": {
      "needs_background": "light"
     },
     "output_type": "display_data"
    },
    {
     "data": {
      "image/png": "[encoded data removed]",
      "text/plain": [
       "<Figure size 864x50.4 with 1 Axes>"
      ]
     },
     "metadata": {
      "needs_background": "light"
     },
     "output_type": "display_data"
    }
   ],
   "source": [
    "# define schedule\n",
    "job_order = ['E','A','D','F','B','G','C']\n",
    "\n",
    "# visualize schedule\n",
    "SCHEDULE = schedule(jobs, order=job_order)\n",
    "gantt(jobs, SCHEDULE)\n",
    "kpi(jobs, SCHEDULE)"
   ]
  },
  {
   "cell_type": "markdown",
   "id": "8d3b2bdc-0987-4dd2-a734-b247835d6a9e",
   "metadata": {},
   "source": [
    "## Alphabetic schedule\n",
    "\n",
    "Lets assume the schedule is given by the names of the Jobs. This chould represent a case in which the schedule is predefined through its names by a human or by previous processes."
   ]
  },
  {
   "cell_type": "code",
   "execution_count": null,
   "id": "c300d899-a8c8-4cce-b6c9-dc980d4550d8",
   "metadata": {},
   "outputs": [
    {
     "data": {
      "text/plain": [
       "{'Makespan': 32,\n",
       " 'Max Pastdue': 22,\n",
       " 'Sum of Pastdue': 68,\n",
       " 'Number Pastdue': 5,\n",
       " 'Number on Time': 2,\n",
       " 'Fraction on Time': 0.2857142857142857}"
      ]
     },
     "execution_count": null,
     "metadata": {},
     "output_type": "execute_result"
    },
    {
     "data": {
      "image/png": "[encoded data removed]",
      "text/plain": [
       "<Figure size 864x352.8 with 1 Axes>"
      ]
     },
     "metadata": {
      "needs_background": "light"
     },
     "output_type": "display_data"
    },
    {
     "data": {
      "image/png": "[encoded data removed]",
      "text/plain": [
       "<Figure size 864x50.4 with 1 Axes>"
      ]
     },
     "metadata": {
      "needs_background": "light"
     },
     "output_type": "display_data"
    }
   ],
   "source": [
    "SCHEDULE = schedule(jobs, order=sorted(jobs.keys()))\n",
    "gantt(jobs, SCHEDULE)\n",
    "kpi(jobs, SCHEDULE)"
   ]
  },
  {
   "cell_type": "markdown",
   "id": "39cf35b3-831d-480f-8b80-cf2dd7431f99",
   "metadata": {},
   "source": [
    "## FIFO - first in first out\n",
    "\n",
    "We evaluate a schedule, in which the ordering is defined by the release time of the job, i.e. what comes first is done first."
   ]
  },
  {
   "cell_type": "code",
   "execution_count": null,
   "id": "7a34dd9b-ac11-419a-9a2f-5c309272bb07",
   "metadata": {},
   "outputs": [
    {
     "data": {
      "text/plain": [
       "{'Makespan': 30,\n",
       " 'Max Pastdue': 13,\n",
       " 'Sum of Pastdue': 31,\n",
       " 'Number Pastdue': 6,\n",
       " 'Number on Time': 1,\n",
       " 'Fraction on Time': 0.14285714285714285}"
      ]
     },
     "execution_count": null,
     "metadata": {},
     "output_type": "execute_result"
    },
    {
     "data": {
      "image/png": "[encoded data removed]",
      "text/plain": [
       "<Figure size 864x352.8 with 1 Axes>"
      ]
     },
     "metadata": {
      "needs_background": "light"
     },
     "output_type": "display_data"
    },
    {
     "data": {
      "image/png": "[encoded data removed]",
      "text/plain": [
       "<Figure size 864x50.4 with 1 Axes>"
      ]
     },
     "metadata": {
      "needs_background": "light"
     },
     "output_type": "display_data"
    }
   ],
   "source": [
    "def fifo(JOBS):\n",
    "    order_by_release = sorted(JOBS, key=lambda job: JOBS[job]['release'])\n",
    "    return schedule(JOBS, order_by_release)\n",
    "\n",
    "gantt(jobs, fifo(jobs))\n",
    "kpi(jobs, fifo(jobs))"
   ]
  },
  {
   "cell_type": "markdown",
   "id": "335a378e-136a-4801-9740-dacb43d4caac",
   "metadata": {},
   "source": [
    "## LIFO - last in first out\n",
    "\n",
    "We put the jobs on a stack as follows: At time $t$ we put all jobs with release time equal to $t$ on top of the stack. If the machine has a free capacity, we assign the job which is on top of the stack to the machine and remove the job from the stack."
   ]
  },
  {
   "cell_type": "code",
   "execution_count": null,
   "id": "b06ae7fe-d9f0-4241-a5d3-757150775c8d",
   "metadata": {},
   "outputs": [
    {
     "data": {
      "text/plain": [
       "{'Makespan': 30,\n",
       " 'Max Pastdue': 20,\n",
       " 'Sum of Pastdue': 34,\n",
       " 'Number Pastdue': 3,\n",
       " 'Number on Time': 4,\n",
       " 'Fraction on Time': 0.5714285714285714}"
      ]
     },
     "execution_count": null,
     "metadata": {},
     "output_type": "execute_result"
    },
    {
     "data": {
      "image/png": "[encoded data removed]",
      "text/plain": [
       "<Figure size 864x352.8 with 1 Axes>"
      ]
     },
     "metadata": {
      "needs_background": "light"
     },
     "output_type": "display_data"
    },
    {
     "data": {
      "image/png": "[encoded data removed]",
      "text/plain": [
       "<Figure size 864x50.4 with 1 Axes>"
      ]
     },
     "metadata": {
      "needs_background": "light"
     },
     "output_type": "display_data"
    }
   ],
   "source": [
    "def lifo(JOBS):\n",
    "    unfinished_jobs = set(JOBS.keys())\n",
    "    start = 0\n",
    "    while len(unfinished_jobs) > 0:\n",
    "        start = max(start, min(JOBS[job]['release'] for job in unfinished_jobs))\n",
    "        lifo = {job:JOBS[job]['release'] for job in unfinished_jobs if JOBS[job]['release'] <= start}\n",
    "        job = max(lifo, key=lifo.get)\n",
    "        finish = start + JOBS[job]['duration']\n",
    "        unfinished_jobs.remove(job)\n",
    "        SCHEDULE[job] = {'machine': 1, 'start': start, 'finish': finish}\n",
    "        start = finish\n",
    "    return SCHEDULE          \n",
    "    \n",
    "gantt(jobs, lifo(jobs))\n",
    "kpi(jobs, lifo(jobs))"
   ]
  },
  {
   "cell_type": "markdown",
   "id": "7ebf3df4-d65a-4372-8bec-680cd844a669",
   "metadata": {},
   "source": [
    "## SPT - shortest processing time\n",
    "\n",
    "Shortest processing time (SPT) is a scheduling policy that selects for execution the waiting job with the smallest execution time.\n"
   ]
  },
  {
   "cell_type": "code",
   "execution_count": null,
   "id": "a672724a-32b8-4a70-a650-e9cc364bd3f0",
   "metadata": {},
   "outputs": [
    {
     "data": {
      "text/plain": [
       "{'Makespan': 30,\n",
       " 'Max Pastdue': 15,\n",
       " 'Sum of Pastdue': 18,\n",
       " 'Number Pastdue': 4,\n",
       " 'Number on Time': 3,\n",
       " 'Fraction on Time': 0.42857142857142855}"
      ]
     },
     "execution_count": null,
     "metadata": {},
     "output_type": "execute_result"
    },
    {
     "data": {
      "image/png": "[encoded data removed]",
      "text/plain": [
       "<Figure size 864x352.8 with 1 Axes>"
      ]
     },
     "metadata": {
      "needs_background": "light"
     },
     "output_type": "display_data"
    },
    {
     "data": {
      "image/png": "[encoded data removed]",
      "text/plain": [
       "<Figure size 864x50.4 with 1 Axes>"
      ]
     },
     "metadata": {
      "needs_background": "light"
     },
     "output_type": "display_data"
    }
   ],
   "source": [
    "def spt(JOBS):\n",
    "    unfinished_jobs = set(JOBS.keys())\n",
    "    start = 0\n",
    "    while len(unfinished_jobs) > 0:\n",
    "        start = max(start, min(JOBS[job]['release'] for job in unfinished_jobs))\n",
    "        spt = {job:JOBS[job]['duration'] for job in unfinished_jobs if JOBS[job]['release'] <= start}\n",
    "        job = min(spt, key=spt.get)\n",
    "        finish = start + JOBS[job]['duration']\n",
    "        unfinished_jobs.remove(job)\n",
    "        SCHEDULE[job] = {'machine': 1, 'start': start, 'finish': finish}\n",
    "        start = finish\n",
    "    return SCHEDULE          \n",
    "    \n",
    "gantt(jobs, spt(jobs))\n",
    "kpi(jobs, spt(jobs))"
   ]
  },
  {
   "cell_type": "markdown",
   "id": "9146d29a-b71f-47ed-b650-8eebc01e06b7",
   "metadata": {},
   "source": [
    "## EDD - earliest due date\n",
    "\n",
    "Earliest due date (EDD) is a dynamic priority scheduling algorithm used in real-time operating systems to place processes in a priority queue. Whenever a scheduling event occurs (task finishes, new task released, etc.) the queue will be searched for the process closest to its deadline."
   ]
  },
  {
   "cell_type": "code",
   "execution_count": null,
   "id": "1933d11b-5fca-480e-afa0-8e04cdb82ce2",
   "metadata": {},
   "outputs": [
    {
     "data": {
      "text/plain": [
       "{'Makespan': 30,\n",
       " 'Max Pastdue': 8,\n",
       " 'Sum of Pastdue': 27,\n",
       " 'Number Pastdue': 5,\n",
       " 'Number on Time': 2,\n",
       " 'Fraction on Time': 0.2857142857142857}"
      ]
     },
     "execution_count": null,
     "metadata": {},
     "output_type": "execute_result"
    },
    {
     "data": {
      "image/png": "[encoded data removed]",
      "text/plain": [
       "<Figure size 864x352.8 with 1 Axes>"
      ]
     },
     "metadata": {
      "needs_background": "light"
     },
     "output_type": "display_data"
    },
    {
     "data": {
      "image/png": "[encoded data removed]",
      "text/plain": [
       "<Figure size 864x50.4 with 1 Axes>"
      ]
     },
     "metadata": {
      "needs_background": "light"
     },
     "output_type": "display_data"
    }
   ],
   "source": [
    "def edd(JOBS):\n",
    "    unfinished_jobs = set(JOBS.keys())\n",
    "    start = 0\n",
    "    while len(unfinished_jobs) > 0:\n",
    "        start = max(start, min(JOBS[job]['release'] for job in unfinished_jobs))\n",
    "        edd = {job:JOBS[job]['due'] for job in unfinished_jobs if JOBS[job]['release'] <= start}\n",
    "        job = min(edd, key=edd.get)\n",
    "        finish = start + JOBS[job]['duration']\n",
    "        unfinished_jobs.remove(job)\n",
    "        SCHEDULE[job] = {'machine': 1, 'start': start, 'finish': finish}\n",
    "        start = finish\n",
    "    return SCHEDULE          \n",
    "    \n",
    "gantt(jobs, edd(jobs))\n",
    "kpi(jobs, edd(jobs))"
   ]
  },
  {
   "cell_type": "markdown",
   "id": "c470ad88-ef2e-4a06-ada3-35ad31bb6f6b",
   "metadata": {},
   "source": [
    "# Optimal schedules - one machine\n",
    "\n",
    "## Modeling\n",
    "\n",
    "We give a algebraic representation of the model. \n",
    "\n",
    "### Sets\n",
    "\n",
    "- $J$ set of unique job IDs $j$\n",
    "- $order:= \\{(i,j)~|~i,j\\in J\\}$ - used to define weather job $j$ is executed before job $i$ or not \n",
    "\n",
    "### Parameter\n",
    "\n",
    "- $due_j$ due time of job $j$\n",
    "- $duration_j$ duration of job $j$\n",
    "- $release_j$ time job $j$ becomes available for processing\n"
   ]
  },
  {
   "cell_type": "markdown",
   "id": "88b8c27d-50ff-46d3-8ca8-14001af43387",
   "metadata": {},
   "source": [
    "### Decision variables \n",
    "\n",
    "- $start_j$ start of job $j$\n",
    "\n",
    "### State variables \n",
    "\n",
    "- $finished_j$ time by which job $j$ finishes\n",
    "- $pastdue_j$ time by which job $j$ is past due\n",
    "- $early_j$ time by which job $j$ is finished early\n"
   ]
  },
  {
   "cell_type": "markdown",
   "id": "05c2fdcc-a937-4a26-93d7-469b86bcb94d",
   "metadata": {},
   "source": [
    "### Constraints\n",
    "\n",
    "1. job can not start until it is released for processing\n",
    "\n",
    "$$\n",
    "start_j\\geq release_j\n",
    "$$\n",
    "\n",
    "2. expressing timeline and how time variables are related\n",
    "\n",
    "$$\n",
    "\\begin{array}{rl}\n",
    "start_j + duration_j + early_j &= due_j + pastdue_j \\\\\n",
    "early_j & \\geq 0 \\\\\n",
    "pastdue_j & \\geq 0\n",
    "\\end{array}\n",
    "$$\n",
    "\n",
    "3. definition of the objective `makespan` \n",
    "\n",
    "$$\n",
    "finish_j \\leq makespan\n",
    "$$\n",
    "\n",
    "4. definition of state variable `finish_j`\n",
    "\n",
    "$$\n",
    "start_j + duration_j = finish_j\n",
    "$$\n",
    "\n",
    "5. No pair of jobs operates on the same machine at the same time.\n",
    "\n",
    "This can be easily express as a set of disjunctions as follows:\n",
    "\n",
    "$$\n",
    "\\left[finish_i \\leq start_j \\right] \\vee \\left[finish_j \\leq start_i \\right], \\; \\forall i<j\n",
    "$$\n"
   ]
  },
  {
   "cell_type": "markdown",
   "id": "06e7fbd9-edd6-49b7-a020-2b05189f9af2",
   "metadata": {},
   "source": [
    "### Objective\n",
    "\n",
    "As we have mentioned in the introduction the application and circumstances define what an optimal schedule is.\n",
    "\n",
    "## Implementation\n",
    "\n",
    "The following implementation allows optimizing with respect to the following objectives:\n",
    "- `makespan`, i.e. the time to complete all jobs\n",
    "- `sum_pastdue`, i.e. sum of past due "
   ]
  },
  {
   "cell_type": "code",
   "execution_count": null,
   "id": "5616b5d4-0532-4b9c-b127-bdecdd099e7d",
   "metadata": {},
   "outputs": [],
   "source": [
    "def model_1_machine(jobs, optimize = \"makespan\"):\n",
    "    \n",
    "    m = pyo.ConcreteModel()\n",
    "    \n",
    "    # sets\n",
    "    m.jobs = pyo.Set(initialize = jobs.keys())\n",
    "    m.order = pyo.Set(initialize = m.jobs * m.jobs, dimen = 2, filter = lambda m,i,j : i < j)\n",
    "    \n",
    "    # parameters\n",
    "    @m.Param(m.jobs, doc = \"job due time\")\n",
    "    def due(m,i):\n",
    "        return jobs[i]['due']\n",
    "    @m.Param(m.jobs, doc = \"job duration time\")\n",
    "    def duration(m,i):\n",
    "        return jobs[i]['duration']\n",
    "    @m.Param(m.jobs, doc = \"job release time\")\n",
    "    def release(m,i):\n",
    "        return jobs[i]['release']\n",
    "    \n",
    "    # upper bound on decision variables, in this case we choose the worst case \n",
    "    max_time = sum(m.duration[i] for i in m.jobs) + max(m.release[i] for i in m.jobs)\n",
    "    \n",
    "    # decision variables\n",
    "    m.start = pyo.Var(m.jobs, domain = pyo.NonNegativeReals, bounds = (0, max_time))\n",
    "    ## additional variables\n",
    "    m.finish = pyo.Var(m.jobs, domain = pyo.NonNegativeReals, bounds = (0, max_time))\n",
    "    m.pastdue = pyo.Var(m.jobs, domain = pyo.NonNegativeReals, bounds = (0, max_time))\n",
    "    m.early = pyo.Var(m.jobs, domain = pyo.NonNegativeReals, bounds = (0,max_time))\n",
    "    \n",
    "    # addtional variables for objectives\n",
    "    m.makespan = pyo.Var(domain = pyo.NonNegativeReals, bounds = (0, max_time), doc = \"time until all jobs are done\")\n",
    "    m.maxpastdue = pyo.Var(domain = pyo.NonNegativeReals, bounds = (0,max_time), doc = \"time\")\n",
    "    m.ispastdue = pyo.Var(m.jobs, domain = pyo.Binary)\n",
    "    \n",
    "    # objective\n",
    "    if optimize == 'makespan':\n",
    "        m.OBJ = pyo.Objective(expr = m.makespan, sense = pyo.minimize)\n",
    "    elif optimize == 'sum_pastdue':\n",
    "        m.OBJ = pyo.Objective(expr = sum([m.pastdue[i] for i in m.jobs]), sense = pyo.minimize)\n",
    "    else:\n",
    "        print('wrong value for parameter optimize. allowed are \"makespan\" or \"sum_pastdue\" optimize = makespan used instead.')\n",
    "        m.OBJ = pyo.Objective(expr = m.makespan, sense = pyo.minimize)\n",
    "\n",
    "    # constraints\n",
    "    @m.Constraint(m.jobs)\n",
    "    def job_finish(m,i, doc = \"defines job time finish\"):\n",
    "        return m.finish[i] == m.start[i] + m.duration[i]\n",
    "    @m.Constraint(m.jobs, doc = \"release before start\")\n",
    "    def start_after_release(m,i):\n",
    "        return m.start[i] >= m.release[i]\n",
    "    @m.Constraint(m.jobs, doc =\"describe position of job w.r.t. time in schedule\")\n",
    "    def time_relations(m,i):\n",
    "        return m.start[i] + m.duration[i] + m.early[i] == m.due[i] + m.pastdue[i]\n",
    "    @m.Constraint(m.jobs, doc = \"finish time lower than make span\")\n",
    "    def finish_lower_makespan(m,i):\n",
    "        return m.finish[i] <= m.makespan\n",
    "    \n",
    "    m.schedule = gdp.Disjunction(m.order, rule = lambda m,i,j:\n",
    "                                [m.finish[i] <= m.start[j],\n",
    "                                 m.finish[j] <= m.start[i]])\n",
    "    \n",
    "    @m.Constraint(m.jobs, doc = \"past due lower than max past due\")\n",
    "    def pastdue_lower_maxpastdue(m,i):\n",
    "        return m.pastdue[i] <= m.maxpastdue\n",
    "    @m.Constraint(m.jobs, doc =\"\")\n",
    "    def pastdue_lower_max_time(m,i):\n",
    "        return m.pastdue[i] <= max_time * m.ispastdue[i]\n",
    "    pyo.TransformationFactory('gdp.hull').apply_to(m)\n",
    "    pyo.SolverFactory('glpk').solve(m)#.write()\n",
    "    \n",
    "    return m"
   ]
  },
  {
   "cell_type": "markdown",
   "id": "56ca0b06-dae3-411a-ac2b-ef4186040f1e",
   "metadata": {},
   "source": [
    "### Optimal `makespan`\n",
    "\n",
    "By defintion `makespan` is the time to complete all jobs."
   ]
  },
  {
   "cell_type": "code",
   "execution_count": null,
   "id": "88e0ef9b-c491-4c29-8978-b6489f07c563",
   "metadata": {},
   "outputs": [
    {
     "data": {
      "text/plain": [
       "{'Makespan': 30.0,\n",
       " 'Max Pastdue': 11.0,\n",
       " 'Sum of Pastdue': 29.0,\n",
       " 'Number Pastdue': 3,\n",
       " 'Number on Time': 4,\n",
       " 'Fraction on Time': 0.5714285714285714}"
      ]
     },
     "execution_count": null,
     "metadata": {},
     "output_type": "execute_result"
    },
    {
     "data": {
      "image/png": "[encoded data removed]",
      "text/plain": [
       "<Figure size 864x352.8 with 1 Axes>"
      ]
     },
     "metadata": {
      "needs_background": "light"
     },
     "output_type": "display_data"
    },
    {
     "data": {
      "image/png": "[encoded data removed]",
      "text/plain": [
       "<Figure size 864x50.4 with 1 Axes>"
      ]
     },
     "metadata": {
      "needs_background": "light"
     },
     "output_type": "display_data"
    }
   ],
   "source": [
    "model = model_1_machine(jobs, optimize = \"makespan\")\n",
    "SCHEDULE = schedule_from_model(model)\n",
    "gantt(jobs, SCHEDULE)\n",
    "kpi(jobs, SCHEDULE)"
   ]
  },
  {
   "cell_type": "markdown",
   "id": "2a926020-cd77-4e75-83f9-499067f394a8",
   "metadata": {},
   "source": [
    "# Optimal `sum past due`\n",
    "\n",
    "By definition `sum_pastdue` is sum of the times the jobs are past due."
   ]
  },
  {
   "cell_type": "code",
   "execution_count": null,
   "id": "1d0bcfaa-2323-4a5c-a567-72882cdffb54",
   "metadata": {},
   "outputs": [
    {
     "data": {
      "text/plain": [
       "{'Makespan': 30.0,\n",
       " 'Max Pastdue': 15.0,\n",
       " 'Sum of Pastdue': 16.0,\n",
       " 'Number Pastdue': 2,\n",
       " 'Number on Time': 5,\n",
       " 'Fraction on Time': 0.7142857142857143}"
      ]
     },
     "execution_count": null,
     "metadata": {},
     "output_type": "execute_result"
    },
    {
     "data": {
      "image/png": "[encoded data removed]",
      "text/plain": [
       "<Figure size 864x352.8 with 1 Axes>"
      ]
     },
     "metadata": {
      "needs_background": "light"
     },
     "output_type": "display_data"
    },
    {
     "data": {
      "image/png": "[encoded data removed]",
      "text/plain": [
       "<Figure size 864x50.4 with 1 Axes>"
      ]
     },
     "metadata": {
      "needs_background": "light"
     },
     "output_type": "display_data"
    }
   ],
   "source": [
    "model = model_1_machine(jobs, optimize = \"sum_pastdue\")\n",
    "SCHEDULE = schedule_from_model(model)\n",
    "gantt(jobs, SCHEDULE)\n",
    "kpi(jobs, SCHEDULE)"
   ]
  },
  {
   "cell_type": "markdown",
   "id": "0a374c0e-9008-4a93-8a79-84df246e5d3d",
   "metadata": {},
   "source": [
    "# Optimal schedules - multiple machines \n",
    "\n",
    "Because the previous model can be extended to multiple machines easily we include this case in this notebook."
   ]
  },
  {
   "cell_type": "markdown",
   "id": "2c5e2729-6086-4959-bf31-40166b0d1a31",
   "metadata": {},
   "source": [
    "## Modeling\n",
    "\n",
    "The algebraic representation of the model is the following:\n",
    "\n",
    "## Sets\n",
    "\n",
    "- $machines$ - elements are abbreviated with $m$\n",
    "- $jobs$ - elements are abbreviated with $j$ or $i$\n",
    "- $order:= jobs \\times jobs$ - schedule order of jobs\n",
    "\n",
    "## Parameters\n",
    "- $release_j$\n",
    "- $duration_j$\n",
    "- $due_j$\n",
    "- $BigM$ - big M integer in modeling the disjunctions\n",
    "\n",
    "## Variables\n",
    "\n",
    "### Decision variables\n",
    "\n",
    "- $start_i$ - time job $i$ starts\n",
    "- $job\\_to\\_machine_{j,m}$ - binary variable, 1 iff job $j$ is assigned to machine $m$\n",
    "\n",
    "### State variables\n",
    "\n",
    "- $pastdue_i$ - time job $i$ is past due\n",
    "- $early_i$ - time job $i$ is finished early\n",
    "\n",
    "\n",
    "### Assignment to machines\n",
    "- $\\text{job_to_machine}_{j,m}$ - binary assingment of jobs to machine; $\\text{job_to_machine}_{j,m}==1$ iff job $j$ is executed on $m$\n",
    "                                                                        \n",
    "### Objective vars\n",
    "- makespan - non negative real\n",
    "- ispastdue - binary, 1 iff job finish past due\n",
    "- maxpastdue - non negative real"
   ]
  },
  {
   "cell_type": "markdown",
   "id": "809f6cc2-f3a9-4116-8cc2-1e1b620c216d",
   "metadata": {},
   "source": [
    "### Constraints\n",
    "\n",
    "Because the following model should work for different objective functions some constraints might be unused for a given objective function, but we believe it is easy to identify them.\n",
    "\n",
    "$$\n",
    "\\begin{array}{llc}\n",
    "  start_j \\geq release_j & \\;\\forall j\\in jobs & c_1\\\\\n",
    "  start_j + duration_j + early_j = due_j + pastdue_j & \\;\\forall j\\in jobs &c_2\\\\\n",
    "  [early_j==0] \\vee [pastdue_j == 0] & \\;\\forall j\\in jobs & d_1\\\\\n",
    "  [pastdue_j == 0] \\vee [ispastdue_j == 1] & \\;\\forall j\\in jobs & d_2\\\\\n",
    "  \\sum_m jobs\\_to\\_machine_{j,m} = 1 & \\;\\forall j\\in jobs, \\forall m \\in machines & c_3\\\\\n",
    "  pastdue_j <= maxpastdue & \\;\\forall j\\in jobs & c_4\\\\\n",
    "  start_j + duration_j <= makespan & \\;\\forall j\\in jobs & c_5\\\\\n",
    "  [T1] \\vee_{i,j,m} [T2] & \\;\\forall i,j \\in order, \\forall m \\in machines & d_3\n",
    "\\end{array}\n",
    "$$\n",
    "\n",
    "where\n",
    "$$\n",
    "\\begin{array}{c}\n",
    "T1 := start_i + duration_i \\leq start_j + M(1-jobs\\_to\\_machine_{i,m}) +  M(1-jobs\\_to\\_machine_{j,m})\\\\\n",
    "T2 := start_j + duration_j \\leq start_i + M(1-jobs\\_to\\_machine_{i,m}) +  M(1-jobs\\_to\\_machine_{j,m})\n",
    "\\end{array}\n",
    "$$"
   ]
  },
  {
   "cell_type": "markdown",
   "id": "9e5b8a1c-deeb-40fd-baac-d2294bf2b8aa",
   "metadata": {},
   "source": [
    "### Constraints explaination\n",
    "\n",
    "- $c_1$ job starts after its release\n",
    "- $c_2$ relation among time variables - required because not all jobs may finish before their due time\n",
    "- $d_1$ job is either early or pastdue\n",
    "- $d_2$ definition of objective variable ispastdue\n",
    "- $c_3$ each job is assign to one and only one machine\n",
    "- $c_4$ definition of objective variable maxpastdue\n",
    "- $c_5$ definition of objective variable makespan\n",
    "- $d_3$ job $j$ does not start before previous job $i$ has finished on machine $m$"
   ]
  },
  {
   "cell_type": "markdown",
   "id": "0c996c98-521c-4119-84c3-e97dbafcaf2f",
   "metadata": {},
   "source": [
    "## Example scheduling multiple machines\n",
    "\n",
    "We consider two machines which should perform the following jobs:"
   ]
  },
  {
   "cell_type": "code",
   "execution_count": null,
   "id": "6da46135-2cce-4b94-a502-b2f4c672417a",
   "metadata": {},
   "outputs": [],
   "source": [
    "machines = ['1','2']\n",
    "jobs = {\n",
    "    'A': {'release':2, 'duration': 5, 'due': 10},\n",
    "    'B': {'release':5, 'duration': 6, 'due': 21},\n",
    "    'C': {'release':4, 'duration': 8, 'due': 15},\n",
    "    'D': {'release':0, 'duration': 4, 'due': 10},\n",
    "    'E': {'release':0, 'duration': 2, 'due':  5},\n",
    "    'F': {'release':8, 'duration': 3, 'due': 15},\n",
    "    'G': {'release':9, 'duration': 2, 'due': 22}\n",
    "}"
   ]
  },
  {
   "cell_type": "code",
   "execution_count": null,
   "id": "2332900a-1592-4481-9267-0ec94395c91d",
   "metadata": {},
   "outputs": [],
   "source": [
    "def model_multiple_machines(jobs, machines, optimize = 'makespan'):\n",
    "    #instanciate model\n",
    "    m = pyo.ConcreteModel(\"multiple jobs, multiple workers\")\n",
    "    \n",
    "    # index sets\n",
    "    m.jobs = pyo.Set(initialize = jobs.keys())\n",
    "    m.machines = pyo.Set(initialize = machines)\n",
    "    m.order = pyo.Set(initialize = m.jobs * m.jobs, dimen = 2, filter = lambda m,i,j: i<j)\n",
    "    \n",
    "    # parameters\n",
    "    @m.Param(m.jobs, doc = \"job due time\")\n",
    "    def due(m,i):\n",
    "        return jobs[i]['due']\n",
    "    @m.Param(m.jobs, doc = \"job duration time\")\n",
    "    def duration(m,i):\n",
    "        return jobs[i]['duration']\n",
    "    @m.Param(m.jobs, doc = \"job release time\")\n",
    "    def release(m,i):\n",
    "        return jobs[i]['release']\n",
    "    # doc = \"big M integer in modeling disjunctions\" and apply hull transform\n",
    "    BigM = max([m.release[j] for j in m.jobs]) + sum([m.duration[j] for j in m.jobs])\n",
    "    \n",
    "    # variables\n",
    "    ## decision / timeline variables\n",
    "    m.start = pyo.Var(m.jobs, domain = pyo.NonNegativeReals,\n",
    "                      bounds = (0, 1000) ,\n",
    "                      doc = \"start time of job\")\n",
    "    m.pastdue = pyo.Var(m.jobs, domain = pyo.NonNegativeReals,\n",
    "                        bounds = (0, 1000),\n",
    "                        doc = \"time job is past due\")\n",
    "    m.early = pyo.Var(m.jobs, domain = pyo.NonNegativeReals,\n",
    "                      bounds = (0, 10000),\n",
    "                      doc = \"time job is finished early\")\n",
    "    \n",
    "    ## objective variables\n",
    "    m.makespan = pyo.Var(domain = pyo.NonNegativeReals, doc = \"time to complete all jobs\")\n",
    "    m.ispastdue = pyo.Var(m.jobs, domain = pyo.Binary, doc = \"binary iff job is overdue\")\n",
    "    m.maxpastdue = pyo.Var(domain = pyo.NonNegativeReals, doc = \"\")\n",
    "    \n",
    "    ## additional variales\n",
    "    m.job_to_machine = pyo.Var(m.jobs, m.machines, domain = pyo.Binary, doc = \"binary assignment job to machine\")\n",
    "    \n",
    "    # objective\n",
    "    if optimize == 'makespan':\n",
    "        m.OBJ = pyo.Objective(expr = m.makespan, sense = pyo.minimize)\n",
    "    elif optimize == 'sum_pastdue':\n",
    "        m.OBJ = pyo.Objective(expr = sum([m.pastdue[i] for i in m.jobs]), sense = pyo.minimize)\n",
    "    else:\n",
    "        print('wrong value for parameter optimize. allowed are \"makespan\" or \"sum_pastdue\" optimize = makespan used instead.')\n",
    "        m.OBJ = pyo.Objective(expr = m.makespan, sense = pyo.minimize)\n",
    "\n",
    "    # constraint / disjunctions\n",
    "    @m.Constraint(m.jobs, doc = \"job start after release\")\n",
    "    def c1(m,i):\n",
    "        return m.start[i] >= m.release[i]\n",
    "    \n",
    "    @m.Constraint(m.jobs, doc = \"time variable relation\")\n",
    "    def c2(m,i):\n",
    "        return m.start[i] + m.duration[i] + m.early[i] == m.due[i] + m.pastdue[i]\n",
    "    \n",
    "    @m.Disjunction(m.jobs, doc = \"job either early or pastdue\")\n",
    "    def d1(m,i):\n",
    "        return [m.early[i]==0, m.pastdue[i]==0]\n",
    "    \n",
    "    @m.Disjunction(m.jobs, doc = \"\")\n",
    "    def d2(m,j):\n",
    "        return [m.pastdue[j] == 0, m.ispastdue[j] == 1],\n",
    "    \n",
    "    @m.Constraint(m.jobs, doc = \"each job is assigned to one and only one machine\")\n",
    "    def c3(m,j):\n",
    "        return (sum(m.job_to_machine[j,machine] for machine in m.machines) == 1)\n",
    "    \n",
    "    @m.Constraint(m.jobs, doc = \"define objective variable maxpastdue\")\n",
    "    def  c4(m,j):\n",
    "        return m.pastdue[j] <= m.maxpastdue\n",
    "    \n",
    "    @m.Constraint(m.jobs, doc = \"define objective variable makespan\")\n",
    "    def c6(m,i):\n",
    "        return m.start[i] + m.duration[i] <= m.makespan\n",
    "    \n",
    "    @m.Disjunction(m.machines, m.order, doc = \"ordering of jobs\")\n",
    "    def d3(m, machine, i,j):\n",
    "        return [m.start[i] + m.duration[i] <= m.start[j] + BigM * ((1 - m.job_to_machine[i,machine]) + (1 - m.job_to_machine[j,machine])),\n",
    "                m.start[j] + m.duration[j] <= m.start[i] + BigM * ((1 - m.job_to_machine[i,machine]) + (1 - m.job_to_machine[j,machine]))\n",
    "               ]\n",
    "    transform = pyo.TransformationFactory('gdp.hull')\n",
    "    transform.apply_to(m)\n",
    "    # solve model\n",
    "    pyo.SolverFactory('glpk').solve(m)\n",
    "    return m"
   ]
  },
  {
   "cell_type": "markdown",
   "id": "78455772-771a-4e62-8766-b0813691e256",
   "metadata": {},
   "source": [
    "## Optimal `makespan` - multiple machines"
   ]
  },
  {
   "cell_type": "code",
   "execution_count": null,
   "id": "44e6047d-f12a-46b4-bf3d-7e4f0e97d308",
   "metadata": {},
   "outputs": [
    {
     "data": {
      "text/plain": [
       "{'Makespan': 15.0,\n",
       " 'Max Pastdue': 0,\n",
       " 'Sum of Pastdue': 0,\n",
       " 'Number Pastdue': 0,\n",
       " 'Number on Time': 7,\n",
       " 'Fraction on Time': 1.0}"
      ]
     },
     "execution_count": null,
     "metadata": {},
     "output_type": "execute_result"
    },
    {
     "data": {
      "image/png": "[encoded data removed]",
      "text/plain": [
       "<Figure size 864x352.8 with 1 Axes>"
      ]
     },
     "metadata": {
      "needs_background": "light"
     },
     "output_type": "display_data"
    },
    {
     "data": {
      "image/png": "[encoded data removed]",
      "text/plain": [
       "<Figure size 864x100.8 with 1 Axes>"
      ]
     },
     "metadata": {
      "needs_background": "light"
     },
     "output_type": "display_data"
    }
   ],
   "source": [
    "model = model_multiple_machines(jobs, machines, optimize = 'makespan')\n",
    "SCHEDULE = schedule_from_model(model, machines)\n",
    "gantt(jobs, SCHEDULE)\n",
    "kpi(jobs, SCHEDULE)"
   ]
  },
  {
   "cell_type": "markdown",
   "id": "e299970f-89e4-4e94-9054-e014c6d00a4d",
   "metadata": {},
   "source": [
    "# Optimal `sum past due` - multiple machines\n",
    "\n",
    "By definition `sum_pastdue` is sum of the times the jobs are past due."
   ]
  },
  {
   "cell_type": "code",
   "execution_count": null,
   "id": "a4d3fbec-c8bc-4330-b3d6-da8559a8a80a",
   "metadata": {},
   "outputs": [
    {
     "data": {
      "text/plain": [
       "{'Makespan': 21.0,\n",
       " 'Max Pastdue': 0,\n",
       " 'Sum of Pastdue': 0,\n",
       " 'Number Pastdue': 0,\n",
       " 'Number on Time': 7,\n",
       " 'Fraction on Time': 1.0}"
      ]
     },
     "execution_count": null,
     "metadata": {},
     "output_type": "execute_result"
    },
    {
     "data": {
      "image/png": "[encoded data removed]",
      "text/plain": [
       "<Figure size 864x352.8 with 1 Axes>"
      ]
     },
     "metadata": {
      "needs_background": "light"
     },
     "output_type": "display_data"
    },
    {
     "data": {
      "image/png": "[encoded data removed]",
      "text/plain": [
       "<Figure size 864x100.8 with 1 Axes>"
      ]
     },
     "metadata": {
      "needs_background": "light"
     },
     "output_type": "display_data"
    }
   ],
   "source": [
    "model = model_multiple_machines(jobs, machines, optimize = 'sum_pastdue')\n",
    "SCHEDULE = schedule_from_model(model, machines)\n",
    "gantt(jobs, SCHEDULE)\n",
    "kpi(jobs, SCHEDULE)"
   ]
  },
  {
   "cell_type": "markdown",
   "id": "a19a47dd-3522-433d-9758-cd5612859b8a",
   "metadata": {},
   "source": [
    "# Discussion one machines\n",
    "\n",
    "We see that for the choosen empirical schedules maximal 3 jobs are done on time, whereas for the optimal solutions either 4 jobs (optimize `makespan`) or 5 jobs (optimize `sum_pastdue`) are done on time.\n",
    "\n",
    "# Discussion multiple machines\n",
    "\n",
    "Having a second machine let us find schedules in which all jobs are done on time.\n",
    "\n",
    "But we see that the optimal solutions are different\n",
    "- with respect to the sum of `pastdue` leads to a solution in which one machine has breaks \n",
    "- whereas for `makespan` both machines are constantly working on jobs."
   ]
  }
 ],
 "metadata": {
  "kernelspec": {
   "display_name": "python3",
   "language": "python",
   "name": "python3"
  }
 },
 "nbformat": 4,
 "nbformat_minor": 5
}
