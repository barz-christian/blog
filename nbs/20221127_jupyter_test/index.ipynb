{
 "cells": [
  {
   "cell_type": "raw",
   "id": "542a0138-7205-4b39-9d21-943286b5026f",
   "metadata": {},
   "source": [
    "---\n",
    "title: \"Pyomo and solver test\"\n",
    "author: \"cbarz\"\n",
    "date: \"2022-11-27\"\n",
    "categories: [test]\n",
    "description: jupyter notebook to test pyomo and solver installation\n",
    "---"
   ]
  },
  {
   "cell_type": "code",
   "execution_count": null,
   "id": "a43983ee-8ade-4743-a065-d9d53058aa73",
   "metadata": {},
   "outputs": [],
   "source": [
    "#| default_exp setup_test"
   ]
  },
  {
   "cell_type": "markdown",
   "id": "30fd0108-251b-4e94-9ab7-b8cb4290ae29",
   "metadata": {},
   "source": [
    "# Pyomo and solver test\n",
    "\n",
    "We give the implementation of a simple model in pyomo to test the correct installation and in particular the solvers.\n",
    "\n",
    "Expectation: code is executed without errors\n",
    "\n",
    "## installation\n",
    "\n",
    "```\n",
    "conda env create -f environment.yml\n",
    "conda activate blog\n",
    "```"
   ]
  },
  {
   "cell_type": "code",
   "execution_count": null,
   "id": "a98e4761-48de-4f16-83ea-7763ad83ded2",
   "metadata": {},
   "outputs": [],
   "source": [
    "import pyomo.environ as pyo"
   ]
  },
  {
   "cell_type": "code",
   "execution_count": null,
   "id": "03349247-0531-460d-8b60-1c9505d86584",
   "metadata": {},
   "outputs": [],
   "source": [
    "model = pyo.ConcreteModel()\n",
    "\n",
    "model.x = pyo.Var([1,2], domain=pyo.NonNegativeReals)\n",
    "\n",
    "model.OBJ = pyo.Objective(expr = 2*model.x[1] + 3*model.x[2])\n",
    "\n",
    "model.Constraint1 = pyo.Constraint(expr = 3*model.x[1] + 4*model.x[2] >= 1)"
   ]
  },
  {
   "cell_type": "code",
   "execution_count": null,
   "id": "d0f1861b-155a-4f3f-a179-f29075187f87",
   "metadata": {},
   "outputs": [],
   "source": [
    "glpk_test = pyo.SolverFactory('glpk')\n",
    "#cbc_test = pyo.SolverFactory('cbc')\n",
    "#ipopt_test = pyo.SolverFactory('ipopt')"
   ]
  },
  {
   "cell_type": "code",
   "execution_count": null,
   "id": "1f1ffbe4-3554-445f-a704-f0e97ae13d27",
   "metadata": {},
   "outputs": [
    {
     "data": {
      "text/plain": [
       "{'Problem': [{'Name': 'unknown', 'Lower bound': 0.666666666666667, 'Upper bound': 0.666666666666667, 'Number of objectives': 1, 'Number of constraints': 2, 'Number of variables': 3, 'Number of nonzeros': 3, 'Sense': 'minimize'}], 'Solver': [{'Status': 'ok', 'Termination condition': 'optimal', 'Statistics': {'Branch and bound': {'Number of bounded subproblems': 0, 'Number of created subproblems': 0}}, 'Error rc': 0, 'Time': 0.013138532638549805}], 'Solution': [OrderedDict([('number of solutions', 0), ('number of solutions displayed', 0)])]}"
      ]
     },
     "execution_count": null,
     "metadata": {},
     "output_type": "execute_result"
    }
   ],
   "source": [
    "#glpk_test.solve(model)"
   ]
  },
  {
   "cell_type": "code",
   "execution_count": null,
   "id": "e92b56ae-eb8f-4961-b9a8-d0b1597b9603",
   "metadata": {},
   "outputs": [
    {
     "name": "stdout",
     "output_type": "stream",
     "text": [
      "1 Set Declarations\n",
      "    x_index : Size=1, Index=None, Ordered=Insertion\n",
      "        Key  : Dimen : Domain : Size : Members\n",
      "        None :     1 :    Any :    2 : {1, 2}\n",
      "\n",
      "1 Var Declarations\n",
      "    x : Size=2, Index=x_index\n",
      "        Key : Lower : Value             : Upper : Fixed : Stale : Domain\n",
      "          1 :     0 : 0.333333333333333 :  None : False : False : NonNegativeReals\n",
      "          2 :     0 :               0.0 :  None : False : False : NonNegativeReals\n",
      "\n",
      "1 Objective Declarations\n",
      "    OBJ : Size=1, Index=None, Active=True\n",
      "        Key  : Active : Sense    : Expression\n",
      "        None :   True : minimize : 2*x[1] + 3*x[2]\n",
      "\n",
      "1 Constraint Declarations\n",
      "    Constraint1 : Size=1, Index=None, Active=True\n",
      "        Key  : Lower : Body            : Upper : Active\n",
      "        None :   1.0 : 3*x[1] + 4*x[2] :  +Inf :   True\n",
      "\n",
      "4 Declarations: x_index x OBJ Constraint1\n"
     ]
    }
   ],
   "source": [
    "model.pprint()"
   ]
  },
  {
   "cell_type": "code",
   "execution_count": null,
   "id": "ccc697b1-79e3-442e-a875-be6be915f2d7",
   "metadata": {},
   "outputs": [
    {
     "data": {
      "text/plain": [
       "{'Problem': [{'Name': 'unknown', 'Lower bound': 0.6666666667, 'Upper bound': 0.6666666667, 'Number of objectives': 1, 'Number of constraints': 2, 'Number of variables': 3, 'Number of nonzeros': 0, 'Sense': 'minimize'}], 'Solver': [{'Status': 'ok', 'User time': -1.0, 'System time': 0.0, 'Wallclock time': 0.0, 'Termination condition': 'optimal', 'Termination message': 'Model was solved to optimality (subject to tolerances), and an optimal solution is available.', 'Statistics': {'Branch and bound': {'Number of bounded subproblems': None, 'Number of created subproblems': None}, 'Black box': {'Number of iterations': 0}}, 'Error rc': 0, 'Time': 0.04025125503540039}], 'Solution': [OrderedDict([('number of solutions', 0), ('number of solutions displayed', 0)])]}"
      ]
     },
     "execution_count": null,
     "metadata": {},
     "output_type": "execute_result"
    }
   ],
   "source": [
    "##cbc_test.solve(model)"
   ]
  },
  {
   "cell_type": "code",
   "execution_count": null,
   "id": "61e470fb-563b-4783-bdac-1eced9136913",
   "metadata": {},
   "outputs": [
    {
     "name": "stdout",
     "output_type": "stream",
     "text": [
      "1 Set Declarations\n",
      "    x_index : Size=1, Index=None, Ordered=Insertion\n",
      "        Key  : Dimen : Domain : Size : Members\n",
      "        None :     1 :    Any :    2 : {1, 2}\n",
      "\n",
      "1 Var Declarations\n",
      "    x : Size=2, Index=x_index\n",
      "        Key : Lower : Value      : Upper : Fixed : Stale : Domain\n",
      "          1 :     0 : 0.33333333 :  None : False : False : NonNegativeReals\n",
      "          2 :     0 :        0.0 :  None : False : False : NonNegativeReals\n",
      "\n",
      "1 Objective Declarations\n",
      "    OBJ : Size=1, Index=None, Active=True\n",
      "        Key  : Active : Sense    : Expression\n",
      "        None :   True : minimize : 2*x[1] + 3*x[2]\n",
      "\n",
      "1 Constraint Declarations\n",
      "    Constraint1 : Size=1, Index=None, Active=True\n",
      "        Key  : Lower : Body            : Upper : Active\n",
      "        None :   1.0 : 3*x[1] + 4*x[2] :  +Inf :   True\n",
      "\n",
      "4 Declarations: x_index x OBJ Constraint1\n"
     ]
    }
   ],
   "source": [
    "model.pprint()"
   ]
  },
  {
   "cell_type": "code",
   "execution_count": null,
   "id": "a289db30-f512-48b7-af32-f951a804b338",
   "metadata": {},
   "outputs": [
    {
     "data": {
      "text/plain": [
       "{'Problem': [{'Lower bound': -inf, 'Upper bound': inf, 'Number of objectives': 1, 'Number of constraints': 1, 'Number of variables': 2, 'Sense': 'unknown'}], 'Solver': [{'Status': 'ok', 'Message': 'Ipopt 3.14.11\\\\x3a Optimal Solution Found', 'Termination condition': 'optimal', 'Id': 0, 'Error rc': 0, 'Time': 0.05022311210632324}], 'Solution': [OrderedDict([('number of solutions', 0), ('number of solutions displayed', 0)])]}"
      ]
     },
     "execution_count": null,
     "metadata": {},
     "output_type": "execute_result"
    }
   ],
   "source": [
    "##ipopt_test.solve(model)"
   ]
  },
  {
   "cell_type": "code",
   "execution_count": null,
   "id": "7aed126d-1d50-41ca-83e7-4bc7f35e32d0",
   "metadata": {},
   "outputs": [
    {
     "name": "stdout",
     "output_type": "stream",
     "text": [
      "1 Set Declarations\n",
      "    x_index : Size=1, Index=None, Ordered=Insertion\n",
      "        Key  : Dimen : Domain : Size : Members\n",
      "        None :     1 :    Any :    2 : {1, 2}\n",
      "\n",
      "1 Var Declarations\n",
      "    x : Size=2, Index=x_index\n",
      "        Key : Lower : Value                   : Upper : Fixed : Stale : Domain\n",
      "          1 :     0 :      0.3333333343972087 :  None : False : False : NonNegativeReals\n",
      "          2 :     0 : -2.3599945501636825e-09 :  None : False : False : NonNegativeReals\n",
      "\n",
      "1 Objective Declarations\n",
      "    OBJ : Size=1, Index=None, Active=True\n",
      "        Key  : Active : Sense    : Expression\n",
      "        None :   True : minimize : 2*x[1] + 3*x[2]\n",
      "\n",
      "1 Constraint Declarations\n",
      "    Constraint1 : Size=1, Index=None, Active=True\n",
      "        Key  : Lower : Body            : Upper : Active\n",
      "        None :   1.0 : 3*x[1] + 4*x[2] :  +Inf :   True\n",
      "\n",
      "4 Declarations: x_index x OBJ Constraint1\n"
     ]
    }
   ],
   "source": [
    "model.pprint()"
   ]
  },
  {
   "cell_type": "code",
   "execution_count": null,
   "id": "c54f3de4-0630-44f9-9a10-adb41a601ba1",
   "metadata": {},
   "outputs": [],
   "source": []
  }
 ],
 "metadata": {
  "kernelspec": {
   "display_name": "python3",
   "language": "python",
   "name": "python3"
  }
 },
 "nbformat": 4,
 "nbformat_minor": 5
}
