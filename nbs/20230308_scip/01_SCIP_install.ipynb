{
 "cells": [
  {
   "cell_type": "raw",
   "id": "96b4762c-7349-4099-95c3-b97ab5cb4c73",
   "metadata": {},
   "source": [
    "---\n",
    "title: \"SCIP - fast non-commercial solver got open source licence\"\n",
    "author: \"cbarz\"\n",
    "date: \"2023-03-03\"\n",
    "categories: [Solver]\n",
    "draft: false\n",
    "code-fold: false\n",
    "toc: true\n",
    "description: \"SCIP is of the fastest non-commercial solvers for MILP and MINLP. In this blog we give a quickstart to SCIP's python interface pyscipopt.\"\n",
    "---"
   ]
  },
  {
   "cell_type": "markdown",
   "id": "a90fea36-a35b-4c7c-82e2-7588a5555f23",
   "metadata": {},
   "source": [
    "# SCIP\n",
    "\n",
    "SCIP is currently one of the fastest non-commercial solvers for mixed integer programming and mixed integer nonlinear programming  It is also a framework for constraint integer programming and branch-cut-and-price. It allows low level user control of the solution process. \n",
    "\n",
    "Since 04.11.2022 its licensed under [Apache 2.0 License](http://www.apache.org/licenses/LICENSE-2.0) instead of an academic free use only.\n",
    "\n",
    "## Series content\n",
    "\n",
    "This notebook is meant as a quickstart on how to use SCIP's python `pyscipopt` for a reader with little familiarity with mathematical optimization. \n",
    "\n",
    "This series is based on [@scipbook], but as it explains also all basic concepts in a very detailed way, we hope that this condensed blog serie is helpful to readers experienced in mathematical optimization.\n",
    "\n",
    "Another reference is the official SCIP documentation[^2].\n",
    "\n",
    "\n",
    "[^2]: https://www.scipopt.org/doc-8.0.3/html/\n",
    "[^1]: https://scipbook.readthedocs.io/en/latest/intro.html\n",
    "\n"
   ]
  },
  {
   "cell_type": "markdown",
   "id": "a6ea22d5-0221-4cf2-ae7b-83101365a358",
   "metadata": {},
   "source": [
    "## Install \n",
    "\n",
    "SCIP is implemented as C callable library and a python interface is given by `pyscipopt`. In this notebook serie we will use the conda package:\n",
    "\n",
    "`conda install --channel conda-forge pyscipopt`\n",
    "\n",
    "To verify installation we use the following test taken from https://www.scipopt.org/doc-3.2.1/html/PYTHON_INTERFACE.php"
   ]
  },
  {
   "cell_type": "code",
   "execution_count": null,
   "id": "e0b81a06-dcb5-489b-96a4-d0cfe3be5ff1",
   "metadata": {},
   "outputs": [],
   "source": [
    "import pyscipopt as scip"
   ]
  },
  {
   "cell_type": "code",
   "execution_count": null,
   "id": "aad5a022-edc4-4c4e-afe4-61bb5715b398",
   "metadata": {},
   "outputs": [],
   "source": [
    "model = scip.Model(\"Example\")\n",
    "x = model.addVar(\"x\")\n",
    "y = model.addVar(\"y\", vtype=\"INTEGER\")\n",
    "model.setObjective(x + y)\n",
    "model.addCons(2*x - y*y >= 0)\n",
    "model.optimize()"
   ]
  },
  {
   "cell_type": "markdown",
   "id": "381efb4c-adc5-4657-a934-a9fd5581191d",
   "metadata": {},
   "source": [
    "## Quickstart\n",
    "\n",
    "In the following quickstart we will see:\n",
    "\n",
    "- How to define a optimization problem in pyscipopt.\n",
    "- How to aply scip to the model and extract the solution.\n",
    "\n",
    "To introduce the basic interface we use the following example from [@scipbook, introduction]\n",
    "\n",
    "$$\n",
    "\\begin{array}{lrl}\n",
    "\\max & 15 x_1 + 18 x_2 + 30 x_30 & \\\\\n",
    "s.t. & 2 x_1 + x_2 + x_3 & \\leq 60 \\\\\n",
    "     & x_1 + 2 x_2 + x_ 3 & \\leq 60 \\\\\n",
    "     & x_3 & \\leq 30 \\\\\n",
    "     & x_1,x_2,x_3 & \\geq 0\n",
    "\\end{array}\n",
    "$$"
   ]
  },
  {
   "cell_type": "code",
   "execution_count": null,
   "id": "41c4f303-949f-4fda-9a2c-987837a582b9",
   "metadata": {},
   "outputs": [],
   "source": [
    "# create object of class model \n",
    "m = scip.Model(\"scip book example - section introduction\")\n",
    "\n",
    "# add variables \n",
    "x1 = m.addVar(vtype=\"C\", lb = 0., name = \"x1\")\n",
    "x2 = m.addVar(vtype=\"C\", lb = 0., name = \"x2\")\n",
    "x3 = m.addVar(vtype=\"C\", lb = 0., name = \"x3\")\n",
    "\n",
    "# add constraint\n",
    "m.addCons(2*x1 + x2 + x3 <= 60)\n",
    "m.addCons(x1 + 2*x2 + x3 <= 60)\n",
    "m.addCons(x3 <= 30)\n",
    "\n",
    "# add objective\n",
    "m.setObjective(15*x1 + 18*x2 + 30*x3, sense = \"maximize\")\n",
    "\n",
    "# solve problem \n",
    "m.optimize()"
   ]
  },
  {
   "cell_type": "markdown",
   "id": "10a4c294-4ac3-4c2a-aa93-cbf87975e26a",
   "metadata": {},
   "source": [
    "## Basic model components"
   ]
  },
  {
   "cell_type": "markdown",
   "id": "e776c8f5-4f81-4000-9053-e106de5ad06d",
   "metadata": {},
   "source": [
    "### Add variable \n",
    "\n",
    "- `addVar(name=\"\", vtype=\"C\", lb=0.0, ub=None, obj=0.0, pricedVar = False)`\n",
    "- `vtype` - variable type: \n",
    "   - \"C\" = continuous,\n",
    "   - \"I\" = integer\n",
    "   - \"B\" = binary\n",
    "- `name` - variable name used for printing\n",
    "- `lb` - lower bound\n",
    "- `ub` - upper bound\n",
    "- `obj` - coefficient in objective function\n",
    "- `pricedVar` - used for column generation\n",
    "\n",
    "### Add constraints\n",
    "\n",
    "- `addCons(relation, name=\"\", ...)`   \n",
    "\n",
    "### Add objective \n",
    "\n",
    "-`setObjective(expression, sense=\"minimize\", clear=\"true\")`\n",
    "   - `sense` - direction  of the objective function\n",
    "   - `clear` - should the coeficients for all other variables should be set to zero"
   ]
  },
  {
   "cell_type": "markdown",
   "id": "4a90076f-4eef-4499-9a6a-b56e6b08587c",
   "metadata": {},
   "source": [
    "### Get solver status"
   ]
  },
  {
   "cell_type": "code",
   "execution_count": null,
   "id": "470fdc4e-1789-4dda-94dc-8b9b1c2ff6e1",
   "metadata": {},
   "outputs": [
    {
     "data": {
      "text/plain": [
       "'optimal'"
      ]
     },
     "execution_count": null,
     "metadata": {},
     "output_type": "execute_result"
    }
   ],
   "source": [
    "m.getStatus()"
   ]
  },
  {
   "cell_type": "markdown",
   "id": "45479728-55d1-42cc-a393-8b0642bf7816",
   "metadata": {},
   "source": [
    "### Extract solution"
   ]
  },
  {
   "cell_type": "code",
   "execution_count": null,
   "id": "4be39136-17ac-4678-b13c-d1ba5b1b092e",
   "metadata": {},
   "outputs": [
    {
     "name": "stdout",
     "output_type": "stream",
     "text": [
      "decision values\n",
      "10.0\n",
      "objective value\n",
      "1230.0\n"
     ]
    }
   ],
   "source": [
    "print(\"decision values\")\n",
    "print(m.getVal(x1))\n",
    "\n",
    "print(\"objective value\")\n",
    "print(m.getObjVal())"
   ]
  },
  {
   "cell_type": "markdown",
   "id": "9c4370dc-a0ff-41fb-96f8-3026d1b20bdb",
   "metadata": {},
   "source": [
    "# summary\n",
    "\n",
    "We saw the basic components of `pyscipopt` in order to create an optimization model. In the following notebooks we will look at some classical problems and how to solve them using SCIP."
   ]
  },
  {
   "cell_type": "code",
   "execution_count": null,
   "id": "7ef5a89a-d2b7-4fc3-9beb-37b869619eb9",
   "metadata": {},
   "outputs": [],
   "source": []
  }
 ],
 "metadata": {
  "kernelspec": {
   "display_name": "python3",
   "language": "python",
   "name": "python3"
  }
 },
 "nbformat": 4,
 "nbformat_minor": 5
}
