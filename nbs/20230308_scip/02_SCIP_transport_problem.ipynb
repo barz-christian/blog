{
 "cells": [
  {
   "cell_type": "raw",
   "id": "a46c01c9-c44b-4707-b2a2-693fb4e4ef55",
   "metadata": {},
   "source": [
    "---\n",
    "title: \"Transport problems with SCIP\"\n",
    "author: \"cbarz\"\n",
    "date: \"2023-03-04\"\n",
    "categories: [modeling, scip]\n",
    "draft: false\n",
    "code-fold: false\n",
    "toc: true\n",
    "description: We are solving a some transport problems using pyscipopt and show how do sensitivity analysis.\n",
    "---"
   ]
  },
  {
   "cell_type": "markdown",
   "id": "319c576e-9e88-4146-820b-a74780603691",
   "metadata": {},
   "source": [
    "# Introduction / example\n",
    "\n",
    "Suppose you can produce goods in different factories and sell them on different markets. Each factory has its own production capacity and each market has its own demand, which we may know after elaborating a survey. As the distances of the markets and the factories are different, we are looking for a transport route which minimizes the total costs.\n",
    "\n",
    "The problem can be visualized as follows\n",
    "\n",
    "![TransportProblem](transport_problem1.drawio.svg)\n",
    "\n",
    "\n",
    "Reference: [@scipbook, introduction:Transport problem]\n",
    "\n",
    "## Learnings\n",
    "\n",
    "Again we assume that the reader is familiar with basic concepts of optimization, but we are writting the blog in a way that the unexperienced readers see the benefit of these techniques, while considering them as blakc boxes.\n",
    "\n",
    "- SCIP `multidic`\n",
    "- get slack variable values, sensitivity analysis, shadow prices, ... (all synonyms)"
   ]
  },
  {
   "cell_type": "markdown",
   "id": "5d97e06e-8eb2-40c6-bdd0-abcfcc0c7ee3",
   "metadata": {},
   "source": [
    "# Algebraic formulation \n",
    "\n",
    "The given problem can be described by the following abstract model:\n",
    "\n",
    "## Sets\n",
    "\n",
    "- $I$ customer set\n",
    "- $J$ factory set\n",
    "\n",
    "## Variables\n",
    "\n",
    "- $x_{i,j}$ amount of goods transported from factory $j$ to customer $i$\n",
    "\n",
    "## Parameter\n",
    "\n",
    "- $c_{i,j}$ transportation costs from factory $i$ to customer $j$\n",
    "- $d_i$ demand of customer $i$\n",
    "- $m_j$ production capacity of factory $j$\n",
    "\n",
    "## LP-Model\n",
    "\n",
    "$$\n",
    "\\begin{array}{llll}\n",
    "\\min & \\sum_{i,j} c_{i,j} x_{i,j} & & \\\\\n",
    "s.t. & \\sum_j x_{i,j}             & = d_i & \\forall i\\\\\n",
    "     & \\sum_i x_{i,j}             & \\leq m_j & \\forall j\\\\\n",
    "     & x_{i,j}                    & \\geq 0 & \\forall i,j\n",
    "\\end{array}\n",
    "$$"
   ]
  },
  {
   "cell_type": "code",
   "execution_count": null,
   "id": "447f3021-473c-434b-8b46-f89685d85ec1",
   "metadata": {},
   "outputs": [],
   "source": [
    "import pyscipopt as scip"
   ]
  },
  {
   "cell_type": "code",
   "execution_count": null,
   "id": "73e01d87-d311-4d41-a23d-1dd99e1e8e55",
   "metadata": {},
   "outputs": [],
   "source": [
    "# demand\n",
    "I, d = scip.multidict({1:80, 2:270, 3:250, 4:160, 5:180})\n",
    "# capacities\n",
    "J, M = scip.multidict({1:500, 2:500, 3:500})"
   ]
  },
  {
   "cell_type": "code",
   "execution_count": null,
   "id": "79e4b735-e6b8-48c9-9401-1e61988a3beb",
   "metadata": {},
   "outputs": [],
   "source": [
    "# transport costs\n",
    "c = {(1,1):4,    (1,2):6,    (1,3):9,\n",
    "     (2,1):5,    (2,2):4,    (2,3):7,\n",
    "     (3,1):6,    (3,2):3,    (3,3):3,\n",
    "     (4,1):8,    (4,2):5,    (4,3):3,\n",
    "     (5,1):10,   (5,2):8,    (5,3):4,\n",
    "     }"
   ]
  },
  {
   "cell_type": "code",
   "execution_count": null,
   "id": "33668283-a74f-4a7a-898d-b770c5f8eda9",
   "metadata": {},
   "outputs": [],
   "source": [
    "m = scip.Model()   \n",
    "\n",
    "# variables\n",
    "x = {}\n",
    "for i in I:\n",
    "    for j in J:\n",
    "        x[i,j] = m.addVar(vtype = 'C', name = 'x(%s,%s)' % (i,j))\n",
    "    \n",
    "# constraints\n",
    "for i in I:\n",
    "    m.addCons(scip.quicksum( x[i,j] for j in J if (i,j) in x) == d[i],\n",
    "              name = 'CustomerDemand(%s)' % i)\n",
    "for j in J:\n",
    "    m.addCons(scip.quicksum( x[i,j] for i in I if (i,j) in x) <= M[j],\n",
    "              name = 'FactoryCapacity(%s)' % j)\n",
    "    \n",
    "# objective\n",
    "m.setObjective(scip.quicksum(c[i,j]*x[i,j] for (i,j) in x),\n",
    "               sense = 'minimize')   \n",
    "\n",
    "m.optimize()    "
   ]
  },
  {
   "cell_type": "code",
   "execution_count": null,
   "id": "76e68e80-071b-4442-9816-f3a32c6df2b3",
   "metadata": {},
   "outputs": [
    {
     "name": "stdout",
     "output_type": "stream",
     "text": [
      "optimal value: 3350.0\n",
      "send       80.0 goods from factory  1 to customer  1\n",
      "send      270.0 goods from factory  2 to customer  2\n",
      "send      230.0 goods from factory  2 to customer  3\n",
      "send       20.0 goods from factory  3 to customer  3\n",
      "send      160.0 goods from factory  3 to customer  4\n",
      "send      180.0 goods from factory  3 to customer  5\n"
     ]
    }
   ],
   "source": [
    "print(\"optimal value:\", m.getObjVal())\n",
    "epsilon = 1.e-6\n",
    "for (i,j) in x:\n",
    "    if m.getVal(x[i,j]) > epsilon:\n",
    "        print('send %10s goods from factory %2s to customer %2s' % (m.getVal(x[i,j]), j, i))"
   ]
  },
  {
   "cell_type": "markdown",
   "id": "81b76e34-aca1-4738-a59f-4fb6f41aab18",
   "metadata": {},
   "source": [
    "# Duals, shadow prices, sensitivity analysis ...\n",
    "\n",
    "A sensitivity analysis tells us how optimal solution and optimal value may change when we change the data used in the model. Since data may not always be considered as totally accurate, such analysis can be very helpful to the decision makers.\n",
    "\n",
    "## Example continued\n",
    "\n",
    "Suppose you believe your factory capacity got tight and you are considering an expansion and you ask yourself the following questions:\n",
    "\n",
    "- What kind of costs can be reduced by expanding each factory?\n",
    "- What is the additional profit you can make if you get additional orders from each customer?"
   ]
  },
  {
   "cell_type": "markdown",
   "id": "b3c7ae11-1fc3-425c-b621-206cbe88e35f",
   "metadata": {},
   "source": [
    "In order to investigate whether or not a factory should be expanded, we look at the values of the slack variables of the capacity constraints:\n",
    "\n",
    "$$\n",
    "\\sum_i x_{i,j}\\leq M_j\n",
    "$$\n",
    "\n",
    "We recall that $x_{i,j}$ denotes the amount of goods transported from factory $j$ to market $i$ and $M_j$ denotes the capacity of factory $j$.\n"
   ]
  },
  {
   "cell_type": "code",
   "execution_count": null,
   "id": "4994a2e9-b794-49d0-b4e8-6aeb1962f316",
   "metadata": {},
   "outputs": [],
   "source": []
  },
  {
   "cell_type": "code",
   "execution_count": null,
   "id": "fbceb7fd-6d2e-402b-aadf-c045867d03d4",
   "metadata": {},
   "outputs": [],
   "source": []
  }
 ],
 "metadata": {
  "kernelspec": {
   "display_name": "python3",
   "language": "python",
   "name": "python3"
  }
 },
 "nbformat": 4,
 "nbformat_minor": 5
}
