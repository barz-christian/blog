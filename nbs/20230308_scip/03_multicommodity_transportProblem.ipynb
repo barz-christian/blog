{
 "cells": [
  {
   "cell_type": "raw",
   "id": "3396fa14-5ee7-4522-b646-f0077a51f553",
   "metadata": {},
   "source": [
    "---\n",
    "title: \"Multi Commodoity transport problems with SCIP\"\n",
    "author: \"cbarz\"\n",
    "date: \"2023-03-12\"\n",
    "categories: [modeling, scip]\n",
    "draft: false\n",
    "code-fold: false\n",
    "toc: true\n",
    "description: We are solving a some transport problems using pyscipopt and show how do sensitivity analysis.\n",
    "---"
   ]
  },
  {
   "cell_type": "markdown",
   "id": "546f496b-7f28-4db4-8aef-711a72270f63",
   "metadata": {},
   "source": [
    "# introduction / example\n",
    "\n",
    "We generalize our transport problem to the case that we are producing multiple commodities in our factories. Again each factory has its own production capacity and the markets have their own demand for each commodity. Moreover the transport costs depends on the commodity.\n",
    "\n",
    "## content\n",
    "\n",
    "- json file as data input"
   ]
  },
  {
   "cell_type": "markdown",
   "id": "a962e6b0-ab78-4574-b647-7e203b20ea96",
   "metadata": {},
   "source": [
    "# algebraic description\n",
    "\n",
    "## sets\n",
    "\n",
    "- $I$ customer\n",
    "- $J$ factory\n",
    "- $K$ commodity\n",
    "\n",
    "## variables\n",
    "\n",
    "- $x_{i,j,k}$ transported amount of commodity $k$ form factory $j$ to customer $i$\n",
    "\n",
    "## parameters\n",
    "\n",
    "- $c_{i,j,k}$ transport costs of commodity $k$ form factory $j$ to customer $i$\n",
    "- $d_{i,k}$ demand of commodity $k$ in market $i$\n",
    "- $M_j$ capacity of factory $j$\n",
    "\n",
    "## constraints\n",
    "\n",
    "- (c1) fulfill demand in each market\n",
    "- (c2) do not exceed factory capacity\n",
    "\n",
    "## objective\n",
    "\n",
    "Minimize total costs\n",
    "\n",
    "## model\n",
    "\n",
    "$$\n",
    "\\begin{array}{lll}\n",
    "\\min & \\sum_{i,j,l} c_{i,j,k} x_{i,j,k} & \\\\\n",
    "s.t. & \\sum_j x_{i,j,k} = d_{i,k} & \\forall i,k \\\\\n",
    "     & \\sum_{i,k} x_{i,j,k} \\leq M_j & \\forall j \\\\\n",
    "     & x_{i,j,k} \\leq 0 & \n",
    "\\end{array}\n",
    "$$"
   ]
  },
  {
   "cell_type": "code",
   "execution_count": null,
   "id": "70e99471-ac75-4452-813d-cc522d06c8df",
   "metadata": {},
   "outputs": [],
   "source": [
    "import pyscipopt as scip\n",
    "import json"
   ]
  },
  {
   "cell_type": "code",
   "execution_count": null,
   "id": "e67b23d6-4e71-46b3-bd44-23dca0c262c6",
   "metadata": {},
   "outputs": [],
   "source": [
    "data = {\n",
    "    \"Name\": \"multi-commodity transportation\",\n",
    "    \n",
    "    \"Engine\": \"\",\n",
    "    \"TimeLimit\": \"\"\n",
    "\n",
    "}"
   ]
  },
  {
   "cell_type": "code",
   "execution_count": null,
   "id": "7fba6cf0-c32e-470a-834a-608888c97f37",
   "metadata": {},
   "outputs": [],
   "source": [
    "# data\n",
    "J,M = scip.multidict({1:3000, 2:3000, 3:3000})\n",
    "produce = {1:[2,4], 2:[1,2,3], 3:[2,3,4]}\n",
    "\n",
    "d = {(1,1):80,   (1,2):85,   (1,3):300,  (1,4):6,\n",
    "     (2,1):270,  (2,2):160,  (2,3):400,  (2,4):7,\n",
    "     (3,1):250,  (3,2):130,  (3,3):350,  (3,4):4,\n",
    "     (4,1):160,  (4,2):60,   (4,3):200,  (4,4):3,\n",
    "     (5,1):180,  (5,2):40,   (5,3):150,  (5,4):5\n",
    "     }\n",
    "I = set([i for (i,k) in d])\n",
    "K = set([k for (i,k) in d])\n",
    "\n",
    "weight = {1:5, 2:2, 3:3, 4:4}\n",
    "cost = {(1,1):4,  (1,2):6, (1,3):9,\n",
    "        (2,1):5,  (2,2):4, (2,3):7,\n",
    "        (3,1):6,  (3,2):3, (3,3):4,\n",
    "        (4,1):8,  (4,2):5, (4,3):3,\n",
    "        (5,1):10, (5,2):8, (5,3):4\n",
    "        }\n",
    "c = {}\n",
    "for i in I:\n",
    "    for j in J:\n",
    "        for k in produce[j]:\n",
    "            c[i, j, k] = cost[i,j] * weight[k]"
   ]
  },
  {
   "cell_type": "code",
   "execution_count": null,
   "id": "a90c2e85-d396-44bf-971f-995f1ff1e458",
   "metadata": {},
   "outputs": [],
   "source": [
    "def MultiCommoditityTransportation(I,J,K, c,d,M):\n",
    "    \n",
    "    model = scip.Model()\n",
    "    # vars\n",
    "    x = {}\n",
    "    for i in I:\n",
    "        for j in J:\n",
    "            for k in K:\n",
    "                x[i,j,k] = model.addVar(vtype = 'C',\n",
    "                                       name = 'x(%s,%s,%s)' %  (i,j,k))\n",
    "                \n",
    "    # constraints\n",
    "    for j in J:\n",
    "        model.addCons(scip.quicksum(x[i,j,k] for (i,j_,k) in x if j_ == j) <= M[j],\n",
    "                      name = 'FactoryCapacity(%s)' % j)\n",
    "        \n",
    "    for i in I:\n",
    "        for k in K:\n",
    "            model.addCons(scip.quicksum(x[i,j,k] for j in J if (i,j,k) in x) == d[i,k]\n",
    "            )\n",
    "\n",
    "    # objective\n",
    "    model.setObjective(scip.quicksum(c[i,j,k] * x[i,j,k]  for (i,j,k) in c),\n",
    "                      sense = 'minimize')\n",
    "    \n",
    "    # for post processing\n",
    "    model.data = x\n",
    "    \n",
    "    return model"
   ]
  },
  {
   "cell_type": "code",
   "execution_count": null,
   "id": "956929d2-1d4e-45c6-8d0a-ff628db43f24",
   "metadata": {},
   "outputs": [],
   "source": [
    "m = MultiCommoditityTransportation(I,J,K, c,d,M)\n",
    "m.optimize()"
   ]
  },
  {
   "cell_type": "code",
   "execution_count": null,
   "id": "5b8a3ddc-852a-4a4c-8405-350a803f5916",
   "metadata": {},
   "outputs": [
    {
     "name": "stdout",
     "output_type": "stream",
     "text": [
      "optimal value: 3420.0\n",
      "send       85.0 of commodity   2 from factory   1 to customer   1\n",
      "send      300.0 of commodity   3 from factory   1 to customer   1\n",
      "send        6.0 of commodity   4 from factory   2 to customer   1\n",
      "send       80.0 of commodity   1 from factory   3 to customer   1\n",
      "send      400.0 of commodity   3 from factory   1 to customer   2\n",
      "send      160.0 of commodity   2 from factory   2 to customer   2\n",
      "send        7.0 of commodity   4 from factory   2 to customer   2\n",
      "send      270.0 of commodity   1 from factory   3 to customer   2\n",
      "send      350.0 of commodity   3 from factory   1 to customer   3\n",
      "send      130.0 of commodity   2 from factory   2 to customer   3\n",
      "send        4.0 of commodity   4 from factory   2 to customer   3\n",
      "send      250.0 of commodity   1 from factory   3 to customer   3\n",
      "send      200.0 of commodity   3 from factory   1 to customer   4\n",
      "send        3.0 of commodity   4 from factory   2 to customer   4\n",
      "send      160.0 of commodity   1 from factory   3 to customer   4\n",
      "send       60.0 of commodity   2 from factory   3 to customer   4\n",
      "send      150.0 of commodity   3 from factory   1 to customer   5\n",
      "send        5.0 of commodity   4 from factory   2 to customer   5\n",
      "send      180.0 of commodity   1 from factory   3 to customer   5\n",
      "send       40.0 of commodity   2 from factory   3 to customer   5\n"
     ]
    }
   ],
   "source": [
    "print('optimal value:', m.getObjVal())\n",
    "epsilon =1.e-6\n",
    "x = m.data\n",
    "for (i,j,k) in x:\n",
    "    if m.getVal(x[i,j,k]) >= epsilon:\n",
    "        print('send %10s of commodity %3s from factory %3s to customer %3s' % (m.getVal(x[i,j,k]), k, j, i))"
   ]
  },
  {
   "cell_type": "code",
   "execution_count": null,
   "id": "7b1dad5a-ca1f-41d4-b8b1-f9c4c7006ed9",
   "metadata": {},
   "outputs": [],
   "source": []
  }
 ],
 "metadata": {
  "kernelspec": {
   "display_name": "python3",
   "language": "python",
   "name": "python3"
  }
 },
 "nbformat": 4,
 "nbformat_minor": 5
}
