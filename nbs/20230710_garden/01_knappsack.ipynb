{
 "cells": [
  {
   "cell_type": "raw",
   "id": "8ff14fa9-bea5-4bef-8804-c8e1657f55aa",
   "metadata": {},
   "source": [
    "---\n",
    "title: \"knappsack problem\"\n",
    "author: \"cbarz\"\n",
    "date: \"2023-07-10\"\n",
    "categories: [modeling, milp, pyomo]\n",
    "draft: true\n",
    "code-fold: false\n",
    "toc: true\n",
    "description: If you want to choose\n",
    "---"
   ]
  },
  {
   "cell_type": "markdown",
   "id": "023ec990-7314-4cfa-9dc9-cf5a77cc41bb",
   "metadata": {},
   "source": [
    "- notebook will be part of a series\n",
    "- long term goal will be a bilevel programm to optimize bed planning in the private garden\n",
    "- current idea:\n",
    "    - upper level problem: \"knappsack problem\"\n",
    "    - lower level problem: \"strip packing problem\""
   ]
  },
  {
   "cell_type": "markdown",
   "id": "d7ee6c06-b673-4afd-a5e9-916fd4062f2f",
   "metadata": {},
   "source": [
    "## outline\n",
    "\n",
    "1. introduce knappsack problem\n",
    "1. math description\n",
    "1. pyomo implementation\n",
    "1. example"
   ]
  },
  {
   "cell_type": "markdown",
   "id": "e3de69b3-4db4-4ff7-89a7-88eb7d968a60",
   "metadata": {},
   "source": [
    "# algebraic formulation - 0-1 knappsack problem\n",
    "\n",
    "$$\n",
    "\\begin{array}{lll}\n",
    "\\max & \\sum_i v_i x_i & \\\\\n",
    "s.t. & \\sum_i w_i x_i \\leq W & \\\\\n",
    "     & x_i \\in\\{0,1\\}\n",
    "\\end{array}\n",
    "$$\n",
    "\n",
    "## sets\n",
    "\n",
    "- $I$, set of items $i$\n",
    "\n",
    "## (decision) variables\n",
    "\n",
    "- $x_i$, binary, 1 iff item $i$ is put into knappsack\n",
    "\n",
    "## parameter\n",
    "\n",
    "- $v_i$ value of item $i$\n",
    "- $w_i$ weight of item $i$\n",
    "- $W$ capacity of knappsack\n"
   ]
  },
  {
   "cell_type": "code",
   "execution_count": null,
   "id": "f5c2b5ac-16eb-4652-89bc-cdf782113849",
   "metadata": {},
   "outputs": [],
   "source": [
    "import pyomo.environ as pyo\n",
    "import pandas as pd\n",
    "import numpy as np"
   ]
  },
  {
   "cell_type": "code",
   "execution_count": null,
   "id": "bf156852-07df-4e54-800e-4cc646c6bc22",
   "metadata": {},
   "outputs": [
    {
     "data": {
      "text/html": [
       "<div>\n",
       "<style scoped>\n",
       "    .dataframe tbody tr th:only-of-type {\n",
       "        vertical-align: middle;\n",
       "    }\n",
       "\n",
       "    .dataframe tbody tr th {\n",
       "        vertical-align: top;\n",
       "    }\n",
       "\n",
       "    .dataframe thead th {\n",
       "        text-align: right;\n",
       "    }\n",
       "</style>\n",
       "<table border=\"1\" class=\"dataframe\">\n",
       "  <thead>\n",
       "    <tr style=\"text-align: right;\">\n",
       "      <th></th>\n",
       "      <th>items</th>\n",
       "      <th>values</th>\n",
       "      <th>weights</th>\n",
       "      <th>capacity</th>\n",
       "    </tr>\n",
       "  </thead>\n",
       "  <tbody>\n",
       "    <tr>\n",
       "      <th>0</th>\n",
       "      <td>a</td>\n",
       "      <td>8</td>\n",
       "      <td>5</td>\n",
       "      <td>14</td>\n",
       "    </tr>\n",
       "    <tr>\n",
       "      <th>1</th>\n",
       "      <td>b</td>\n",
       "      <td>3</td>\n",
       "      <td>7</td>\n",
       "      <td>14</td>\n",
       "    </tr>\n",
       "    <tr>\n",
       "      <th>2</th>\n",
       "      <td>c</td>\n",
       "      <td>6</td>\n",
       "      <td>4</td>\n",
       "      <td>14</td>\n",
       "    </tr>\n",
       "    <tr>\n",
       "      <th>3</th>\n",
       "      <td>d</td>\n",
       "      <td>11</td>\n",
       "      <td>3</td>\n",
       "      <td>14</td>\n",
       "    </tr>\n",
       "  </tbody>\n",
       "</table>\n",
       "</div>"
      ],
      "text/plain": [
       "  items  values  weights  capacity\n",
       "0     a       8        5        14\n",
       "1     b       3        7        14\n",
       "2     c       6        4        14\n",
       "3     d      11        3        14"
      ]
     },
     "metadata": {},
     "output_type": "display_data"
    }
   ],
   "source": [
    "# data\n",
    "items = ['a','b','c','d']\n",
    "values = [8,3,6,11]\n",
    "weights= [5,7,4,3]\n",
    "capacity_limit = 14\n",
    "\n",
    "df = pd.DataFrame(\n",
    "    {'items' : items,\n",
    "     'values' : values,\n",
    "     'weights' : weights},\n",
    "    )\n",
    "df['capacity'] = capacity_limit\n",
    "\n",
    "display(df)\n",
    "\n",
    "data = {\n",
    "    'model_name': 'bounded_knappsack',\n",
    "    'problem_data' : df,\n",
    "    'solver': 'cbc'\n",
    "}"
   ]
  },
  {
   "cell_type": "code",
   "execution_count": null,
   "id": "a43e8c0a-53b5-41b1-b4bd-744eb57bfae2",
   "metadata": {},
   "outputs": [],
   "source": [
    "# model\n",
    "\n",
    "def knappsack_01(data):\n",
    "    pdata = data['problem_data']\n",
    "    \n",
    "    m = pyo.ConcreteModel(data['model_name'])\n",
    "    \n",
    "    ## sets\n",
    "    m.Item = pyo.Set(initialize = list(pdata['items']), \n",
    "                     doc = 'list of items')\n",
    "    # var\n",
    "    m.x = pyo.Var(m.Item, domain = pyo.Binary, \n",
    "                  doc = '1 if item is part of knappsack')\n",
    "    ## param\n",
    "    @m.Param(m.Item, doc ='value of item i')\n",
    "    def value(m,i):\n",
    "        return pdata.loc[pdata['items'] == i,'values'].values[0]\n",
    "    \n",
    "    @m.Param(m.Item, doc ='weight of item i')\n",
    "    def weight(m,i):\n",
    "        return pdata.loc[pdata['items'] == i,'weights'].values[0]\n",
    "    \n",
    "    @m.Param(doc = 'capacity limit')\n",
    "    def cap_limit(m):\n",
    "        return list(pdata['capacity'].unique())[0]\n",
    "    \n",
    "    ## objective\n",
    "    m.OBJ = pyo.Objective(expr = sum(m.value[i] * m.x[i] for i in m.Item), sense = pyo.maximize)\n",
    "    \n",
    "    ## constraints\n",
    "    @m.Constraint(doc = 'knappsack capacity limit')\n",
    "    def c1(m):\n",
    "        return sum(m.weight[i] * m.x[i] for i in m.Item) <= m.cap_limit\n",
    "    \n",
    "    solver = pyo.SolverFactory(data['solver'])\n",
    "    solver.solve(m)\n",
    "    \n",
    "    return m"
   ]
  },
  {
   "cell_type": "code",
   "execution_count": null,
   "id": "1cecfb4c-ba93-4234-868e-e337cc832acf",
   "metadata": {},
   "outputs": [],
   "source": [
    "m = knappsack_01(data)"
   ]
  },
  {
   "cell_type": "code",
   "execution_count": null,
   "id": "a556555f-9630-4207-b004-61ea1eab162e",
   "metadata": {},
   "outputs": [],
   "source": [
    "def extract_solution(m):\n",
    "    solution = {r: [pyo.value(m.x[r])==1.0] for r in m.Item}\n",
    "    output = pd.DataFrame(data = solution)\n",
    "    output.index = ['object in knappsack']\n",
    "    return output"
   ]
  },
  {
   "cell_type": "code",
   "execution_count": null,
   "id": "14eddae2-6dcc-4280-b24b-1c3194a92de2",
   "metadata": {},
   "outputs": [
    {
     "data": {
      "text/html": [
       "<div>\n",
       "<style scoped>\n",
       "    .dataframe tbody tr th:only-of-type {\n",
       "        vertical-align: middle;\n",
       "    }\n",
       "\n",
       "    .dataframe tbody tr th {\n",
       "        vertical-align: top;\n",
       "    }\n",
       "\n",
       "    .dataframe thead th {\n",
       "        text-align: right;\n",
       "    }\n",
       "</style>\n",
       "<table border=\"1\" class=\"dataframe\">\n",
       "  <thead>\n",
       "    <tr style=\"text-align: right;\">\n",
       "      <th></th>\n",
       "      <th>a</th>\n",
       "      <th>b</th>\n",
       "      <th>c</th>\n",
       "      <th>d</th>\n",
       "    </tr>\n",
       "  </thead>\n",
       "  <tbody>\n",
       "    <tr>\n",
       "      <th>object in knappsack</th>\n",
       "      <td>True</td>\n",
       "      <td>False</td>\n",
       "      <td>True</td>\n",
       "      <td>True</td>\n",
       "    </tr>\n",
       "  </tbody>\n",
       "</table>\n",
       "</div>"
      ],
      "text/plain": [
       "                        a      b     c     d\n",
       "object in knappsack  True  False  True  True"
      ]
     },
     "execution_count": null,
     "metadata": {},
     "output_type": "execute_result"
    }
   ],
   "source": [
    "extract_solution(m)"
   ]
  },
  {
   "cell_type": "code",
   "execution_count": null,
   "id": "18e1baf3-93cf-4c0b-a170-c1d9ab665c0b",
   "metadata": {},
   "outputs": [],
   "source": []
  }
 ],
 "metadata": {
  "kernelspec": {
   "display_name": "python3",
   "language": "python",
   "name": "python3"
  }
 },
 "nbformat": 4,
 "nbformat_minor": 5
}
