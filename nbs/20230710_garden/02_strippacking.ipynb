{
 "cells": [
  {
   "cell_type": "raw",
   "id": "a5d7d438-81e2-4c64-8153-21efb9464f8f",
   "metadata": {},
   "source": [
    "---\n",
    "title: \"strip packing\"\n",
    "author: \"cbarz\"\n",
    "date: \"2023-07-10\"\n",
    "categories: [modeling, milp, pyomo]\n",
    "draft: false\n",
    "code-fold: true\n",
    "toc: true\n",
    "description: part of bigger series, how to arrange objects in an optimal way\n",
    "---"
   ]
  },
  {
   "cell_type": "markdown",
   "id": "e4effc15-1523-491e-842d-e4e1d4480a79",
   "metadata": {},
   "source": [
    "# outline\n",
    "\n",
    "1. Problem description and applications\n",
    "1. Different difficulties\n",
    "    - algebraic description\n",
    "    - pyomo implementation\n",
    "1. summary"
   ]
  },
  {
   "cell_type": "code",
   "execution_count": null,
   "id": "a6eaf5a8-a249-4d7d-87aa-7c67fd908d2b",
   "metadata": {},
   "outputs": [],
   "source": [
    "import pyomo.environ as pyo\n",
    "import pyomo.gdp as gdp\n",
    "import pandas as pd\n",
    "import numpy as np\n",
    "import matplotlib.pyplot as plt\n",
    "from matplotlib.patches import Rectangle "
   ]
  },
  {
   "cell_type": "markdown",
   "id": "2cf3c8cc-5639-49e8-8fd9-2749f81bb33a",
   "metadata": {},
   "source": [
    "## abstract model \"linear packing\"\n",
    "\n",
    "### sets\n",
    "\n",
    "- I set of boxes to be packed\n",
    "- $Order:=\\{(i,j) | i,j\\in I,\\; i<j\\}$ used to define the packing order\n",
    "\n",
    "### param\n",
    "\n",
    "- $w_i$ width of box i\n",
    "- $h_i$ heigth of box i\n",
    "\n",
    "### vars\n",
    "\n",
    "- $W$ total used width\n",
    "- $x1_i$ left x-coordinate of box i\n",
    "- $x2_i$ right x-coordinate of box i\n",
    "- $y1_i$ left y-coordinate of box i\n",
    "- $y2_i$ right 1-coordinate of box i\n",
    "\n",
    "### constraints\n",
    "\n",
    "- box width: left x coordinate and right x coordinate of box i differ by width of box i, i.e. $x2_i=x1_i+w_i$\n",
    "- no box is placed after total used width, i.e. $x2_i \\leq W$\n",
    "- no overlap: either box i is placed before j or j before i, i.e. $x1_i \\leq x1_j$ or $x1_j \\leq x1_i$\n",
    "\n",
    "\n",
    "### objective\n",
    "\n",
    "- minimize total used width $W$\n",
    "\n",
    "### model\n",
    "\n",
    "$$\n",
    "\\begin{array}{lll}\n",
    "\\min & W & \\\\\n",
    "s.t. & x_{i,2} \\leq W & \\forall i\\\\\n",
    "     & x_{i,1},x_{i,2} \\geq 0 & \\forall i\\\\\n",
    "     & y_{i,1} = 0 & \\forall i\\\\\n",
    "     & [x_{i,2}\\leq x_{j,1}] \\vee [x_{j,2} \\leq x_{i,1}] & \\forall i < j\n",
    "\\end{array}     \n",
    "$$"
   ]
  },
  {
   "cell_type": "code",
   "execution_count": null,
   "id": "f0622fa9-5a0e-4bb2-9945-229ec38289b1",
   "metadata": {},
   "outputs": [],
   "source": [
    "# helper functions"
   ]
  },
  {
   "cell_type": "code",
   "execution_count": null,
   "id": "4737377d-4286-4692-b2bf-bdfbedb95594",
   "metadata": {},
   "outputs": [],
   "source": [
    "## nb param\n",
    "number_of_boxes = 5\n",
    "shelf_depth = 1 # will be overwritten\n",
    "np.random.seed(1111)\n",
    "\n",
    "# data generation\n",
    "\n",
    "def gen_box(number_of_boxes = number_of_boxes, wlow=1, whigh=100, hlow=1, hhigh=100):\n",
    "    \"\"\"generates random number_of_boxes data, where width of each box varies between wlow and whigh, and heigth within hlow and hheigth \"\"\"\n",
    "    return pd.DataFrame({\n",
    "    'w': np.random.randint(wlow, whigh, size = number_of_boxes),\n",
    "    'h': np.random.randint(hlow, hhigh, size = number_of_boxes),\n",
    "    })\n",
    "\n",
    "\n",
    "## data generation\n",
    "boxes = gen_box()\n",
    "data ={\n",
    "    'data' : boxes,\n",
    "    'solver' : 'cbc',\n",
    "    'model_name': 'strip_packing',\n",
    "    'shelf_depth' : 2 * boxes['h'].max()\n",
    "}\n",
    "\n",
    "shelf_depth = 2 * data['data']['h'].max()"
   ]
  },
  {
   "cell_type": "code",
   "execution_count": null,
   "id": "7dc88860-c1e2-47f2-8769-2d696dbbcd47",
   "metadata": {},
   "outputs": [
    {
     "data": {
      "text/html": [
       "<div>\n",
       "<style scoped>\n",
       "    .dataframe tbody tr th:only-of-type {\n",
       "        vertical-align: middle;\n",
       "    }\n",
       "\n",
       "    .dataframe tbody tr th {\n",
       "        vertical-align: top;\n",
       "    }\n",
       "\n",
       "    .dataframe thead th {\n",
       "        text-align: right;\n",
       "    }\n",
       "</style>\n",
       "<table border=\"1\" class=\"dataframe\">\n",
       "  <thead>\n",
       "    <tr style=\"text-align: right;\">\n",
       "      <th></th>\n",
       "      <th>w</th>\n",
       "      <th>h</th>\n",
       "    </tr>\n",
       "  </thead>\n",
       "  <tbody>\n",
       "    <tr>\n",
       "      <th>0</th>\n",
       "      <td>29</td>\n",
       "      <td>15</td>\n",
       "    </tr>\n",
       "    <tr>\n",
       "      <th>1</th>\n",
       "      <td>56</td>\n",
       "      <td>9</td>\n",
       "    </tr>\n",
       "    <tr>\n",
       "      <th>2</th>\n",
       "      <td>82</td>\n",
       "      <td>13</td>\n",
       "    </tr>\n",
       "    <tr>\n",
       "      <th>3</th>\n",
       "      <td>13</td>\n",
       "      <td>87</td>\n",
       "    </tr>\n",
       "    <tr>\n",
       "      <th>4</th>\n",
       "      <td>35</td>\n",
       "      <td>9</td>\n",
       "    </tr>\n",
       "  </tbody>\n",
       "</table>\n",
       "</div>"
      ],
      "text/plain": [
       "    w   h\n",
       "0  29  15\n",
       "1  56   9\n",
       "2  82  13\n",
       "3  13  87\n",
       "4  35   9"
      ]
     },
     "execution_count": null,
     "metadata": {},
     "output_type": "execute_result"
    }
   ],
   "source": [
    "# inspect data\n",
    "data['data'].head()"
   ]
  },
  {
   "cell_type": "code",
   "execution_count": null,
   "id": "bd7b7b71-80ac-4550-bff9-9444f4438369",
   "metadata": {},
   "outputs": [],
   "source": [
    "def _packing(df):\n",
    "    \"\"\"temp function to transform input data into a df like the solution for visualization\"\"\"\n",
    "    dt = df.copy()\n",
    "    dt['x1'] = dt['w'].cumsum() - dt['w']\n",
    "    dt['x2'] = dt['w'].cumsum()\n",
    "    dt['y1'] = 0\n",
    "    dt['y2'] = dt['h']\n",
    "    dt['r'] = 0\n",
    "    return dt\n",
    "\n",
    "def plot_solution(sol, shelf_depth = shelf_depth):\n",
    "    \"\"\"plot items bounding boxes\"\"\"\n",
    "    \n",
    "    fig, ax = plt.subplots()\n",
    "    \n",
    "    for i, x, y, w, h, r in zip(sol.index, sol['x1'], sol['y1'], sol['w'], sol['h'], sol['r']):\n",
    "        color = 'g'\n",
    "        # if box rotated then exchange heigth and width and use red as color\n",
    "        if r:\n",
    "            h, w = w, h\n",
    "            color = 'r'\n",
    "        ax.add_patch(Rectangle((x, y), w, h, \n",
    "                               edgecolor='k', facecolor=color, alpha=0.6))\n",
    "        # place item name in the middle of each box\n",
    "        ax.annotate(i, (x+w/2, y+h/2), color='w', weight='bold', fontsize=12, ha='center', va='center')\n",
    "    \n",
    "    # set axis limits\n",
    "    ax.set_xlim(0, 1.1*sol[\"w\"].sum())\n",
    "    ax.set_ylim(0, shelf_depth*1.1)\n",
    "    \n",
    "    # draw line for total used width\n",
    "    ax.axvline(sol[\"x2\"].max(), ymin = 0, ymax = shelf_depth/ax.get_ylim()[1],\n",
    "               label=\"shelf width $W$\", color=\"r\")\n",
    "    ax.fill_between([0, ax.get_xlim()[1]], [shelf_depth, shelf_depth], color=\"c\", alpha=0.2)\n",
    "    ax.set_title('packing')\n",
    "    ax.set_xlabel(\"width\")\n",
    "    ax.set_ylabel(\"heigth\")\n",
    "    "
   ]
  },
  {
   "cell_type": "code",
   "execution_count": null,
   "id": "377949d7-d80b-4f90-a9fb-6f2492cd519a",
   "metadata": {},
   "outputs": [
    {
     "name": "stdout",
     "output_type": "stream",
     "text": [
      "CPU times: user 50.9 ms, sys: 12.6 ms, total: 63.5 ms\n",
      "Wall time: 79.8 ms\n"
     ]
    },
    {
     "data": {
      "image/png": "[encoded data removed]",
      "text/plain": [
       "<Figure size 432x288 with 1 Axes>"
      ]
     },
     "metadata": {
      "needs_background": "light"
     },
     "output_type": "display_data"
    }
   ],
   "source": [
    "%%time\n",
    "# visualizse fifo packing with no rotation\n",
    "sol = _packing(data['data'])\n",
    "plot_solution(sol, shelf_depth = shelf_depth)"
   ]
  },
  {
   "cell_type": "code",
   "execution_count": null,
   "id": "dc51a265-7531-4d84-a167-3b30b0298f8a",
   "metadata": {},
   "outputs": [],
   "source": [
    "# pyomo implementation\n",
    "\n",
    "def SP_simple(data):\n",
    "    \"\"\"simple strip packing, but useful to study good/new neighboor constraints later\"\"\"\n",
    "    \n",
    "    # simple upper bound\n",
    "    w_bound = data['data']['w'].sum()\n",
    "    \n",
    "    # instanciate model\n",
    "    m = pyo.ConcreteModel(data['model_name'])\n",
    "    # sets\n",
    "    m.I = pyo.Set(initialize = data['data'].index, doc = 'items')\n",
    "    m.Order = pyo.Set(initialize = m.I * m.I, filter = lambda m,i,j: i<j)\n",
    "    \n",
    "    # vars\n",
    "    m.x1 = pyo.Var(m.I, domain = pyo.NonNegativeReals, bounds = (0,w_bound))\n",
    "    m.x2 = pyo.Var(m.I, domain = pyo.NonNegativeReals, bounds = (0,w_bound))\n",
    "    m.W = pyo.Var(domain = pyo.NonNegativeReals, doc = 'total width, to be optimized')\n",
    "    m.r = pyo.Var(domain = pyo.Boolean, initialize = False, doc = 'not used in no rotation model')\n",
    "    \n",
    "    # objective\n",
    "    m.OBJ = pyo.Objective(expr = m.W, sense = pyo.minimize)\n",
    "    \n",
    "    # param\n",
    "    @m.Param(m.I)\n",
    "    def w(m,i):\n",
    "        return data['data'].filter(items = [i], axis = 0)['w'].values[0]\n",
    "    \n",
    "    # constraints\n",
    "    @m.Constraint(m.I, doc = 'determines box i size')\n",
    "    def bounding_box(m,i):\n",
    "        return m.x2[i] == m.x1[i] + m.w[i]\n",
    "    \n",
    "    @m.Constraint(m.I, doc = 'defines total width, to be optimized')\n",
    "    def total_width(m,i):\n",
    "        return m.x2[i] <= m.W\n",
    "    \n",
    "    @m.Disjunction(m.Order, xor=True)\n",
    "    def no_overlap(m, i, j):\n",
    "        return [m.x2[i] <= m.x1[j],\n",
    "                m.x2[j] <= m.x1[i]]\n",
    "       \n",
    "    \n",
    "    pyo.TransformationFactory(\"gdp.bigm\").apply_to(m)\n",
    "    \n",
    "    # choose solver and apply solver\n",
    "    solver = pyo.SolverFactory(data['solver'])\n",
    "    solver.solve(m)\n",
    "    \n",
    "    # extract solution\n",
    "    sol = data['data'].copy()\n",
    "    # extract coords from solution\n",
    "    sol['x1'] = [pyo.value(m.x1[i]) for i in m.I]\n",
    "    sol['x2'] = [pyo.value(m.x2[i]) for i in m.I]\n",
    "    # placeholder\n",
    "    sol['y1'] = [0 for i in m.I]\n",
    "    sol['y2'] = sol['h']\n",
    "    sol['r'] = [False for i in m.I]\n",
    "        \n",
    "    return sol"
   ]
  },
  {
   "cell_type": "code",
   "execution_count": null,
   "id": "714ba1ce-5bf1-4da9-b7bd-f605bcff098c",
   "metadata": {},
   "outputs": [
    {
     "name": "stdout",
     "output_type": "stream",
     "text": [
      "CPU times: user 1.66 s, sys: 488 ms, total: 2.15 s\n",
      "Wall time: 39min 5s\n"
     ]
    },
    {
     "data": {
      "image/png": "[encoded data removed]",
      "text/plain": [
       "<Figure size 432x288 with 1 Axes>"
      ]
     },
     "metadata": {
      "needs_background": "light"
     },
     "output_type": "display_data"
    }
   ],
   "source": [
    "%%time\n",
    "sol = SP_simple(data)\n",
    "# visualise sollution\n",
    "plot_solution(sol)"
   ]
  },
  {
   "cell_type": "markdown",
   "id": "0c2dc4ba-51ae-406b-905a-c2a56479ded4",
   "metadata": {},
   "source": [
    "## Add rotation to model\n",
    "\n",
    "Obviously rotating certain boxes would result in a tighter packing. Therefore we add a boolean variable `r_i` which equals true iff the box was rotated.\n",
    "\n",
    "$$\n",
    "\\begin{array}{lll}\n",
    "\\min & W & \\\\\n",
    "s.t. & x_{i,2} \\leq W & \\forall i\\\\\n",
    "     & x_{i,1},x_{i,2} \\geq 0 & \\forall i\\\\\n",
    "     & y_{i,1} = 0 & \\forall i\\\\\n",
    "     & [x_{i,2}\\leq x_{j,1}] \\vee [x_{j,2} \\leq x_{i,1}] & \\forall i < j\\\\\n",
    "     & \\left[ \\begin{array}{ll}\n",
    "     r_i= & false\\\\\n",
    "     x_{i,2} = & x_{i,1} + w_i\\\\\n",
    "     y_{i,2} = & y_{i,1} + h_i\n",
    "     \\end{array} \\right] \\vee \n",
    "     \\left[ \\begin{array}{ll}\n",
    "     r_i= & true\\\\\n",
    "     x_{i,2} = & x_{i,1} + h_i\\\\\n",
    "     y_{i,2} = & y_{i,1} + w_i\n",
    "     \\end{array}\\right] & \\forall i < j\n",
    "\\end{array}     \n",
    "$$\n"
   ]
  },
  {
   "cell_type": "code",
   "execution_count": null,
   "id": "99d6dbde-e877-4da5-b3d1-94fd24ff6ff7",
   "metadata": {},
   "outputs": [],
   "source": [
    "def SP_rot(data):\n",
    "    \"\"\"strip packing with rotation\"\"\"\n",
    "    \n",
    "    W_ub = data['data']['w'].sum()\n",
    "    \n",
    "    m = pyo.ConcreteModel()\n",
    "    \n",
    "    # sets\n",
    "    m.I = pyo.Set(initialize = data['data'].index, doc = 'plants')\n",
    "    m.Order = pyo.Set(initialize = m.I * m.I, filter = lambda m,i,j:i<j, doc ='ordering of plants')\n",
    "    \n",
    "    # vars\n",
    "    m.W = pyo.Var(bounds = (0,W_ub), doc = 'total optimal width')\n",
    "    m.x1 = pyo.Var(m.I, bounds = (0,W_ub), doc = 'LHS of item i on x axis')\n",
    "    m.x2 = pyo.Var(m.I, bounds = (0,W_ub), doc = 'RHS of item i on x axis')\n",
    "    m.y1 = pyo.Var(m.I, bounds = (0,W_ub), doc = 'LHS of item i on y axis')\n",
    "    m.y2 = pyo.Var(m.I, bounds = (0,W_ub), doc = 'RHS of item i on y axis')\n",
    "    m.r = pyo.Var(m.I, domain = pyo.Boolean)\n",
    "    \n",
    "    # objective\n",
    "    @m.Objective()\n",
    "    def minimal_width(m):\n",
    "        return m.W\n",
    "    \n",
    "    # param\n",
    "    @m.Param(m.I)\n",
    "    def w(m,i):\n",
    "        return data['data'].filter(items = [i], axis = 0)['w'].values[0]\n",
    "    @m.Param(m.I)\n",
    "    def h(m,i):\n",
    "        return data['data'].filter(items = [i], axis = 0)['h'].values[0]\n",
    "    \n",
    "    # constraints\n",
    "    @m.Constraint(m.I)\n",
    "    def c1(m,i):\n",
    "        return m.x2[i] <= m.W\n",
    "    @m.Constraint(m.I)\n",
    "    def y1_loc(m,i):\n",
    "        return m.y1[i] == 0\n",
    "    @m.Disjunction(m.I)\n",
    "    def rotation(m,i):\n",
    "        return [\n",
    "            [m.r[i] == False, \n",
    "             m.x2[i] == m.x1[i] + m.w[i],\n",
    "             m.y2[i] == m.y1[i] + m.h[i]\n",
    "            ],\n",
    "            [m.r[i] == True,\n",
    "             m.x2[i] == m.x1[i] + m.h[i],\n",
    "             m.y2[i] == m.y1[i] + m.w[i]\n",
    "            ]\n",
    "        ]\n",
    "    @m.Disjunction(m.Order)\n",
    "    def no_overlap(m,i,j):\n",
    "        return [\n",
    "            [m.x2[i] <= m.x1[j]],\n",
    "            [m.x2[j] <= m.x1[i]]\n",
    "        ]\n",
    "    \n",
    "    pyo.TransformationFactory(\"gdp.bigm\").apply_to(m)\n",
    "    \n",
    "    # choose solver and apply solver\n",
    "    solver = pyo.SolverFactory(data['solver'])\n",
    "    solver.solve(m)\n",
    "    \n",
    "    # extract solution\n",
    "    sol = data['data'].copy()\n",
    "    # extract coords from solution\n",
    "    sol['x1'] = [pyo.value(m.x1[i]) for i in m.I]\n",
    "    sol['x2'] = [pyo.value(m.x2[i]) for i in m.I]\n",
    "    # placeholder\n",
    "    sol['y1'] = [pyo.value(m.y1[i]) for i in m.I]\n",
    "    sol['y2'] = [pyo.value(m.y2[i]) for i in m.I]\n",
    "    sol['r'] = [pyo.value(m.r[i]) for i in m.I]\n",
    "    \n",
    "    return sol"
   ]
  },
  {
   "cell_type": "code",
   "execution_count": null,
   "id": "fa0c7dac-7fd9-4385-ab77-f7a615c8ac62",
   "metadata": {},
   "outputs": [
    {
     "name": "stdout",
     "output_type": "stream",
     "text": [
      "CPU times: user 4.74 s, sys: 2.93 s, total: 7.67 s\n",
      "Wall time: 2h 43min 43s\n"
     ]
    },
    {
     "data": {
      "image/png": "[encoded data removed]",
      "text/plain": [
       "<Figure size 432x288 with 1 Axes>"
      ]
     },
     "metadata": {
      "needs_background": "light"
     },
     "output_type": "display_data"
    }
   ],
   "source": [
    "%%time\n",
    "sol_rot = SP_rot(data)\n",
    "plot_solution(sol_rot)"
   ]
  },
  {
   "cell_type": "markdown",
   "id": "26608e6c-ba82-4209-999a-1c361dee7351",
   "metadata": {},
   "source": [
    "## Add packing in 2 dimensions\n",
    "\n",
    "Again obviously we can reduce the required total width if we allow to pack boxes in 2 dimensions, e.g. we place a box behind another.\n",
    "\n",
    "### Additional constraints\n",
    "\n",
    "- upper $y$ coordinate of box does not exceed shelf depth $D$\n",
    "- no overlap of boxes in y-axis\n",
    "\n",
    "### Model\n",
    "\n",
    "$$\n",
    "\\begin{array}{lll}\n",
    "\\min & W & \\\\\n",
    "s.t. & x_{i,2} \\leq W & \\forall i\\\\\n",
    "     & y_{i,2} \\leq D & \\forall i\\\\\n",
    "     & x_{i,1},x_{i,2}, y_{i,1}, y_{i,2} \\geq 0 & \\forall i\\\\\n",
    "     & y_{i,1} = 0 & \\forall i\\\\\n",
    "     & [x_{i,2}\\leq x_{j,1}] \\vee \n",
    "       [x_{j,2} \\leq x_{i,1}] \\vee       \n",
    "       [y_{i,2}\\leq y_{j,1}] \\vee \n",
    "       [y_{j,2} \\leq y_{i,1}]\n",
    "       & \\forall i < j\\\\\n",
    "     & \\left[ \\begin{array}{ll}\n",
    "     r_i= & false\\\\\n",
    "     x_{i,2} = & x_{i,1} + w_i\\\\\n",
    "     y_{i,2} = & y_{i,1} + h_i\n",
    "     \\end{array} \\right] \\vee \n",
    "     \\left[ \\begin{array}{ll}\n",
    "     r_i= & true\\\\\n",
    "     x_{i,2} = & x_{i,1} + h_i\\\\\n",
    "     y_{i,2} = & y_{i,1} + w_i\n",
    "     \\end{array}\\right] & \\forall i < j\n",
    "\\end{array}     \n",
    "$$"
   ]
  },
  {
   "cell_type": "code",
   "execution_count": null,
   "id": "6ef73e53-70e8-405a-b8bc-79b7b8b70f6c",
   "metadata": {},
   "outputs": [
    {
     "data": {
      "text/plain": [
       "{'data':     w   h\n",
       " 0  29  15\n",
       " 1  56   9\n",
       " 2  82  13\n",
       " 3  13  87\n",
       " 4  35   9\n",
       " 5  53  63\n",
       " 6  25  62\n",
       " 7  23  52\n",
       " 8  21  43\n",
       " 9  12  77,\n",
       " 'solver': 'cbc',\n",
       " 'model_name': 'strip_packing',\n",
       " 'shelf_depth': 174}"
      ]
     },
     "execution_count": null,
     "metadata": {},
     "output_type": "execute_result"
    }
   ],
   "source": [
    "data\n"
   ]
  },
  {
   "cell_type": "code",
   "execution_count": null,
   "id": "51c205d7-bd42-4982-a85b-12f33871e871",
   "metadata": {},
   "outputs": [],
   "source": [
    "def SP_2dim_rot(data):\n",
    "    \"\"\"strip packing with rotation in 2 dimension\"\"\"\n",
    "    \n",
    "    W_ub = data['data']['w'].sum()\n",
    "    \n",
    "    m = pyo.ConcreteModel()\n",
    "    \n",
    "    # sets\n",
    "    m.I = pyo.Set(initialize = data['data'].index, doc = 'plants')\n",
    "    m.Order = pyo.Set(initialize = m.I * m.I, filter = lambda m,i,j:i<j, doc ='ordering of plants')\n",
    "    \n",
    "    # vars\n",
    "    m.W = pyo.Var(bounds = (0,W_ub), doc = 'total optimal width')\n",
    "    m.x1 = pyo.Var(m.I, bounds = (0,W_ub), doc = 'LHS of item i on x axis')\n",
    "    m.x2 = pyo.Var(m.I, bounds = (0,W_ub), doc = 'RHS of item i on x axis')\n",
    "    m.y1 = pyo.Var(m.I, bounds = (0,W_ub), doc = 'LHS of item i on y axis')\n",
    "    m.y2 = pyo.Var(m.I, bounds = (0,W_ub), doc = 'RHS of item i on y axis')\n",
    "    m.r = pyo.Var(m.I, domain = pyo.Boolean)\n",
    "    \n",
    "    # objective\n",
    "    @m.Objective()\n",
    "    def minimal_width(m):\n",
    "        return m.W\n",
    "    \n",
    "    # param\n",
    "    @m.Param(m.I)\n",
    "    def w(m,i):\n",
    "        return data['data'].filter(items = [i], axis = 0)['w'].values[0]\n",
    "    @m.Param(m.I)\n",
    "    def h(m,i):\n",
    "        return data['data'].filter(items = [i], axis = 0)['h'].values[0]\n",
    "    m.shelf_depth = pyo.Param(mutable = True,\n",
    "                              initialize = data['shelf_depth'])\n",
    "    \n",
    "    # constraints\n",
    "    @m.Constraint(m.I)\n",
    "    def minimize_width(m,i):\n",
    "        return m.x2[i] <= m.W\n",
    "    @m.Constraint(m.I)\n",
    "    def max_heigth(m,i):\n",
    "        return m.y2[i] <= m.shelf_depth\n",
    "    \n",
    "    @m.Disjunction(m.I)\n",
    "    def rotation(m,i):\n",
    "        return [\n",
    "            [m.r[i] == False, \n",
    "             m.x2[i] == m.x1[i] + m.w[i],\n",
    "             m.y2[i] == m.y1[i] + m.h[i]\n",
    "            ],\n",
    "            [m.r[i] == True,\n",
    "             m.x2[i] == m.x1[i] + m.h[i],\n",
    "             m.y2[i] == m.y1[i] + m.w[i]\n",
    "            ]\n",
    "        ]\n",
    "    @m.Disjunction(m.Order)\n",
    "    def no_overlap(m,i,j):\n",
    "        return [\n",
    "            [m.x2[i] <= m.x1[j]],\n",
    "            [m.x2[j] <= m.x1[i]],\n",
    "            [m.y2[i] <= m.y1[j]],\n",
    "            [m.y2[j] <= m.y1[i]]\n",
    "        ]\n",
    "    \n",
    "    pyo.TransformationFactory(\"gdp.bigm\").apply_to(m)\n",
    "    \n",
    "    # choose solver and apply solver\n",
    "    solver = pyo.SolverFactory(data['solver'])\n",
    "    solver.solve(m)\n",
    "    \n",
    "    # extract solution\n",
    "    sol = data['data'].copy()\n",
    "    # extract coords from solution\n",
    "    sol['x1'] = [pyo.value(m.x1[i]) for i in m.I]\n",
    "    sol['x2'] = [pyo.value(m.x2[i]) for i in m.I]\n",
    "    # placeholder\n",
    "    sol['y1'] = [pyo.value(m.y1[i]) for i in m.I]\n",
    "    sol['y2'] = [pyo.value(m.y2[i]) for i in m.I]\n",
    "    sol['r'] = [pyo.value(m.r[i]) for i in m.I]\n",
    "    \n",
    "    return sol"
   ]
  },
  {
   "cell_type": "code",
   "execution_count": null,
   "id": "e054c0cc-4c41-46aa-8f49-b5b9acf827c9",
   "metadata": {},
   "outputs": [
    {
     "name": "stdout",
     "output_type": "stream",
     "text": [
      "CPU times: user 3.23 s, sys: 1.36 s, total: 4.59 s\n",
      "Wall time: 2h 59min 8s\n"
     ]
    },
    {
     "data": {
      "image/png": "[encoded data removed]",
      "text/plain": [
       "<Figure size 432x288 with 1 Axes>"
      ]
     },
     "metadata": {
      "needs_background": "light"
     },
     "output_type": "display_data"
    }
   ],
   "source": [
    "%%time\n",
    "sol_rot = SP_2dim_rot(data)\n",
    "plot_solution(sol_rot)"
   ]
  },
  {
   "cell_type": "code",
   "execution_count": null,
   "id": "1d08a0b1-f08a-482e-b66b-4b249972881f",
   "metadata": {},
   "outputs": [],
   "source": []
  },
  {
   "cell_type": "code",
   "execution_count": null,
   "id": "8ee9957c-e9f5-4857-aa28-e23584acfd0e",
   "metadata": {},
   "outputs": [],
   "source": []
  },
  {
   "cell_type": "code",
   "execution_count": null,
   "id": "3150d291-43d2-421a-988d-cda0c7f185d1",
   "metadata": {},
   "outputs": [],
   "source": []
  },
  {
   "cell_type": "code",
   "execution_count": null,
   "id": "f29df1b2-f0a9-4843-ac83-71d72d5f6425",
   "metadata": {},
   "outputs": [],
   "source": []
  }
 ],
 "metadata": {
  "kernelspec": {
   "display_name": "python3",
   "language": "python",
   "name": "python3"
  }
 },
 "nbformat": 4,
 "nbformat_minor": 5
}
