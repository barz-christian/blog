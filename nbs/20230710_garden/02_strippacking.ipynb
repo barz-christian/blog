{
 "cells": [
  {
   "cell_type": "raw",
   "id": "a5d7d438-81e2-4c64-8153-21efb9464f8f",
   "metadata": {},
   "source": [
    "---\n",
    "title: \"Strip packing problem\"\n",
    "author: \"cbarz\"\n",
    "date: \"2023-07-10\"\n",
    "categories: [modeling, generalized disjunctive programming, pyomo]\n",
    "draft: false\n",
    "code-fold: true\n",
    "toc: true\n",
    "description: \"If your question is: how can objects be arranged or cutted in an optimal way? you should have a look at the strip packing problem.\"\n",
    "---"
   ]
  },
  {
   "cell_type": "markdown",
   "id": "e4effc15-1523-491e-842d-e4e1d4480a79",
   "metadata": {},
   "source": [
    "# Content\n",
    "\n",
    "In this blog post we give a brief intorduction to the strip packing problem and its application. We will see for different variants of the problem the algebraic represenations as a MILP and pyomo implementions using the [GDP extension for generalized disjunctive programming](https://pyomo.readthedocs.io/en/stable/modeling_extensions/gdp/index.html).\n",
    "\n",
    "In case that your are not familiar with disjunctive programming, let me briefly describe it as a framework to include logic or conditional contraints in an algebraic model. Typical applications of disjunctive programming are: ordering of tasks (e.g. in a production process), choosing optimal route in a circuit of organizing complex projects in a time saving manner. Typical techniques are refomulation as mixed interger program, Big-M reformulation and Hull reformulation.\n",
    "\n",
    "## Problem description\n",
    "\n",
    "The [strip packing problem](https://en.wikipedia.org/wiki/Strip_packing_problem) is a cutting and packing problem. In its basic form we want to pack rectangles on a two dimensional strip of fixed width and virtually infinite height. In other variants consider the different geometry of the packed objects, the dimension (e.g. backing of boxes in 3 dimensions) or the structure of the packing, e.g. [guillotine packing](https://en.wikipedia.org/wiki/Guillotine_cutting). The strip packing problem contains as a special case the [bin packing problem](https://en.wikipedia.org/wiki/Bin_packing_problem) and hence its NP-hard.\n",
    "\n",
    "There exists various approximation methods, such as heuristics and metaheuristcs, to solve the two dimensional strip packing problem.\n",
    "\n",
    "## Applications\n",
    "\n",
    "The list of applications mainly steam from which inspired this blog https://mobook.github.io/MO-book/notebooks/03/strip-packing.html:\n",
    "\n",
    "1. cutting out of a sheet of material with fixed width but \"infinite length\", e.g. paper or textitle cuts\n",
    "2. placement of marco cells in semiconductor layouts\n",
    "3. workstation layout in a manufacturing facility\n",
    "4. scheduling allocations of a common resource.\n",
    "\n",
    "\n",
    "My personal motivation was an optimized bed planning in the garden. But because its model containts additional modifications I wanted to blog first about one of its core problem."
   ]
  },
  {
   "cell_type": "code",
   "execution_count": null,
   "id": "a6eaf5a8-a249-4d7d-87aa-7c67fd908d2b",
   "metadata": {},
   "outputs": [],
   "source": [
    "import pyomo.environ as pyo\n",
    "import pyomo.gdp as gdp\n",
    "import pandas as pd\n",
    "import numpy as np\n",
    "import matplotlib.pyplot as plt\n",
    "from matplotlib.patches import Rectangle "
   ]
  },
  {
   "cell_type": "markdown",
   "id": "b3efd00d-c61c-4143-b627-71a84fce30d7",
   "metadata": {},
   "source": [
    "## Example\n",
    "\n",
    "We randomly generate data. Here each row represents a box of width $w$ and height $h$."
   ]
  },
  {
   "cell_type": "code",
   "execution_count": null,
   "id": "8f2159c5-8e15-47e8-87a6-384929f5e3af",
   "metadata": {},
   "outputs": [],
   "source": [
    "# helper functions\n",
    "\n",
    "## nb param\n",
    "number_of_boxes = 5\n",
    "shelf_depth = 1 # will be overwritten\n",
    "np.random.seed(1111)\n",
    "\n",
    "# data generation\n",
    "\n",
    "def gen_box(number_of_boxes = number_of_boxes, wlow=1, whigh=100, hlow=1, hhigh=100):\n",
    "    \"\"\"generates random number_of_boxes data, where width of each box varies between wlow and whigh, and heigth within hlow and hheigth \"\"\"\n",
    "    return pd.DataFrame({\n",
    "    'w': np.random.randint(wlow, whigh, size = number_of_boxes),\n",
    "    'h': np.random.randint(hlow, hhigh, size = number_of_boxes),\n",
    "    })\n",
    "\n",
    "\n",
    "## data generation\n",
    "boxes = gen_box()\n",
    "data ={\n",
    "    'data' : boxes,\n",
    "    'solver' : 'cbc',\n",
    "    'model_name': 'strip_packing',\n",
    "    'shelf_depth' : 2 * boxes['h'].max()\n",
    "}\n",
    "\n",
    "shelf_depth = 2 * data['data']['h'].max()"
   ]
  },
  {
   "cell_type": "code",
   "execution_count": null,
   "id": "7dc88860-c1e2-47f2-8769-2d696dbbcd47",
   "metadata": {},
   "outputs": [
    {
     "data": {
      "text/html": [
       "<div>\n",
       "<style scoped>\n",
       "    .dataframe tbody tr th:only-of-type {\n",
       "        vertical-align: middle;\n",
       "    }\n",
       "\n",
       "    .dataframe tbody tr th {\n",
       "        vertical-align: top;\n",
       "    }\n",
       "\n",
       "    .dataframe thead th {\n",
       "        text-align: right;\n",
       "    }\n",
       "</style>\n",
       "<table border=\"1\" class=\"dataframe\">\n",
       "  <thead>\n",
       "    <tr style=\"text-align: right;\">\n",
       "      <th></th>\n",
       "      <th>w</th>\n",
       "      <th>h</th>\n",
       "    </tr>\n",
       "  </thead>\n",
       "  <tbody>\n",
       "    <tr>\n",
       "      <th>0</th>\n",
       "      <td>29</td>\n",
       "      <td>53</td>\n",
       "    </tr>\n",
       "    <tr>\n",
       "      <th>1</th>\n",
       "      <td>56</td>\n",
       "      <td>25</td>\n",
       "    </tr>\n",
       "    <tr>\n",
       "      <th>2</th>\n",
       "      <td>82</td>\n",
       "      <td>23</td>\n",
       "    </tr>\n",
       "    <tr>\n",
       "      <th>3</th>\n",
       "      <td>13</td>\n",
       "      <td>21</td>\n",
       "    </tr>\n",
       "    <tr>\n",
       "      <th>4</th>\n",
       "      <td>35</td>\n",
       "      <td>12</td>\n",
       "    </tr>\n",
       "  </tbody>\n",
       "</table>\n",
       "</div>"
      ],
      "text/plain": [
       "    w   h\n",
       "0  29  53\n",
       "1  56  25\n",
       "2  82  23\n",
       "3  13  21\n",
       "4  35  12"
      ]
     },
     "metadata": {},
     "output_type": "display_data"
    }
   ],
   "source": [
    "# inspect data\n",
    "display(data['data'])"
   ]
  },
  {
   "cell_type": "code",
   "execution_count": null,
   "id": "bd7b7b71-80ac-4550-bff9-9444f4438369",
   "metadata": {},
   "outputs": [],
   "source": [
    "def _packing(df):\n",
    "    \"\"\"temp function to transform input data into a df like the solution for visualization\"\"\"\n",
    "    dt = df.copy()\n",
    "    dt['x1'] = dt['w'].cumsum() - dt['w']\n",
    "    dt['x2'] = dt['w'].cumsum()\n",
    "    dt['y1'] = 0\n",
    "    dt['y2'] = dt['h']\n",
    "    dt['r'] = 0\n",
    "    return dt\n",
    "\n",
    "def plot_solution(sol, shelf_depth = shelf_depth):\n",
    "    \"\"\"plot items bounding boxes\"\"\"\n",
    "    \n",
    "    fig, ax = plt.subplots()\n",
    "    \n",
    "    for i, x, y, w, h, r in zip(sol.index, sol['x1'], sol['y1'], sol['w'], sol['h'], sol['r']):\n",
    "        color = 'g'\n",
    "        # if box rotated then exchange heigth and width and use red as color\n",
    "        if r:\n",
    "            h, w = w, h\n",
    "            color = 'r'\n",
    "        ax.add_patch(Rectangle((x, y), w, h, \n",
    "                               edgecolor='k', facecolor=color, alpha=0.6))\n",
    "        # place item name in the middle of each box\n",
    "        ax.annotate(i, (x+w/2, y+h/2), color='w', weight='bold', fontsize=12, ha='center', va='center')\n",
    "    \n",
    "    # set axis limits\n",
    "    ax.set_xlim(0, 1.1*sol[\"w\"].sum())\n",
    "    ax.set_ylim(0, shelf_depth*1.1)\n",
    "    \n",
    "    # draw line for total used width\n",
    "    ax.axvline(sol[\"x2\"].max(), ymin = 0, ymax = shelf_depth/ax.get_ylim()[1],\n",
    "               label=\"shelf width $W$\", color=\"r\")\n",
    "    ax.fill_between([0, ax.get_xlim()[1]], [shelf_depth, shelf_depth], color=\"c\", alpha=0.2)\n",
    "    ax.set_title('packing')\n",
    "    ax.set_xlabel(\"width\")\n",
    "    ax.set_ylabel(\"heigth\")\n",
    "    "
   ]
  },
  {
   "cell_type": "markdown",
   "id": "b4d2705c-9ec9-4136-bc66-9ec7e4d1188d",
   "metadata": {},
   "source": [
    "# Heuristic: First-in-first-out\n",
    "\n",
    "An obivious solution to the strip packing problem is given by an first-in-first-out heuristic. Which would result in the following packing:"
   ]
  },
  {
   "cell_type": "code",
   "execution_count": null,
   "id": "377949d7-d80b-4f90-a9fb-6f2492cd519a",
   "metadata": {},
   "outputs": [
    {
     "data": {
      "image/png": "[encoded data removed]",
      "text/plain": [
       "<Figure size 432x288 with 1 Axes>"
      ]
     },
     "metadata": {
      "needs_background": "light"
     },
     "output_type": "display_data"
    }
   ],
   "source": [
    "# visualizse fifo packing with no rotation\n",
    "sol = _packing(data['data'])\n",
    "plot_solution(sol, shelf_depth = shelf_depth)"
   ]
  },
  {
   "cell_type": "markdown",
   "id": "6e73ad3a-a6a9-44e5-8995-e6b7dc0a3940",
   "metadata": {},
   "source": [
    "# \"simple packing\" - Model\n",
    "\n",
    "Although this simple model is equivalent to a frist-in-first-out strategy and produces a solution everyone can come up with, its a good starting point because its a building block of more elaborated variants.\n",
    "\n",
    "## algebraic model\n",
    "\n",
    "### sets\n",
    "\n",
    "- $I=\\{1,\\ldots,n\\}$ set of boxes to be packed\n",
    "- $order:=\\{(i,j) | i,j\\in I,\\; i<j\\}$ used to define the packing order\n",
    "\n",
    "### param\n",
    "\n",
    "- $w_i$ width of box i\n",
    "- $h_i$ heigth of box i\n",
    "\n",
    "### vars\n",
    "\n",
    "- $W$ total used width\n",
    "- $x1_i$ left x-coordinate of box i\n",
    "- $x2_i$ right x-coordinate of box i\n",
    "- $y1_i$ left y-coordinate of box i\n",
    "- $y2_i$ right 1-coordinate of box i\n",
    "\n",
    "### constraints\n",
    "\n",
    "- box width: left x coordinate and right x coordinate of box i differ by width of box i, i.e. $x_{2,i}=x_{1,i}+w_i$\n",
    "- no box is placed after total used width, i.e. $x_{2,i} \\leq W$\n",
    "- no overlap: either box i is placed before j or j before i, i.e. $x_{1,i} \\leq x_{1,j}$ or $x_{1,j} \\leq x_{1,i}$\n",
    "\n",
    "\n",
    "### objective\n",
    "\n",
    "- minimize total used width $W$\n",
    "\n",
    "### model\n",
    "\n",
    "$$\n",
    "\\begin{array}{lll}\n",
    "\\min & W & \\\\\n",
    "s.t. & x_{i,2} \\leq W & \\forall i\\\\\n",
    "     & x_{i,1},x_{i,2} \\geq 0 & \\forall i\\\\\n",
    "     & y_{i,1} = 0 & \\forall i\\\\\n",
    "     & [x_{i,2}\\leq x_{j,1}] \\vee [x_{j,2} \\leq x_{i,1}] & \\forall i < j\n",
    "\\end{array}     \n",
    "$$\n",
    "\n",
    "### Remark\n",
    "\n",
    "For the variants of the strip packing problem considered here its easy to give bounds on the descision variables as an upper bound on the shelf width. For simplicity we use:\n",
    "$$\n",
    "W_B:=\\sum w_i\n",
    "$$"
   ]
  },
  {
   "cell_type": "markdown",
   "id": "a806193d-25f9-4963-9ce6-f09f085e31e7",
   "metadata": {},
   "source": [
    "## Pyomo implementation"
   ]
  },
  {
   "cell_type": "code",
   "execution_count": null,
   "id": "dc51a265-7531-4d84-a167-3b30b0298f8a",
   "metadata": {},
   "outputs": [],
   "source": [
    "# pyomo implementation\n",
    "\n",
    "def SP_simple(data):\n",
    "    \"\"\"simple strip packing, but useful to study good/new neighboor constraints later\"\"\"\n",
    "    \n",
    "    # simple upper bound\n",
    "    w_bound = data['data']['w'].sum()\n",
    "    \n",
    "    # instanciate model\n",
    "    m = pyo.ConcreteModel(data['model_name'])\n",
    "    # sets\n",
    "    m.I = pyo.Set(initialize = data['data'].index, doc = 'items')\n",
    "    m.Order = pyo.Set(initialize = m.I * m.I, filter = lambda m,i,j: i<j)\n",
    "    \n",
    "    # vars\n",
    "    m.x1 = pyo.Var(m.I, domain = pyo.NonNegativeReals, bounds = (0,w_bound))\n",
    "    m.x2 = pyo.Var(m.I, domain = pyo.NonNegativeReals, bounds = (0,w_bound))\n",
    "    m.W = pyo.Var(domain = pyo.NonNegativeReals, doc = 'total width, to be optimized')\n",
    "    m.r = pyo.Var(domain = pyo.Boolean, initialize = False, doc = 'not used in no rotation model')\n",
    "    \n",
    "    # objective\n",
    "    m.OBJ = pyo.Objective(expr = m.W, sense = pyo.minimize)\n",
    "    \n",
    "    # param\n",
    "    @m.Param(m.I)\n",
    "    def w(m,i):\n",
    "        return data['data'].filter(items = [i], axis = 0)['w'].values[0]\n",
    "    \n",
    "    # constraints\n",
    "    @m.Constraint(m.I, doc = 'determines box i size')\n",
    "    def bounding_box(m,i):\n",
    "        return m.x2[i] == m.x1[i] + m.w[i]\n",
    "    \n",
    "    @m.Constraint(m.I, doc = 'defines total width, to be optimized')\n",
    "    def total_width(m,i):\n",
    "        return m.x2[i] <= m.W\n",
    "    \n",
    "    @m.Disjunction(m.Order, xor=True)\n",
    "    def no_overlap(m, i, j):\n",
    "        return [m.x2[i] <= m.x1[j],\n",
    "                m.x2[j] <= m.x1[i]]\n",
    "       \n",
    "    \n",
    "    pyo.TransformationFactory(\"gdp.bigm\").apply_to(m)\n",
    "    \n",
    "    # choose solver and apply solver\n",
    "    solver = pyo.SolverFactory(data['solver'])\n",
    "    solver.solve(m)\n",
    "    \n",
    "    # extract solution\n",
    "    sol = data['data'].copy()\n",
    "    # extract coords from solution\n",
    "    sol['x1'] = [pyo.value(m.x1[i]) for i in m.I]\n",
    "    sol['x2'] = [pyo.value(m.x2[i]) for i in m.I]\n",
    "    # placeholder\n",
    "    sol['y1'] = [0 for i in m.I]\n",
    "    sol['y2'] = sol['h']\n",
    "    sol['r'] = [False for i in m.I]\n",
    "        \n",
    "    return sol"
   ]
  },
  {
   "cell_type": "code",
   "execution_count": null,
   "id": "714ba1ce-5bf1-4da9-b7bd-f605bcff098c",
   "metadata": {},
   "outputs": [
    {
     "name": "stdout",
     "output_type": "stream",
     "text": [
      "CPU times: user 104 ms, sys: 10.9 ms, total: 114 ms\n",
      "Wall time: 481 ms\n"
     ]
    },
    {
     "data": {
      "image/png": "[encoded data removed]",
      "text/plain": [
       "<Figure size 432x288 with 1 Axes>"
      ]
     },
     "metadata": {
      "needs_background": "light"
     },
     "output_type": "display_data"
    }
   ],
   "source": [
    "%%time\n",
    "sol = SP_simple(data)\n",
    "# visualise sollution\n",
    "plot_solution(sol)"
   ]
  },
  {
   "cell_type": "markdown",
   "id": "0c2dc4ba-51ae-406b-905a-c2a56479ded4",
   "metadata": {},
   "source": [
    "# Add rotation to model\n",
    "\n",
    "Obviously rotating certain boxes would result in a tighter packing. Therefore we add a boolean variable `r_i` which equals true iff the box was rotated.\n",
    "\n",
    "## algebraic model with roation\n",
    "\n",
    "$$\n",
    "\\begin{array}{lll}\n",
    "\\min & W & \\\\\n",
    "s.t. & x_{i,2} \\leq W & \\forall i\\\\\n",
    "     & x_{i,1},x_{i,2} \\geq 0 & \\forall i\\\\\n",
    "     & y_{i,1} = 0 & \\forall i\\\\\n",
    "     & [x_{i,2}\\leq x_{j,1}] \\vee [x_{j,2} \\leq x_{i,1}] & \\forall i < j\\\\\n",
    "     & \\left[ \\begin{array}{ll}\n",
    "     r_i= & false\\\\\n",
    "     x_{i,2} = & x_{i,1} + w_i\\\\\n",
    "     y_{i,2} = & y_{i,1} + h_i\n",
    "     \\end{array} \\right] \\vee \n",
    "     \\left[ \\begin{array}{ll}\n",
    "     r_i= & true\\\\\n",
    "     x_{i,2} = & x_{i,1} + h_i\\\\\n",
    "     y_{i,2} = & y_{i,1} + w_i\n",
    "     \\end{array}\\right] & \\forall i < j\n",
    "\\end{array}     \n",
    "$$\n"
   ]
  },
  {
   "cell_type": "markdown",
   "id": "fc95ee11-cca3-4faa-8511-de08cc9729d3",
   "metadata": {},
   "source": [
    "## Pyomo implementation"
   ]
  },
  {
   "cell_type": "code",
   "execution_count": null,
   "id": "99d6dbde-e877-4da5-b3d1-94fd24ff6ff7",
   "metadata": {},
   "outputs": [],
   "source": [
    "def SP_rot(data):\n",
    "    \"\"\"strip packing with rotation\"\"\"\n",
    "    \n",
    "    W_ub = data['data']['w'].sum()\n",
    "    \n",
    "    m = pyo.ConcreteModel()\n",
    "    \n",
    "    # sets\n",
    "    m.I = pyo.Set(initialize = data['data'].index, doc = 'plants')\n",
    "    m.Order = pyo.Set(initialize = m.I * m.I, filter = lambda m,i,j:i<j, doc ='ordering of plants')\n",
    "    \n",
    "    # vars\n",
    "    m.W = pyo.Var(bounds = (0,W_ub), doc = 'total optimal width')\n",
    "    m.x1 = pyo.Var(m.I, bounds = (0,W_ub), doc = 'LHS of item i on x axis')\n",
    "    m.x2 = pyo.Var(m.I, bounds = (0,W_ub), doc = 'RHS of item i on x axis')\n",
    "    m.y1 = pyo.Var(m.I, bounds = (0,W_ub), doc = 'LHS of item i on y axis')\n",
    "    m.y2 = pyo.Var(m.I, bounds = (0,W_ub), doc = 'RHS of item i on y axis')\n",
    "    m.r = pyo.Var(m.I, domain = pyo.Boolean)\n",
    "    \n",
    "    # objective\n",
    "    @m.Objective()\n",
    "    def minimal_width(m):\n",
    "        return m.W\n",
    "    \n",
    "    # param\n",
    "    @m.Param(m.I)\n",
    "    def w(m,i):\n",
    "        return data['data'].filter(items = [i], axis = 0)['w'].values[0]\n",
    "    @m.Param(m.I)\n",
    "    def h(m,i):\n",
    "        return data['data'].filter(items = [i], axis = 0)['h'].values[0]\n",
    "    \n",
    "    # constraints\n",
    "    @m.Constraint(m.I)\n",
    "    def c1(m,i):\n",
    "        return m.x2[i] <= m.W\n",
    "    @m.Constraint(m.I)\n",
    "    def y1_loc(m,i):\n",
    "        return m.y1[i] == 0\n",
    "    @m.Disjunction(m.I)\n",
    "    def rotation(m,i):\n",
    "        return [\n",
    "            [m.r[i] == False, \n",
    "             m.x2[i] == m.x1[i] + m.w[i],\n",
    "             m.y2[i] == m.y1[i] + m.h[i]\n",
    "            ],\n",
    "            [m.r[i] == True,\n",
    "             m.x2[i] == m.x1[i] + m.h[i],\n",
    "             m.y2[i] == m.y1[i] + m.w[i]\n",
    "            ]\n",
    "        ]\n",
    "    @m.Disjunction(m.Order)\n",
    "    def no_overlap(m,i,j):\n",
    "        return [\n",
    "            [m.x2[i] <= m.x1[j]],\n",
    "            [m.x2[j] <= m.x1[i]]\n",
    "        ]\n",
    "    \n",
    "    pyo.TransformationFactory(\"gdp.bigm\").apply_to(m)\n",
    "    \n",
    "    # choose solver and apply solver\n",
    "    solver = pyo.SolverFactory(data['solver'])\n",
    "    solver.solve(m)\n",
    "    \n",
    "    # extract solution\n",
    "    sol = data['data'].copy()\n",
    "    # extract coords from solution\n",
    "    sol['x1'] = [pyo.value(m.x1[i]) for i in m.I]\n",
    "    sol['x2'] = [pyo.value(m.x2[i]) for i in m.I]\n",
    "    # placeholder\n",
    "    sol['y1'] = [pyo.value(m.y1[i]) for i in m.I]\n",
    "    sol['y2'] = [pyo.value(m.y2[i]) for i in m.I]\n",
    "    sol['r'] = [pyo.value(m.r[i]) for i in m.I]\n",
    "    \n",
    "    return sol"
   ]
  },
  {
   "cell_type": "markdown",
   "id": "8ab138ad-04af-480f-9d8f-ad298c437e62",
   "metadata": {},
   "source": [
    "In order to see when a rotation was applied we plot rotated boxes in red."
   ]
  },
  {
   "cell_type": "code",
   "execution_count": null,
   "id": "fa0c7dac-7fd9-4385-ab77-f7a615c8ac62",
   "metadata": {},
   "outputs": [
    {
     "name": "stdout",
     "output_type": "stream",
     "text": [
      "CPU times: user 99.2 ms, sys: 21 ms, total: 120 ms\n",
      "Wall time: 561 ms\n"
     ]
    },
    {
     "data": {
      "image/png": "[encoded data removed]",
      "text/plain": [
       "<Figure size 432x288 with 1 Axes>"
      ]
     },
     "metadata": {
      "needs_background": "light"
     },
     "output_type": "display_data"
    }
   ],
   "source": [
    "%%time\n",
    "sol_rot = SP_rot(data)\n",
    "plot_solution(sol_rot)"
   ]
  },
  {
   "cell_type": "markdown",
   "id": "26608e6c-ba82-4209-999a-1c361dee7351",
   "metadata": {},
   "source": [
    "# Packing in 2 dimensions with rotation\n",
    "\n",
    "Again obviously we can reduce the required total width if we allow to pack boxes in 2 dimensions, e.g. we place a box behind another.\n",
    "\n",
    "## algebraic model\n",
    "\n",
    "### Additional constraints\n",
    "\n",
    "- upper $y$ coordinate of box does not exceed shelf depth $D$\n",
    "- no overlap of boxes in y-axis\n",
    "\n",
    "### Model\n",
    "\n",
    "$$\n",
    "\\begin{array}{lll}\n",
    "\\min & W & \\\\\n",
    "s.t. & x_{i,2} \\leq W & \\forall i\\\\\n",
    "     & y_{i,2} \\leq D & \\forall i\\\\\n",
    "     & x_{i,1},x_{i,2}, y_{i,1}, y_{i,2} \\geq 0 & \\forall i\\\\\n",
    "     & y_{i,1} = 0 & \\forall i\\\\\n",
    "     & [x_{i,2}\\leq x_{j,1}] \\vee \n",
    "       [x_{j,2} \\leq x_{i,1}] \\vee       \n",
    "       [y_{i,2}\\leq y_{j,1}] \\vee \n",
    "       [y_{j,2} \\leq y_{i,1}]\n",
    "       & \\forall i < j\\\\\n",
    "     & \\left[ \\begin{array}{ll}\n",
    "     r_i= & false\\\\\n",
    "     x_{i,2} = & x_{i,1} + w_i\\\\\n",
    "     y_{i,2} = & y_{i,1} + h_i\n",
    "     \\end{array} \\right] \\vee \n",
    "     \\left[ \\begin{array}{ll}\n",
    "     r_i= & true\\\\\n",
    "     x_{i,2} = & x_{i,1} + h_i\\\\\n",
    "     y_{i,2} = & y_{i,1} + w_i\n",
    "     \\end{array}\\right] & \\forall i < j\n",
    "\\end{array}     \n",
    "$$"
   ]
  },
  {
   "cell_type": "markdown",
   "id": "d98f2969-d49e-4448-94c4-3664e7920ab5",
   "metadata": {},
   "source": [
    "## Pyomo implementation"
   ]
  },
  {
   "cell_type": "code",
   "execution_count": null,
   "id": "51c205d7-bd42-4982-a85b-12f33871e871",
   "metadata": {},
   "outputs": [],
   "source": [
    "def SP_2dim_rot(data):\n",
    "    \"\"\"strip packing with rotation in 2 dimension\"\"\"\n",
    "    \n",
    "    W_ub = data['data']['w'].sum()\n",
    "    \n",
    "    m = pyo.ConcreteModel()\n",
    "    \n",
    "    # sets\n",
    "    m.I = pyo.Set(initialize = data['data'].index, doc = 'plants')\n",
    "    m.Order = pyo.Set(initialize = m.I * m.I, filter = lambda m,i,j:i<j, doc ='ordering of plants')\n",
    "    \n",
    "    # vars\n",
    "    m.W = pyo.Var(bounds = (0,W_ub), doc = 'total optimal width')\n",
    "    m.x1 = pyo.Var(m.I, bounds = (0,W_ub), doc = 'LHS of item i on x axis')\n",
    "    m.x2 = pyo.Var(m.I, bounds = (0,W_ub), doc = 'RHS of item i on x axis')\n",
    "    m.y1 = pyo.Var(m.I, bounds = (0,W_ub), doc = 'LHS of item i on y axis')\n",
    "    m.y2 = pyo.Var(m.I, bounds = (0,W_ub), doc = 'RHS of item i on y axis')\n",
    "    m.r = pyo.Var(m.I, domain = pyo.Boolean)\n",
    "    \n",
    "    # objective\n",
    "    @m.Objective()\n",
    "    def minimal_width(m):\n",
    "        return m.W\n",
    "    \n",
    "    # param\n",
    "    @m.Param(m.I)\n",
    "    def w(m,i):\n",
    "        return data['data'].filter(items = [i], axis = 0)['w'].values[0]\n",
    "    @m.Param(m.I)\n",
    "    def h(m,i):\n",
    "        return data['data'].filter(items = [i], axis = 0)['h'].values[0]\n",
    "    m.shelf_depth = pyo.Param(mutable = True,\n",
    "                              initialize = data['shelf_depth'])\n",
    "    \n",
    "    # constraints\n",
    "    @m.Constraint(m.I)\n",
    "    def minimize_width(m,i):\n",
    "        return m.x2[i] <= m.W\n",
    "    @m.Constraint(m.I)\n",
    "    def max_heigth(m,i):\n",
    "        return m.y2[i] <= m.shelf_depth\n",
    "    \n",
    "    @m.Disjunction(m.I)\n",
    "    def rotation(m,i):\n",
    "        return [\n",
    "            [m.r[i] == False, \n",
    "             m.x2[i] == m.x1[i] + m.w[i],\n",
    "             m.y2[i] == m.y1[i] + m.h[i]\n",
    "            ],\n",
    "            [m.r[i] == True,\n",
    "             m.x2[i] == m.x1[i] + m.h[i],\n",
    "             m.y2[i] == m.y1[i] + m.w[i]\n",
    "            ]\n",
    "        ]\n",
    "    @m.Disjunction(m.Order)\n",
    "    def no_overlap(m,i,j):\n",
    "        return [\n",
    "            [m.x2[i] <= m.x1[j]],\n",
    "            [m.x2[j] <= m.x1[i]],\n",
    "            [m.y2[i] <= m.y1[j]],\n",
    "            [m.y2[j] <= m.y1[i]]\n",
    "        ]\n",
    "    \n",
    "    pyo.TransformationFactory(\"gdp.bigm\").apply_to(m)\n",
    "    \n",
    "    # choose solver and apply solver\n",
    "    solver = pyo.SolverFactory(data['solver'])\n",
    "    solver.solve(m)\n",
    "    \n",
    "    # extract solution\n",
    "    sol = data['data'].copy()\n",
    "    # extract coords from solution\n",
    "    sol['x1'] = [pyo.value(m.x1[i]) for i in m.I]\n",
    "    sol['x2'] = [pyo.value(m.x2[i]) for i in m.I]\n",
    "    # placeholder\n",
    "    sol['y1'] = [pyo.value(m.y1[i]) for i in m.I]\n",
    "    sol['y2'] = [pyo.value(m.y2[i]) for i in m.I]\n",
    "    sol['r'] = [pyo.value(m.r[i]) for i in m.I]\n",
    "    \n",
    "    return sol"
   ]
  },
  {
   "cell_type": "code",
   "execution_count": null,
   "id": "e054c0cc-4c41-46aa-8f49-b5b9acf827c9",
   "metadata": {},
   "outputs": [
    {
     "name": "stdout",
     "output_type": "stream",
     "text": [
      "CPU times: user 118 ms, sys: 47.6 ms, total: 166 ms\n",
      "Wall time: 271 ms\n"
     ]
    },
    {
     "data": {
      "image/png": "[encoded data removed]",
      "text/plain": [
       "<Figure size 432x288 with 1 Axes>"
      ]
     },
     "metadata": {
      "needs_background": "light"
     },
     "output_type": "display_data"
    }
   ],
   "source": [
    "%%time\n",
    "sol_rot = SP_2dim_rot(data)\n",
    "plot_solution(sol_rot)"
   ]
  },
  {
   "cell_type": "code",
   "execution_count": null,
   "id": "d4d9cc1b-87fa-4db4-b61e-3874770d3e85",
   "metadata": {},
   "outputs": [],
   "source": []
  }
 ],
 "metadata": {
  "kernelspec": {
   "display_name": "python3",
   "language": "python",
   "name": "python3"
  }
 },
 "nbformat": 4,
 "nbformat_minor": 5
}
