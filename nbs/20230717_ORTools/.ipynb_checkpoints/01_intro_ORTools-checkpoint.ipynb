{
 "cells": [
  {
   "cell_type": "raw",
   "id": "9eb05a55-0599-4196-82bd-e83b9e5b4eef",
   "metadata": {},
   "source": [
    "---\n",
    "title: \"OR-Tools\"\n",
    "author: \"cbarz\"\n",
    "date: \"2022-06-09\"\n",
    "categories: [constraint programming, OR-Tools]\n",
    "draft: false\n",
    "code-fold: true\n",
    "toc: true\n",
    "description: TBA\n",
    "---"
   ]
  },
  {
   "cell_type": "markdown",
   "id": "99413ad1-ed4b-461f-bfab-595ec262cd96",
   "metadata": {},
   "source": [
    "# content \n",
    "\n",
    "- explain constraint programming\n",
    "- explain basic setup\n",
    "- show basic example from google\n",
    "- CP-SAT solver\n",
    "- CP-Solver\n"
   ]
  },
  {
   "cell_type": "code",
   "execution_count": null,
   "id": "95cb9c21-507d-4e90-bd6a-08204797ef0c",
   "metadata": {},
   "outputs": [],
   "source": []
  }
 ],
 "metadata": {
  "kernelspec": {
   "display_name": "python3",
   "language": "python",
   "name": "python3"
  }
 },
 "nbformat": 4,
 "nbformat_minor": 5
}
