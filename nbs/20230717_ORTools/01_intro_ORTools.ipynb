{
 "cells": [
  {
   "cell_type": "raw",
   "id": "9eb05a55-0599-4196-82bd-e83b9e5b4eef",
   "metadata": {},
   "source": [
    "---\n",
    "title: \"OR-Tools\"\n",
    "author: \"cbarz\"\n",
    "date: \"2022-06-09\"\n",
    "categories: [constraint programming, OR-Tools]\n",
    "draft: false\n",
    "code-fold: true\n",
    "toc: true\n",
    "description: install OR-Tools, see basic example, basic operations like delete constraint, change variable bounds\n",
    "---"
   ]
  },
  {
   "cell_type": "markdown",
   "id": "99413ad1-ed4b-461f-bfab-595ec262cd96",
   "metadata": {},
   "source": [
    "# content \n",
    "\n",
    "- explain constraint programming\n",
    "- explain basic setup\n",
    "- show basic example from google\n",
    "- CP-SAT solver\n",
    "- CP-Solver\n"
   ]
  },
  {
   "cell_type": "markdown",
   "id": "30f1d8cf-a786-4912-8aae-10572805a07b",
   "metadata": {},
   "source": [
    "# Constraint programming\n",
    "\n",
    "In constraint programming or constraint optimization the goal is to idendtify a feasible solution, where the problem can be modeled in terms of arbitary constraints."
   ]
  },
  {
   "cell_type": "markdown",
   "id": "c25b173f-aefe-4ba1-813b-3f49e2ab13d8",
   "metadata": {},
   "source": [
    "## Install OR-Tools\n",
    "\n",
    "Installing OR-Tools is straight forward using conda:\n",
    "\n",
    "```conda install -c conda-forge ortools-python```\n",
    "\n",
    "or simply pip\n",
    "\n",
    "```python -m pip install --upgrade --user ortools```\n",
    "\n",
    "for more information see [Google OR-Tools Overview](https://developers.google.com/optimization/install)"
   ]
  },
  {
   "cell_type": "markdown",
   "id": "255df26a-396d-4180-9ca6-8d910e7d65fc",
   "metadata": {},
   "source": [
    "## Example count enemy soldiers\n",
    "\n",
    "We want to defeat the army of our opponent and therefore we have send out scouts to count the number of soldiers. Lets denote the number of soldiers by $n$.\n",
    "\n",
    "Because counting the soldiers one by one would be cumbersome, we asked our scouts to simply count the number of soldiers in the first row while they were marching through different landscapes.\n",
    "\n",
    "Hence the scouts reported:\n",
    "\n",
    "- scout 1: \"At the bridge there were 13 soldiers in first row\"\n",
    "- scout 2: \"At the crossing there were 19 soldiers in the first row\"\n",
    "- scout 3: \"In the open field there were 37 soldiers in the first row\"\n",
    "\n",
    "So lets translate this into math: Scout 1 says that the number of soldiers is divisible by 13 and scout 2 (respk. scout 3) says that the number is divisible by 19 (respk. 37). And this can written as [congruences](https://en.wikipedia.org/wiki/Modular_arithmetic)\n",
    "\n",
    "$$\n",
    "\\begin{array}{lll}\n",
    "n & \\equiv 0 & \\mod (13) \\\\\n",
    "n & \\equiv 0 & \\mod (19) \\\\\n",
    "n & \\equiv 0 & \\mod (37) \n",
    "\\end{array}\n",
    "$$\n",
    "\n",
    "In addition we somehow know that the number of soldiers of the opponents army can not exceed 10000 soldiers.\n",
    "\n",
    "\n",
    "*remark:* For simplicity of this example we assume that each row has the same number of soldiers. However if there would be less soldiers in the last row, then the left hand side of the above congruence would be excatly this number.\n",
    "\n",
    "\n",
    "### background info\n",
    "\n",
    "The example is well known since the 3 century and is a simple application of the [chinese remainder theorem](https://en.wikipedia.org/wiki/Chinese_remainder_theorem) and requires only some simple math to solve it directly.\n",
    "But we like to point out that the use of congrunences in a LP for example is not that straight forward."
   ]
  },
  {
   "cell_type": "markdown",
   "id": "42ff2a48-25ee-49d1-a58b-3c51d9ac7544",
   "metadata": {},
   "source": [
    "## general steps\n",
    "\n",
    "1. instantiate the model and the solver\n",
    "1. declare variables \n",
    "1. declare constraints\n",
    "1. (optional) define objective\n",
    "1. apply solver"
   ]
  },
  {
   "cell_type": "code",
   "execution_count": null,
   "id": "95cb9c21-507d-4e90-bd6a-08204797ef0c",
   "metadata": {},
   "outputs": [],
   "source": [
    "from ortools.sat.python import cp_model"
   ]
  },
  {
   "cell_type": "code",
   "execution_count": null,
   "id": "c93a890c-0ee0-4a4b-a4b6-53fe717266ba",
   "metadata": {},
   "outputs": [],
   "source": [
    "# instantiate the model and the solver\n",
    "model = cp_model.CpModel()\n",
    "solver = cp_model.CpSolver()"
   ]
  },
  {
   "cell_type": "code",
   "execution_count": null,
   "id": "3eebb912-1b89-4aba-b1bf-6ca07beb5d0c",
   "metadata": {},
   "outputs": [],
   "source": [
    "# declare variable (together with bounds)\n",
    "army = model.NewIntVar(1,100000, 'army')"
   ]
  },
  {
   "cell_type": "code",
   "execution_count": null,
   "id": "ddb31b55-afc1-4a3d-afb5-6057a751142b",
   "metadata": {},
   "outputs": [
    {
     "data": {
      "text/plain": [
       "<ortools.sat.python.cp_model.Constraint>"
      ]
     },
     "execution_count": null,
     "metadata": {},
     "output_type": "execute_result"
    }
   ],
   "source": [
    "# declare constraints\n",
    "model.AddModuloEquality(0, army, 13)\n",
    "model.AddModuloEquality(0, army, 19)\n",
    "model.AddModuloEquality(0, army, 37)"
   ]
  },
  {
   "cell_type": "code",
   "execution_count": null,
   "id": "9115a081-ae27-4943-9252-4361e3bd9490",
   "metadata": {},
   "outputs": [
    {
     "name": "stdout",
     "output_type": "stream",
     "text": [
      "solver status:True\n",
      "solution, soldiers in enemy army:9139\n"
     ]
    }
   ],
   "source": [
    "# apply solver\n",
    "status = solver.Solve(model)\n",
    "# print solver status\n",
    "print('solver status:' + str(status == cp_model.OPTIMAL))\n",
    "print('solution, soldiers in enemy army:' + str(solver.Value(army)))"
   ]
  },
  {
   "cell_type": "markdown",
   "id": "37ded181-750f-40f0-98c2-4e21757c0a9c",
   "metadata": {},
   "source": [
    "# Basic operations in OR tools - Model manipulations\n",
    "\n",
    "c.f. [github OR-tools](https://github.com/google/or-tools/blob/stable/ortools/sat/docs/model.md) for more details\n",
    "\n",
    "## changing bounds \n",
    "\n",
    "Previously we have assumed that the army can not have more than 10000 soldiers. Lets see what happends if we set this bound much higher.\n",
    "\n",
    "The following snippet shows, how to change a variable bound"
   ]
  },
  {
   "cell_type": "code",
   "execution_count": null,
   "id": "b3c44ca0-73a7-4c43-9bd0-ca296d5ba989",
   "metadata": {},
   "outputs": [
    {
     "data": {
      "text/plain": [
       "name: \"army\"\n",
       "domain: 1\n",
       "domain: 100000"
      ]
     },
     "execution_count": null,
     "metadata": {},
     "output_type": "execute_result"
    }
   ],
   "source": [
    "new_value = 100000\n",
    "army.Proto().domain[:] = []\n",
    "army.Proto().domain.extend(cp_model.Domain(1, new_value).FlattenedIntervals())\n",
    "army.Proto()"
   ]
  },
  {
   "cell_type": "markdown",
   "id": "51f15a1d-cb9e-48d1-82b1-71152bf2ef01",
   "metadata": {},
   "source": [
    "add a solution printer"
   ]
  },
  {
   "cell_type": "code",
   "execution_count": null,
   "id": "b79b7483-44e3-4b1d-b690-5c71eb1a5815",
   "metadata": {},
   "outputs": [],
   "source": [
    "class VarArraySolutionPrinter(cp_model.CpSolverSolutionCallback):\n",
    "    \"\"\"Print intermediate solutions.\"\"\"\n",
    "\n",
    "    def __init__(self, variables):\n",
    "        cp_model.CpSolverSolutionCallback.__init__(self)\n",
    "        self.__variables = variables\n",
    "        self.__solution_count = 0\n",
    "\n",
    "    def on_solution_callback(self):\n",
    "        self.__solution_count += 1\n",
    "        for v in self.__variables:\n",
    "            print('%s=%i' % (v, self.Value(v)), end=' ')\n",
    "        print()\n",
    "\n",
    "    def solution_count(self):\n",
    "        return self.__solution_count"
   ]
  },
  {
   "cell_type": "code",
   "execution_count": null,
   "id": "3056c261-4d39-4ff3-9e72-1c5386e03206",
   "metadata": {},
   "outputs": [],
   "source": [
    "solver = cp_model.CpSolver()\n",
    "solution_printer = VarArraySolutionPrinter(army)"
   ]
  },
  {
   "cell_type": "code",
   "execution_count": null,
   "id": "20f46b06-baee-41be-b98c-e5644933fd26",
   "metadata": {},
   "outputs": [],
   "source": [
    "solver.parameters.enumerate_all_solutions = True\n",
    "# Solve.\n",
    "status = solver.Solve(model)"
   ]
  },
  {
   "cell_type": "code",
   "execution_count": null,
   "id": "377f60e5-9b2b-4a75-bc15-cd6fac8b09b3",
   "metadata": {},
   "outputs": [],
   "source": [
    "status = solver.Solve(model)"
   ]
  },
  {
   "cell_type": "code",
   "execution_count": null,
   "id": "20d27e0c-0670-423b-a274-ddb2bf23256a",
   "metadata": {},
   "outputs": [
    {
     "name": "stdout",
     "output_type": "stream",
     "text": [
      "Status = OPTIMAL\n",
      "Number of solutions found: 0\n"
     ]
    }
   ],
   "source": [
    "print('Status = %s' % solver.StatusName(status))\n",
    "print('Number of solutions found: %i' % solution_printer.solution_count())\n"
   ]
  },
  {
   "cell_type": "code",
   "execution_count": null,
   "id": "3759a996-2dd1-43b2-805d-804621577967",
   "metadata": {},
   "outputs": [],
   "source": []
  },
  {
   "cell_type": "code",
   "execution_count": null,
   "id": "99ed76ea-3e89-4628-b38b-fcbfc3caeee3",
   "metadata": {},
   "outputs": [],
   "source": []
  }
 ],
 "metadata": {
  "kernelspec": {
   "display_name": "python3",
   "language": "python",
   "name": "python3"
  }
 },
 "nbformat": 4,
 "nbformat_minor": 5
}
