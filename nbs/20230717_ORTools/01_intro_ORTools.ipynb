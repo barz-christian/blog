{
 "cells": [
  {
   "cell_type": "raw",
   "id": "9eb05a55-0599-4196-82bd-e83b9e5b4eef",
   "metadata": {},
   "source": [
    "---\n",
    "title: \"OR-Tools\"\n",
    "author: \"cbarz\"\n",
    "date: \"2022-07-19\"\n",
    "categories: [constraint programming, OR-Tools]\n",
    "draft: false\n",
    "code-fold: true\n",
    "toc: true\n",
    "description: \"A slim introduction to OR-Tools covering: install, a basic example, basic operations like delete constraint and change variable bounds\"\n",
    "---"
   ]
  },
  {
   "cell_type": "markdown",
   "id": "30f1d8cf-a786-4912-8aae-10572805a07b",
   "metadata": {},
   "source": [
    "# Constraint programming\n",
    "\n",
    "In constraint programming or constraint optimization the goal is to idendtify a feasible solution (or more), where the problem can be modeled in terms of arbitary constraints."
   ]
  },
  {
   "cell_type": "markdown",
   "id": "c25b173f-aefe-4ba1-813b-3f49e2ab13d8",
   "metadata": {},
   "source": [
    "## Install OR-Tools\n",
    "\n",
    "Installing OR-Tools is straight forward using conda:\n",
    "\n",
    "```conda install -c conda-forge ortools-python```\n",
    "\n",
    "or simply pip\n",
    "\n",
    "```python -m pip install --upgrade --user ortools```\n",
    "\n",
    "for more information see [Google OR-Tools Overview](https://developers.google.com/optimization/install)"
   ]
  },
  {
   "cell_type": "markdown",
   "id": "255df26a-396d-4180-9ca6-8d910e7d65fc",
   "metadata": {},
   "source": [
    "## Example count enemy soldiers\n",
    "\n",
    "We want to defeat the army of our opponent and therefore we like to know the the number of enemy soldiers. Lets denote the number of soldiers by $n$.\n",
    "\n",
    "Because counting the soldiers one by one would be time consuming and error prone, we asked our scouts to simply count the number of soldiers in the first row while they were marching through different landscapes.\n",
    "\n",
    "Hence the scouts reported:\n",
    "\n",
    "- scout 1: \"At the bridge there were 13 soldiers in first row\"\n",
    "- scout 2: \"At the crossing there were 19 soldiers in the first row\"\n",
    "- scout 3: \"In the open field there were 37 soldiers in the first row\"\n",
    "\n",
    "So lets translate this into math: Scout 1 says that the number of soldiers is divisible by 13 and scout 2 (respk. scout 3) says that the number is divisible by 19 (respk. 37). And this can written as [congruences](https://en.wikipedia.org/wiki/Modular_arithmetic)\n",
    "\n",
    "$$\n",
    "\\begin{array}{lll}\n",
    "n & \\equiv 0 & \\mod (13) \\\\\n",
    "n & \\equiv 0 & \\mod (19) \\\\\n",
    "n & \\equiv 0 & \\mod (37) \n",
    "\\end{array}\n",
    "$$\n",
    "\n",
    "In addition we somehow know that the number of soldiers of the opponents army can not exceed 10000 soldiers.\n",
    "\n",
    "*remark:* For simplicity of this example we assume that each row has the same number of soldiers. However if there would be less soldiers in the last row, then the left hand side of the above congruence would be excatly this number.\n",
    "\n",
    "\n",
    "### background info\n",
    "\n",
    "The example is well known since the 3 century and is a simple application of the [chinese remainder theorem](https://en.wikipedia.org/wiki/Chinese_remainder_theorem) and requires only some simple math to solve it directly.\n",
    "But we like to point out that the use of congrunences in a LP for example is not that straight forward."
   ]
  },
  {
   "cell_type": "markdown",
   "id": "42ff2a48-25ee-49d1-a58b-3c51d9ac7544",
   "metadata": {},
   "source": [
    "## general steps\n",
    "\n",
    "1. instantiate the model and the solver\n",
    "1. declare variables \n",
    "1. declare constraints\n",
    "1. (optional) define objective\n",
    "1. apply solver"
   ]
  },
  {
   "cell_type": "code",
   "execution_count": null,
   "id": "95cb9c21-507d-4e90-bd6a-08204797ef0c",
   "metadata": {},
   "outputs": [],
   "source": [
    "from ortools.sat.python import cp_model"
   ]
  },
  {
   "cell_type": "code",
   "execution_count": null,
   "id": "08ebc7bf-fed5-47af-8b98-9377434408c1",
   "metadata": {},
   "outputs": [],
   "source": [
    "data = {\n",
    "    'army_ub': 10000,\n",
    "    'counts': [13,19,37]\n",
    "}"
   ]
  },
  {
   "cell_type": "code",
   "execution_count": null,
   "id": "c72e7843-a9ba-4120-a779-0ffaef13452e",
   "metadata": {},
   "outputs": [
    {
     "data": {
      "text/plain": [
       "{'army_ub': 10000, 'counts': [13, 19, 37]}"
      ]
     },
     "execution_count": null,
     "metadata": {},
     "output_type": "execute_result"
    }
   ],
   "source": [
    "data"
   ]
  },
  {
   "cell_type": "code",
   "execution_count": null,
   "id": "85c374e7-327c-417c-92a7-5c298e6bee47",
   "metadata": {},
   "outputs": [],
   "source": [
    "def chinese_remainder(data):\n",
    "    \n",
    "    # instantiate the model and the solver\n",
    "    model = cp_model.CpModel()\n",
    "    solver = cp_model.CpSolver()\n",
    "    # declare variable (together with bounds)\n",
    "    army = model.NewIntVar(1, data['army_ub'], 'army')\n",
    "    # declare constraints\n",
    "    for i in data['counts']:\n",
    "        model.AddModuloEquality(0, army, i)\n",
    "    # apply solver\n",
    "    status = solver.Solve(model)\n",
    "    \n",
    "    if status == cp_model.OPTIMAL:\n",
    "        print(\"solution time %s milliseconds\" %round(solver.WallTime(), 3))\n",
    "        print(\"soldiers in enemy army: %s\" %solver.Value(army))\n",
    "    else:\n",
    "        print('solver could not find a feasible solution')\n",
    "    return solver.Value(army)"
   ]
  },
  {
   "cell_type": "code",
   "execution_count": null,
   "id": "9115a081-ae27-4943-9252-4361e3bd9490",
   "metadata": {},
   "outputs": [
    {
     "name": "stdout",
     "output_type": "stream",
     "text": [
      "solution time 0.038 milliseconds\n",
      "soldiers in enemy army: 9139\n"
     ]
    }
   ],
   "source": [
    "solution = chinese_remainder(data)"
   ]
  },
  {
   "cell_type": "code",
   "execution_count": null,
   "id": "c9b1cbf2-333a-4f88-8831-ecb8bfe85248",
   "metadata": {},
   "outputs": [
    {
     "name": "stdout",
     "output_type": "stream",
     "text": [
      "constraint 1: 9139 mod(13) = 0\n",
      "constraint 2: 9139 mod(19) = 0\n",
      "constraint 3: 9139 mod(37) = 0\n"
     ]
    }
   ],
   "source": [
    "# check solution, expected value = 0\n",
    "j = 0\n",
    "for i in data['counts']:\n",
    "    j = j+1\n",
    "    print(\"constraint %s: %d mod(%d) = %d\" %(j, solution, i, solution % i) )"
   ]
  },
  {
   "cell_type": "markdown",
   "id": "3412821b-9168-4d0f-b0b4-4ef7e8476d0f",
   "metadata": {},
   "source": [
    "In particular because the example is so simple (all remainder are equal to zero), we an solution is given by simply multiplying the divisors. (N.B. This would not be true, if there is one non zero remainder)"
   ]
  },
  {
   "cell_type": "markdown",
   "id": "37ded181-750f-40f0-98c2-4e21757c0a9c",
   "metadata": {},
   "source": [
    "# Multiple solutions\n",
    "\n",
    "In the previous setting there was only one solution due to the choice of the upper bound, i.e. maximal 10000 soldiers in teh army."
   ]
  },
  {
   "cell_type": "code",
   "execution_count": null,
   "id": "3759a996-2dd1-43b2-805d-804621577967",
   "metadata": {},
   "outputs": [],
   "source": [
    "data['army_ub'] = 100000"
   ]
  },
  {
   "cell_type": "code",
   "execution_count": null,
   "id": "99ed76ea-3e89-4628-b38b-fcbfc3caeee3",
   "metadata": {},
   "outputs": [
    {
     "name": "stdout",
     "output_type": "stream",
     "text": [
      "solution time 0.003 milliseconds\n",
      "soldiers in enemy army: 9139\n"
     ]
    },
    {
     "data": {
      "text/plain": [
       "9139"
      ]
     },
     "execution_count": null,
     "metadata": {},
     "output_type": "execute_result"
    }
   ],
   "source": [
    "chinese_remainder(data)"
   ]
  },
  {
   "cell_type": "code",
   "execution_count": null,
   "id": "0bf84754-98f5-4cc6-a970-f4861dbbc27f",
   "metadata": {},
   "outputs": [],
   "source": []
  }
 ],
 "metadata": {
  "kernelspec": {
   "display_name": "python3",
   "language": "python",
   "name": "python3"
  }
 },
 "nbformat": 4,
 "nbformat_minor": 5
}
