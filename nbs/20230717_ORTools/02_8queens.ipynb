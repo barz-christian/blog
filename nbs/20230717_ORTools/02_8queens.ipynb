{
 "cells": [
  {
   "cell_type": "markdown",
   "id": "b6d6a325-9965-40e9-a040-8547079030d1",
   "metadata": {},
   "source": [
    "8 queens"
   ]
  },
  {
   "cell_type": "code",
   "execution_count": null,
   "id": "8a77d790-3147-412b-8762-0e608786cddf",
   "metadata": {},
   "outputs": [],
   "source": [
    "import sys\n",
    "import time\n",
    "from ortools.sat.python import cp_model"
   ]
  },
  {
   "cell_type": "code",
   "execution_count": null,
   "id": "1375e8f9-5d16-4dd1-9a6b-b4a6b4b09358",
   "metadata": {},
   "outputs": [],
   "source": [
    "model = cp_model.CpModel()"
   ]
  },
  {
   "cell_type": "code",
   "execution_count": null,
   "id": "179fdbc0-6897-42e5-8834-8eecb0940f0d",
   "metadata": {},
   "outputs": [],
   "source": [
    "# create variables\n",
    "board_size = 4\n",
    "queens = [\n",
    "    model.NewIntVar(0, board_size - 1, 'x%i' % i) for i in range(board_size)\n",
    "]"
   ]
  },
  {
   "cell_type": "code",
   "execution_count": null,
   "id": "f4ba8ec6-324b-4791-bbb0-add35a5e21b1",
   "metadata": {},
   "outputs": [
    {
     "data": {
      "text/plain": [
       "<ortools.sat.python.cp_model.Constraint>"
      ]
     },
     "execution_count": null,
     "metadata": {},
     "output_type": "execute_result"
    }
   ],
   "source": [
    "# create constraints\n",
    "# All rows must be different.\n",
    "model.AddAllDifferent(queens)\n",
    "\n",
    "# No two queens can be on the same diagonal.\n",
    "model.AddAllDifferent(queens[i] + i for i in range(board_size))\n",
    "model.AddAllDifferent(queens[i] - i for i in range(board_size))"
   ]
  },
  {
   "cell_type": "code",
   "execution_count": null,
   "id": "bf5b267e-3ed3-4c3d-81bf-1c1026ae5c2f",
   "metadata": {},
   "outputs": [],
   "source": [
    "class NQueenSolutionPrinter(cp_model.CpSolverSolutionCallback):\n",
    "    \"\"\"Print intermediate solutions.\"\"\"\n",
    "\n",
    "    def __init__(self, queens):\n",
    "        cp_model.CpSolverSolutionCallback.__init__(self)\n",
    "        self.__queens = queens\n",
    "        self.__solution_count = 0\n",
    "        self.__start_time = time.time()\n",
    "\n",
    "    def solution_count(self):\n",
    "        return self.__solution_count\n",
    "\n",
    "    def on_solution_callback(self):\n",
    "        current_time = time.time()\n",
    "        print('Solution %i, time = %f s' %\n",
    "              (self.__solution_count, current_time - self.__start_time))\n",
    "        self.__solution_count += 1\n",
    "\n",
    "        all_queens = range(len(self.__queens))\n",
    "        for i in all_queens:\n",
    "            for j in all_queens:\n",
    "                if self.Value(self.__queens[j]) == i:\n",
    "                    # There is a queen in column j, row i.\n",
    "                    print('Q', end=' ')\n",
    "                else:\n",
    "                    print('_', end=' ')\n",
    "            print()\n",
    "        print()\n"
   ]
  },
  {
   "cell_type": "code",
   "execution_count": null,
   "id": "61b4517f-fd45-4d98-8589-e74e04c66541",
   "metadata": {},
   "outputs": [
    {
     "name": "stdout",
     "output_type": "stream",
     "text": [
      "Solution 0, time = 0.008995 s\n",
      "_ Q _ _ \n",
      "_ _ _ Q \n",
      "Q _ _ _ \n",
      "_ _ Q _ \n",
      "\n",
      "Solution 1, time = 0.010817 s\n",
      "_ _ Q _ \n",
      "Q _ _ _ \n",
      "_ _ _ Q \n",
      "_ Q _ _ \n",
      "\n"
     ]
    },
    {
     "data": {
      "text/plain": [
       "4"
      ]
     },
     "execution_count": null,
     "metadata": {},
     "output_type": "execute_result"
    }
   ],
   "source": [
    "solver = cp_model.CpSolver()\n",
    "solution_printer = NQueenSolutionPrinter(queens)\n",
    "solver.parameters.enumerate_all_solutions = True\n",
    "solver.Solve(model, solution_printer)"
   ]
  },
  {
   "cell_type": "code",
   "execution_count": null,
   "id": "8bd10792-8871-4e54-8b4d-6ae065dcbe12",
   "metadata": {},
   "outputs": [],
   "source": []
  }
 ],
 "metadata": {
  "kernelspec": {
   "display_name": "python3",
   "language": "python",
   "name": "python3"
  }
 },
 "nbformat": 4,
 "nbformat_minor": 5
}
