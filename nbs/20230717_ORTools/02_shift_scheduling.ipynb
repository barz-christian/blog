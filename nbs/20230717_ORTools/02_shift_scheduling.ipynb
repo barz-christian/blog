{
 "cells": [
  {
   "cell_type": "raw",
   "id": "a76bd0c8-6d81-4afb-a972-43cc51dcfe3e",
   "metadata": {},
   "source": [
    "---\n",
    "title: \"job shop problem with CP-SAT\"\n",
    "author: \"cbarz\"\n",
    "date: \"2022-07-19\"\n",
    "categories: [constraint programming, OR-Tools, job shop problem]\n",
    "draft: True\n",
    "code-fold: true\n",
    "toc: true\n",
    "description: job shop problem with CP-SAT\n",
    "---"
   ]
  },
  {
   "cell_type": "markdown",
   "id": "3b5dd9b5-c7f1-462e-844c-9e3a6e38e78f",
   "metadata": {},
   "source": [
    "c.f. https://developers.google.com/optimization/scheduling/job_shop"
   ]
  },
  {
   "cell_type": "code",
   "execution_count": null,
   "id": "8a77d790-3147-412b-8762-0e608786cddf",
   "metadata": {},
   "outputs": [],
   "source": [
    "import collections\n",
    "from ortools.sat.python import cp_model"
   ]
  },
  {
   "cell_type": "code",
   "execution_count": null,
   "id": "1375e8f9-5d16-4dd1-9a6b-b4a6b4b09358",
   "metadata": {},
   "outputs": [],
   "source": [
    "jobs_data = [  # task = (machine_id, processing_time).\n",
    "    [(0, 3), (1, 2), (2, 2)],  # Job0\n",
    "    [(0, 2), (2, 1), (1, 4)],  # Job1\n",
    "    [(1, 4), (2, 3)]  # Job2\n",
    "]\n",
    "\n",
    "machines_count = 1 + max(task[0] for job in jobs_data for task in job)\n",
    "all_machines = range(machines_count)\n",
    "# Computes horizon dynamically as the sum of all durations.\n",
    "horizon = sum(task[1] for job in jobs_data for task in job)"
   ]
  },
  {
   "cell_type": "code",
   "execution_count": null,
   "id": "b8fa48e4-316d-4e75-83b5-64b5398616ed",
   "metadata": {},
   "outputs": [],
   "source": [
    "all_jobs = [0, 1, 2]"
   ]
  },
  {
   "cell_type": "code",
   "execution_count": null,
   "id": "179fdbc0-6897-42e5-8834-8eecb0940f0d",
   "metadata": {},
   "outputs": [],
   "source": [
    "model = cp_model.CpModel()"
   ]
  },
  {
   "cell_type": "code",
   "execution_count": null,
   "id": "f4ba8ec6-324b-4791-bbb0-add35a5e21b1",
   "metadata": {},
   "outputs": [],
   "source": [
    "# Named tuple to store information about created variables.\n",
    "task_type = collections.namedtuple('task_type', 'start end interval')\n",
    "# Named tuple to manipulate solution information.\n",
    "assigned_task_type = collections.namedtuple('assigned_task_type',\n",
    "                                            'start job index duration')\n",
    "\n",
    "# Creates job intervals and add to the corresponding machine lists.\n",
    "all_tasks = {}\n",
    "machine_to_intervals = collections.defaultdict(list)\n",
    "\n",
    "for job_id, job in enumerate(jobs_data):\n",
    "    for task_id, task in enumerate(job):\n",
    "        machine = task[0]\n",
    "        duration = task[1]\n",
    "        suffix = '_%i_%i' % (job_id, task_id)\n",
    "        start_var = model.NewIntVar(0, horizon, 'start' + suffix)\n",
    "        end_var = model.NewIntVar(0, horizon, 'end' + suffix)\n",
    "        interval_var = model.NewIntervalVar(start_var, duration, end_var,\n",
    "                                            'interval' + suffix)\n",
    "        all_tasks[job_id, task_id] = task_type(start=start_var,\n",
    "                                               end=end_var,\n",
    "                                               interval=interval_var)\n",
    "        machine_to_intervals[machine].append(interval_var)"
   ]
  },
  {
   "cell_type": "code",
   "execution_count": null,
   "id": "bf5b267e-3ed3-4c3d-81bf-1c1026ae5c2f",
   "metadata": {},
   "outputs": [],
   "source": [
    "# Create and add disjunctive constraints.\n",
    "for machine in all_machines:\n",
    "    model.AddNoOverlap(machine_to_intervals[machine])\n",
    "\n",
    "# Precedences inside a job.\n",
    "for job_id, job in enumerate(jobs_data):\n",
    "    for task_id in range(len(job) - 1):\n",
    "        model.Add(all_tasks[job_id, task_id +\n",
    "                            1].start >= all_tasks[job_id, task_id].end)"
   ]
  },
  {
   "cell_type": "code",
   "execution_count": null,
   "id": "61b4517f-fd45-4d98-8589-e74e04c66541",
   "metadata": {},
   "outputs": [],
   "source": [
    "# Makespan objective.\n",
    "obj_var = model.NewIntVar(0, horizon, 'makespan')\n",
    "model.AddMaxEquality(obj_var, [\n",
    "    all_tasks[job_id, len(job) - 1].end\n",
    "    for job_id, job in enumerate(jobs_data)\n",
    "])\n",
    "model.Minimize(obj_var)"
   ]
  },
  {
   "cell_type": "code",
   "execution_count": null,
   "id": "8bd10792-8871-4e54-8b4d-6ae065dcbe12",
   "metadata": {},
   "outputs": [
    {
     "data": {
      "text/plain": [
       "<ortools.sat.python.cp_model.Constraint>"
      ]
     },
     "execution_count": null,
     "metadata": {},
     "output_type": "execute_result"
    }
   ],
   "source": [
    "model.AddMaxEquality(\n",
    "    obj_var,\n",
    "    [all_tasks[(job, len(jobs_data[job]) - 1)].end for job in all_jobs])"
   ]
  },
  {
   "cell_type": "code",
   "execution_count": null,
   "id": "ee3a15ac-21e5-4a29-9219-7b77d8f6b2b5",
   "metadata": {},
   "outputs": [],
   "source": [
    "solver = cp_model.CpSolver()\n",
    "status = solver.Solve(model)"
   ]
  },
  {
   "cell_type": "code",
   "execution_count": null,
   "id": "7fcc74d2-9612-44e7-8584-22b6448a0333",
   "metadata": {},
   "outputs": [
    {
     "name": "stdout",
     "output_type": "stream",
     "text": [
      "Solution:\n",
      "Optimal Schedule Length: 11.0\n",
      "Machine 0: job_1_task_0   job_0_task_0   \n",
      "           [0,2]          [2,5]          \n",
      "Machine 1: job_2_task_0   job_0_task_1   job_1_task_2   \n",
      "           [0,4]          [5,7]          [7,11]         \n",
      "Machine 2: job_1_task_1   job_2_task_1   job_0_task_2   \n",
      "           [2,3]          [4,7]          [7,9]          \n",
      "\n"
     ]
    }
   ],
   "source": [
    "if status == cp_model.OPTIMAL or status == cp_model.FEASIBLE:\n",
    "    print('Solution:')\n",
    "    # Create one list of assigned tasks per machine.\n",
    "    assigned_jobs = collections.defaultdict(list)\n",
    "    for job_id, job in enumerate(jobs_data):\n",
    "        for task_id, task in enumerate(job):\n",
    "            machine = task[0]\n",
    "            assigned_jobs[machine].append(\n",
    "                assigned_task_type(start=solver.Value(\n",
    "                    all_tasks[job_id, task_id].start),\n",
    "                                   job=job_id,\n",
    "                                   index=task_id,\n",
    "                                   duration=task[1]))\n",
    "\n",
    "    # Create per machine output lines.\n",
    "    output = ''\n",
    "    for machine in all_machines:\n",
    "        # Sort by starting time.\n",
    "        assigned_jobs[machine].sort()\n",
    "        sol_line_tasks = 'Machine ' + str(machine) + ': '\n",
    "        sol_line = '           '\n",
    "\n",
    "        for assigned_task in assigned_jobs[machine]:\n",
    "            name = 'job_%i_task_%i' % (assigned_task.job,\n",
    "                                       assigned_task.index)\n",
    "            # Add spaces to output to align columns.\n",
    "            sol_line_tasks += '%-15s' % name\n",
    "\n",
    "            start = assigned_task.start\n",
    "            duration = assigned_task.duration\n",
    "            sol_tmp = '[%i,%i]' % (start, start + duration)\n",
    "            # Add spaces to output to align columns.\n",
    "            sol_line += '%-15s' % sol_tmp\n",
    "\n",
    "        sol_line += '\\n'\n",
    "        sol_line_tasks += '\\n'\n",
    "        output += sol_line_tasks\n",
    "        output += sol_line\n",
    "\n",
    "    # Finally print the solution found.\n",
    "    print(f'Optimal Schedule Length: {solver.ObjectiveValue()}')\n",
    "    print(output)\n",
    "else:\n",
    "    print('No solution found.')"
   ]
  },
  {
   "cell_type": "code",
   "execution_count": null,
   "id": "1dbf9ae5-4909-472d-a203-1fa57b5915a6",
   "metadata": {},
   "outputs": [],
   "source": []
  },
  {
   "cell_type": "code",
   "execution_count": null,
   "id": "6e3bfa30-7a43-443d-9f51-18671e0c9532",
   "metadata": {},
   "outputs": [],
   "source": []
  }
 ],
 "metadata": {
  "kernelspec": {
   "display_name": "python3",
   "language": "python",
   "name": "python3"
  }
 },
 "nbformat": 4,
 "nbformat_minor": 5
}
