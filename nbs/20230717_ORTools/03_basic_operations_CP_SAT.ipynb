{
 "cells": [
  {
   "cell_type": "raw",
   "id": "e4dd2f31-0bcc-476e-809f-25bcd1726cdb",
   "metadata": {},
   "source": [
    "---\n",
    "title: \"CP-SAT basic operations\"\n",
    "author: \"cbarz\"\n",
    "date: \"2022-07-19\"\n",
    "categories: [constraint programming, OR-Tools]\n",
    "draft: false\n",
    "code-fold: true\n",
    "toc: true\n",
    "description: \"Status: WIP, collection of code snippets to work with CP-SAT\"\n",
    "---"
   ]
  },
  {
   "cell_type": "markdown",
   "id": "d571d727-50fb-4ecd-8773-2bb92177e584",
   "metadata": {},
   "source": [
    "# content\n",
    "\n",
    "## Model manipulations\n",
    "\n",
    "this is just a collection of working code snippets to show basic operations when using OR-Tools\n",
    "\n",
    "c.f. [github OR-tools](https://github.com/google/or-tools/blob/stable/ortools/sat/docs/model.md) for more details\n",
    "\n",
    "## used example\n",
    "\n",
    "in order to have running code we use the chinese remainder theorem  as a simple example, i.e. determine the remainder of the division of a given number of (coprime) divisors."
   ]
  },
  {
   "cell_type": "code",
   "execution_count": null,
   "id": "f1f8fb56-1948-4dfb-a3d5-d17b44172fb7",
   "metadata": {},
   "outputs": [],
   "source": [
    "from ortools.sat.python import cp_model"
   ]
  },
  {
   "cell_type": "code",
   "execution_count": null,
   "id": "0395779f-1f90-4450-afe3-56edc716d5f9",
   "metadata": {},
   "outputs": [],
   "source": [
    "data = {\n",
    "    'army_ub': 10000,\n",
    "    'counts': [13,19,37]\n",
    "}"
   ]
  },
  {
   "cell_type": "code",
   "execution_count": null,
   "id": "be776491-f129-453d-a551-d5db8dee2a7a",
   "metadata": {},
   "outputs": [
    {
     "name": "stdout",
     "output_type": "stream",
     "text": [
      "solution time 0.007 milliseconds\n",
      "soldiers in enemy army: 9139\n"
     ]
    }
   ],
   "source": [
    "# instantiate the model and the solver\n",
    "model = cp_model.CpModel()\n",
    "solver = cp_model.CpSolver()\n",
    "# declare variable (together with bounds)\n",
    "army = model.NewIntVar(1, data['army_ub'], 'army')\n",
    "# declare constraints\n",
    "for i in data['counts']:\n",
    "    model.AddModuloEquality(0, army, i)\n",
    "# apply solver\n",
    "status = solver.Solve(model)  \n",
    "if status == cp_model.OPTIMAL:\n",
    "    print(\"solution time %s milliseconds\" %round(solver.WallTime(), 3))\n",
    "    print(\"soldiers in enemy army: %s\" %solver.Value(army))"
   ]
  },
  {
   "cell_type": "markdown",
   "id": "27b52c72-2897-47d2-a6da-ce57399f92b4",
   "metadata": {},
   "source": [
    "### changing bounds \n",
    "\n",
    "In the example we assumed that the upper bound for variable `army` eguals 10000. The following snippet shows, how to change a variable bound"
   ]
  },
  {
   "cell_type": "code",
   "execution_count": null,
   "id": "9e2e75af-0847-4ce1-b439-3ae0794089d7",
   "metadata": {},
   "outputs": [
    {
     "data": {
      "text/plain": [
       "name: \"army\"\n",
       "domain: 1\n",
       "domain: 100000"
      ]
     },
     "execution_count": null,
     "metadata": {},
     "output_type": "execute_result"
    }
   ],
   "source": [
    "new_value = 100000\n",
    "army.Proto().domain[:] = []\n",
    "army.Proto().domain.extend(cp_model.Domain(1, new_value).FlattenedIntervals())\n",
    "army.Proto()"
   ]
  },
  {
   "cell_type": "code",
   "execution_count": null,
   "id": "76782d16-03d3-4f08-8aed-8e8b69dad5ca",
   "metadata": {},
   "outputs": [],
   "source": [
    "class CallbackSolutionPrinter(cp_model.CpSolverSolutionCallback):\n",
    "    \"\"\"Print all solutions.\"\"\"\n",
    "\n",
    "    def __init__(self, variable):\n",
    "        cp_model.CpSolverSolutionCallback.__init__(self)\n",
    "        self.__variable = variable\n",
    "\n",
    "    def on_solution_callback(self):\n",
    "        print(self.Value(self.__variable))"
   ]
  },
  {
   "cell_type": "code",
   "execution_count": null,
   "id": "48bffe47-add8-47f9-9523-ec580d5d248c",
   "metadata": {},
   "outputs": [
    {
     "name": "stdout",
     "output_type": "stream",
     "text": [
      "9139\n",
      "18278\n",
      "27417\n",
      "36556\n",
      "45695\n",
      "54834\n",
      "63973\n",
      "73112\n",
      "82251\n",
      "91390\n"
     ]
    }
   ],
   "source": [
    "solutionprinter = CallbackSolutionPrinter(army)\n",
    "solver.parameters.enumerate_all_solutions = True\n",
    "solver_status = solver.Solve(model, solutionprinter)"
   ]
  },
  {
   "cell_type": "code",
   "execution_count": null,
   "id": "5c227f0c-2308-48fc-9cd6-c7b2fe56ad16",
   "metadata": {},
   "outputs": [],
   "source": []
  }
 ],
 "metadata": {
  "kernelspec": {
   "display_name": "python3",
   "language": "python",
   "name": "python3"
  }
 },
 "nbformat": 4,
 "nbformat_minor": 5
}
