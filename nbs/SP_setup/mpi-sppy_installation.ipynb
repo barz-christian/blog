{
 "cells": [
  {
   "cell_type": "raw",
   "id": "644d4da3-aa33-4364-bfae-e337ccc8b1dd",
   "metadata": {},
   "source": [
    "---\n",
    "title: \"Installing mpi-sppy\"\n",
    "author: \"cbarz\"\n",
    "date: \"2023-12-22\"\n",
    "categories: [setup, stochastic programming]\n",
    "draft: false\n",
    "code-fold: false\n",
    "toc: true\n",
    "description: mpi-sppy is a pyomo extension for stochastic programming. We give a copy and paste summary on how to install mpi-sppy including basic trouble shooting and installation tests.\n",
    "---"
   ]
  },
  {
   "cell_type": "markdown",
   "id": "06f084fe-a2a3-4f74-a18c-155bb21badff",
   "metadata": {},
   "source": [
    "## mpisppy setup\n",
    "\n",
    "Setting up pyomo's extension mpisppy for stochastic programming can become time consuming for various reasons. This post is meant as a copy and paste summary to install mpi-sppy including a first trouble shooting. \n",
    "Moreover we include tests to assure that the installation went well.\n",
    "\n",
    "Following [pyomo read the docs](https://mpi-sppy.readthedocs.io/en/latest/install_mpi.html) the setup can be straight forward by just running the following comands in this order:\n",
    "\n",
    "1. `conda install openmpi`\n",
    "    - alternative `conda install -c anaconda openmpi`\n",
    "1. `conda install mpi4py`\n",
    "1. `pip install mpi-sppy`\n",
    "\n",
    "### prerequisites\n",
    "\n",
    "1. `conda install -c conda-forge pyomo`\n",
    "1. `conda install -c conda-forge glpk`\n",
    "\n",
    "## trouble shooting\n",
    "\n",
    "### Problems installing openmpi\n",
    "\n",
    "c&p walkthrough to install openmpi (on Ubutu 20.04)[^install_open_mpi]\n",
    "**remark:** windows users may need browse for an alternative solution, dropword look for alternative to gcc\n",
    "\n",
    "1. check if installed `mpiexec --version`\n",
    "1. update package repository `sudo apt-get update`\n",
    "1. check gcc compiler and libs\n",
    "    - check: `gcc --version` and `g++ --version`\n",
    "    - install:`sudo apt install build-essential`\n",
    "1. install openmpi `sudo apt-get install openmpi-bin openmpi-doc libopenmpi-dev`\n",
    "\n",
    "\n",
    "[^install_open_mpi]: reference https://webpages.charlotte.edu/abw/coit-grid01.uncc.edu/ParallelProgSoftware/Software/OpenMPIInstall.pdf , alternative : https://edu.itp.phys.ethz.ch/hs12/programming_techniques/openmpi.pdf"
   ]
  },
  {
   "cell_type": "markdown",
   "id": "7d035948-f8f7-41f9-987f-22b2b597ea34",
   "metadata": {},
   "source": [
    "## Test mpisppy installation\n",
    "\n",
    "We use the following farmer example from [pyomo read the docs](https://mpi-sppy.readthedocs.io/en/latest/examples.html) to test the installation.\n",
    "\n",
    "For simplicity we only test here the solution gained from the extensive form, but give some basic tests in case you have cplex installed.\n",
    "The extensive from of a stochastic program is simply said a reformulation of the stochastic programm as a big linear program. "
   ]
  },
  {
   "cell_type": "code",
   "execution_count": null,
   "id": "7763153a-b4ed-48c0-b7bf-dc76dd930286",
   "metadata": {},
   "outputs": [],
   "source": [
    "# additional libs\n",
    "import math"
   ]
  },
  {
   "cell_type": "code",
   "execution_count": null,
   "id": "94bd0c38-df67-4cea-9dee-93c4a7b63d91",
   "metadata": {},
   "outputs": [],
   "source": [
    "# test deterministic\n",
    "import pyomo.environ as pyo\n",
    "\n",
    "def build_model(yields):\n",
    "    model = pyo.ConcreteModel()\n",
    "\n",
    "    # Variables\n",
    "    model.X = pyo.Var([\"WHEAT\", \"CORN\", \"BEETS\"], within=pyo.NonNegativeReals)\n",
    "    model.Y = pyo.Var([\"WHEAT\", \"CORN\"], within=pyo.NonNegativeReals)\n",
    "    model.W = pyo.Var(\n",
    "        [\"WHEAT\", \"CORN\", \"BEETS_FAVORABLE\", \"BEETS_UNFAVORABLE\"],\n",
    "        within=pyo.NonNegativeReals,\n",
    "    )\n",
    "\n",
    "    # Objective function\n",
    "    model.PLANTING_COST = 150 * model.X[\"WHEAT\"] + 230 * model.X[\"CORN\"] + 260 * model.X[\"BEETS\"]\n",
    "    model.PURCHASE_COST = 238 * model.Y[\"WHEAT\"] + 210 * model.Y[\"CORN\"]\n",
    "    model.SALES_REVENUE = (\n",
    "        170 * model.W[\"WHEAT\"] + 150 * model.W[\"CORN\"]\n",
    "        + 36 * model.W[\"BEETS_FAVORABLE\"] + 10 * model.W[\"BEETS_UNFAVORABLE\"]\n",
    "    )\n",
    "    model.OBJ = pyo.Objective(\n",
    "        expr=model.PLANTING_COST + model.PURCHASE_COST - model.SALES_REVENUE,\n",
    "        sense=pyo.minimize\n",
    "    )\n",
    "\n",
    "    # Constraints\n",
    "    model.CONSTR= pyo.ConstraintList()\n",
    "\n",
    "    model.CONSTR.add(pyo.summation(model.X) <= 500)\n",
    "    model.CONSTR.add(\n",
    "        yields[0] * model.X[\"WHEAT\"] + model.Y[\"WHEAT\"] - model.W[\"WHEAT\"] >= 200\n",
    "    )\n",
    "    model.CONSTR.add(\n",
    "        yields[1] * model.X[\"CORN\"] + model.Y[\"CORN\"] - model.W[\"CORN\"] >= 240\n",
    "    )\n",
    "    model.CONSTR.add(\n",
    "        yields[2] * model.X[\"BEETS\"] - model.W[\"BEETS_FAVORABLE\"] - model.W[\"BEETS_UNFAVORABLE\"] >= 0\n",
    "    )\n",
    "    model.W[\"BEETS_FAVORABLE\"].setub(6000)\n",
    "\n",
    "    return model\n",
    "\n",
    "yields = [2.5, 3, 20]\n",
    "model = build_model(yields)\n",
    "solver = pyo.SolverFactory(\"glpk\")\n",
    "solver.solve(model)\n",
    "\n",
    "# Display the objective value to one decimal place\n",
    "assert math.isclose(pyo.value(model.OBJ), -118600.0, \n",
    "                    rel_tol = 1e-09, abs_tol = 1e-09),'wrong objective value in deterministic solution, check prerequisites'"
   ]
  },
  {
   "cell_type": "code",
   "execution_count": null,
   "id": "61c5abaa-c337-49f8-af7e-337946ec23d2",
   "metadata": {},
   "outputs": [
    {
     "name": "stdout",
     "output_type": "stream",
     "text": [
      "[    0.00] Initializing mpi-sppy\n",
      "[    0.00] Initializing SPBase\n"
     ]
    }
   ],
   "source": [
    "# test extensive form\n",
    "import mpisppy.utils.sputils as sputils\n",
    "from mpisppy.opt.ef import ExtensiveForm\n",
    "\n",
    "def scenario_creator(scenario_name):\n",
    "    if scenario_name == \"good\":\n",
    "        yields = [3, 3.6, 24]\n",
    "    elif scenario_name == \"average\":\n",
    "        yields = [2.5, 3, 20]\n",
    "    elif scenario_name == \"bad\":\n",
    "        yields = [2, 2.4, 16]\n",
    "    else:\n",
    "        raise ValueError(\"Unrecognized scenario name\")\n",
    "\n",
    "    model = build_model(yields)\n",
    "    sputils.attach_root_node(model, model.PLANTING_COST, [model.X])\n",
    "    model._mpisppy_probability = 1.0 / 3\n",
    "    return model\n",
    "\n",
    "\n",
    "options = {\"solver\": \"glpk\"}\n",
    "all_scenario_names = [\"good\", \"average\", \"bad\"]\n",
    "ef = ExtensiveForm(options, all_scenario_names, scenario_creator)\n",
    "results = ef.solve_extensive_form()\n",
    "\n",
    "objval = ef.get_objective_value()\n",
    "assert math.isclose(objval, -108390.0, \n",
    "                    rel_tol = 1e-09, abs_tol = 1e-09),'wrong objective value for extensive form solution, check mpi-sppy setup'"
   ]
  },
  {
   "cell_type": "raw",
   "id": "c883c431-af4d-495d-a248-16fa67d51b5a",
   "metadata": {},
   "source": [
    "# test progressive hedging\n",
    "## \n",
    "from mpisppy.opt.ph import PH\n",
    "\n",
    "options = {\n",
    "    \"solver_name\": \"cplex_persistent\",\n",
    "    \"PHIterLimit\": 5,\n",
    "    \"defaultPHrho\": 10,\n",
    "    \"convthresh\": 1e-7,\n",
    "    \"verbose\": False,\n",
    "    \"display_progress\": False,\n",
    "    \"display_timing\": False,\n",
    "    \"iter0_solver_options\": dict(),\n",
    "    \"iterk_solver_options\": dict(),\n",
    "}\n",
    "all_scenario_names = [\"good\", \"average\", \"bad\"]\n",
    "ph = PH(\n",
    "    options,\n",
    "    all_scenario_names,\n",
    "    scenario_creator,\n",
    ")"
   ]
  },
  {
   "cell_type": "raw",
   "id": "2a4196bc-2f5f-4648-816a-eb240707d22d",
   "metadata": {},
   "source": [
    "ph.ph_main()"
   ]
  },
  {
   "cell_type": "raw",
   "id": "89fd714e-fc4d-4465-ac83-48e03ab36d81",
   "metadata": {},
   "source": [
    "variables = ph.gather_var_values_to_rank0()\n",
    "for (scenario_name, variable_name) in variables:\n",
    "    variable_value = variables[scenario_name, variable_name]\n",
    "    print(scenario_name, variable_name, variable_value)"
   ]
  },
  {
   "cell_type": "raw",
   "id": "0f060abb-af59-40de-b9fd-69f9d29d4df9",
   "metadata": {},
   "source": [
    "# test benders decomposition\n",
    "from mpisppy.opt.lshaped import LShapedMethod\n",
    "\n",
    "all_scenario_names = [\"good\", \"average\", \"bad\"]\n",
    "bounds = {name: -432000 for name in all_scenario_names}\n",
    "options = {\n",
    "    \"root_solver\": \"cplex_persistent\",\n",
    "    \"sp_solver\": \"cplex_persistent\",\n",
    "    \"sp_solver_options\" : {\"threads\" : 1},\n",
    "    \"valid_eta_lb\": bounds,\n",
    "    \"max_iter\": 10,\n",
    "}\n",
    "\n",
    "ls = LShapedMethod(options, all_scenario_names, scenario_creator)\n",
    "result = ls.lshaped_algorithm()\n",
    "\n",
    "variables = ls.gather_var_values_to_rank0()\n",
    "for ((scen_name, var_name), var_value) in variables.items():\n",
    "    print(scen_name, var_name, var_value)"
   ]
  },
  {
   "cell_type": "code",
   "execution_count": null,
   "id": "610054fc-5ee0-4d13-971d-fac9d18fac22",
   "metadata": {},
   "outputs": [],
   "source": []
  }
 ],
 "metadata": {
  "kernelspec": {
   "display_name": "python3",
   "language": "python",
   "name": "python3"
  }
 },
 "nbformat": 4,
 "nbformat_minor": 5
}
