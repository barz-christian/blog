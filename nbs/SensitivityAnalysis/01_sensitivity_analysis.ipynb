{
 "cells": [
  {
   "cell_type": "raw",
   "id": "3396fa14-5ee7-4522-b646-f0077a51f553",
   "metadata": {},
   "source": [
    "---\n",
    "title: \"Sensitivity Analysis in Pyomo\"\n",
    "author: \"cbarz\"\n",
    "date: \"2023-03-12\"\n",
    "categories: [modeling, pyomo]\n",
    "draft: false\n",
    "code-fold: false\n",
    "toc: true\n",
    "description: Calculating shadow prices, reduced \n",
    "---"
   ]
  },
  {
   "cell_type": "markdown",
   "id": "546f496b-7f28-4db4-8aef-711a72270f63",
   "metadata": {},
   "source": [
    "# introduction / example\n",
    "\n",
    "In this post we explain certain tools to investigate how an optimal solution changes when the input data changes. First we will introduce the notions and study how to do it in pyomo with the help of a small example.\n",
    "\n",
    "One usage of these tool could be: Suppose we have factories with certain capacities producing certain products. We used a linear program to derive an optimal solution how to use our resources best. In this optimal setting some factories will running at their capacity limit.\n",
    "Now suppose we want to produce/sell more, hence we have to increase the capacities. Hence a natural question is which capacities should be increased first. Of course we could do simmulations using our linear program, but with the help of what we will see soon these information are allready available with our optimal solution.\n",
    "\n",
    "\n",
    "## content / dropwords\n",
    "\n",
    "- [pyomo suffixes](https://pyomo.readthedocs.io/en/stable/pyomo_modeling_components/Suffixes.html)\n",
    "- sensitivity analysis\n",
    "- accessing duals\n",
    "- reduced costs\n",
    "- shadow prices\n",
    "- slack values"
   ]
  },
  {
   "cell_type": "markdown",
   "id": "fd983751-5546-4236-9b87-2a55441a198d",
   "metadata": {},
   "source": [
    "# \"Definitions\"\n",
    "\n",
    "Suppose we like to solve a linear program in following standard form\n",
    "$$\n",
    "\\begin{array}{ll}\n",
    "\\max & c \\cdot x \\\\\n",
    "s.t. & Ax \\leq b\n",
    "\\end{array}\n",
    "$$\n",
    "\n",
    "We can transform the inequalities into equalities using *slack variables* $z$:\n",
    "$$\n",
    "Ax +z = b\n",
    "$$\n",
    "\n",
    "When the simplex method is used to\n",
    "solve a linear program, it calculates an optimal solution, an optimal objective function value, and partitions the variables into basic variables and nonbasic variables.\n",
    "\n",
    "Simply said the optimal solution divides the variables into 2 types:\n",
    "- *basic variable*, which are between their bounds and\n",
    "- *non basic variable*, which are allways at their bounds.\n"
   ]
  },
  {
   "cell_type": "markdown",
   "id": "a962e6b0-ab78-4574-b647-7e203b20ea96",
   "metadata": {},
   "source": [
    "# Example\n",
    "\n",
    "We use the following example from [@bisschop2006aimms, chapter 2.1.2] to show how \n",
    "\n",
    "Suppose we are producing 2 types of chips: plain chips and Mexican chips. Both chips go through three main processes, namely slicing, frying, and packing. These processes have the following time characteristics:\n",
    "\n",
    "- Mexican chips are sliced with a serrate knife, which takes more time than slicing plain chips.\n",
    "- Frying Mexican chips also takes more time than frying plain chips because of their shape.\n",
    "- The packing process is faster for Mexican chips because these are only sold in one kind of bag, while plain chips are sold in both family-bags and smaller ones.\n",
    "\n",
    "There is a limit on the amount of time available for each process because\n",
    "the necessary equipment is also used for other purposes.The chips also have\n",
    "different contributions to net profit.\n",
    "\n",
    "For simplicity we assumed that the market absorbs all produced chips at the fixed price.\n",
    "The planner of the company now has to determine a production plan that\n",
    "yields maximum net profit, while not violating the constraints described above.\n",
    "\n",
    "# algebraic description\n",
    "\n",
    "## sets\n",
    "\n",
    "- $type$ - chip type\n",
    "- $process$ - production process\n",
    "\n",
    "## variables\n",
    "\n",
    "- $x_i$ produced amount of chip type $i \\in type$\n",
    "\n",
    "## parameters\n",
    "\n",
    "- $profit_i$ - profit of 1 kg of type $i$ chip in \\$\n",
    "- $avail_j$ - available time for production process $j$\n",
    "- $time_{ij}$ - required time in min for 1 kg of type $i$ chip and production process $j$\n",
    "\n",
    "## constraints\n",
    "\n",
    "- (c1) time restriction on slicing\n",
    "- (c2) time restriction on frying\n",
    "- (c3) time restriction on packing\n",
    "- production quantities are not negative\n",
    "\n",
    "## objective\n",
    "\n",
    "Maximize net profit\n",
    "\n",
    "## model\n",
    "\n",
    "$$\n",
    "\\begin{array}{lll}\n",
    "\\max & \\sum_{i\\in type} profit_i \\cdot x_i & \\\\\n",
    "s.t. & \\sum_{i\\in type} time_{ij} \\cdot x_i \\leq avail_j & \\forall j\\in process \\\\\n",
    "     & x_{i} \\leq 0 & \n",
    "\\end{array}\n",
    "$$"
   ]
  },
  {
   "cell_type": "code",
   "execution_count": null,
   "id": "70e99471-ac75-4452-813d-cc522d06c8df",
   "metadata": {},
   "outputs": [],
   "source": [
    "import pyomo.environ as pyo\n",
    "import json"
   ]
  },
  {
   "cell_type": "code",
   "execution_count": null,
   "id": "e67b23d6-4e71-46b3-bd44-23dca0c262c6",
   "metadata": {},
   "outputs": [],
   "source": [
    "data = {\n",
    "    \"Name\": \"Chip Shop\",\n",
    "    \"constraints\": {\n",
    "        'slicing': {'plain': 2, 'mexican': 4, 'availibility': 345},\n",
    "        'frying': {'plain': 4, 'mexican': 5, 'availibility': 480},\n",
    "        'packing': {'plain': 4, 'mexican': 2, 'availibility': 330},\n",
    "    },\n",
    "    \"profit\": {'plain': 2., 'mexican': 1.5},\n",
    "    \"Engine\": \"cbc\",\n",
    "    \"TimeLimit\": \"\"\n",
    "\n",
    "}"
   ]
  },
  {
   "cell_type": "markdown",
   "id": "a9c09541-621c-4d48-82c6-52d34293a393",
   "metadata": {},
   "source": [
    "## Interlude accessing duals in Pyomo\n",
    "\n",
    "In order to extract the desired information we are using [suffixes in pyomo](https://pyomo.readthedocs.io/en/stable/pyomo_modeling_components/Suffixes.html). Suffixes provide a mechanism for declaring extraneous model data, which can be used in a number of contexts. The following code snippet shows how to declare a suffix component:\n",
    "\n",
    "`m.dual = pyo.Suffix(direction=pyo.Suffix.IMPORT)`"
   ]
  },
  {
   "cell_type": "markdown",
   "id": "c2b3e5bd-7522-4f5c-9f65-db1c85d0b4ee",
   "metadata": {},
   "source": [
    "## chips model"
   ]
  },
  {
   "cell_type": "code",
   "execution_count": null,
   "id": "a90c2e85-d396-44bf-971f-995f1ff1e458",
   "metadata": {},
   "outputs": [],
   "source": [
    "def chip_shop(data):    \n",
    "    m = pyo.ConcreteModel(data['Name'])\n",
    "    \n",
    "    #sets\n",
    "    m.types = pyo.Set(initialize = list(data['profit'].keys()))\n",
    "    m.process = pyo.Set(initialize = list(data['constraints'].keys()))\n",
    "    \n",
    "    # decision variables\n",
    "    m.x = pyo.Var(m.types, domain = pyo.NonNegativeReals, doc = 'produced packages of chip type i')\n",
    "    \n",
    "    \n",
    "    \n",
    "    # parameter\n",
    "    @m.Param(m.types, m.process, doc = 'processing time of product i in process j')\n",
    "    def time(m,i,j):\n",
    "        return data['constraints'][j][i]\n",
    "    @m.Param(m.process, doc = 'available processing time for process j')\n",
    "    def avail(m,j):\n",
    "        return data['constraints'][j]['availibility']\n",
    "    @m.Param(m.types, doc = 'net profits for product i')\n",
    "    def profit(m,i):\n",
    "        return data['profit'][i]\n",
    "    \n",
    "    # objective\n",
    "    m.OBJ = pyo.Objective(expr = pyo.quicksum(m.profit[i] * m.x[i] for i in m.types),\n",
    "                         sense = pyo.maximize)\n",
    "    \n",
    "    # constraints\n",
    "    @m.Constraint(m.process)\n",
    "    def c(m,j):\n",
    "        return pyo.quicksum(m.time[i,j] * m.x[i] for i in m.types) <= m.avail[j]\n",
    "    \n",
    "    # declaring a Suffix component - to access duals, slack, etc.\n",
    "    m.dual = pyo.Suffix(direction=pyo.Suffix.IMPORT)\n",
    "    \n",
    "    #extra components for output\n",
    "    m.optimaltime = pyo.Var(m.process, domain = pyo.NonNegativeReals)\n",
    "    @m.Constraint(m.process)\n",
    "    def opttime(m,j):\n",
    "        return m.optimaltime[j] == pyo.quicksum(m.time[i,j] * m.x[i] for i in m.types)\n",
    "    \n",
    "    # choosing and applying a solver\n",
    "    solver = pyo.SolverFactory('cbc')\n",
    "    solver.solve(m)\n",
    "    \n",
    "    return m"
   ]
  },
  {
   "cell_type": "code",
   "execution_count": null,
   "id": "956929d2-1d4e-45c6-8d0a-ff628db43f24",
   "metadata": {},
   "outputs": [
    {
     "name": "stdout",
     "output_type": "stream",
     "text": [
      "objective value: 190.0\n",
      "     plain optimal production: 57.5\n",
      "   mexican optimal production: 50.0\n"
     ]
    }
   ],
   "source": [
    "m = chip_shop(data)\n",
    "print('objective value: %s' % pyo.value(m.OBJ))\n",
    "for i in m.types:\n",
    "    print('%10s optimal production: %3s' % (i, pyo.value(m.x[i])))"
   ]
  },
  {
   "cell_type": "markdown",
   "id": "3ad2813b-9cd9-4583-b3cc-51c80ee993c8",
   "metadata": {},
   "source": [
    "# Shadow prices\n",
    "\n",
    "The *marginal value of a constraint, called its shadow price,* is defined as the rate of change of the objective function when increasing the right-hand side of the constraint by one unit.\n",
    "\n",
    "- A positive shadow price indicates that the objective will increase with a unit increase of the right hand side, while a negative shadow price indicates that the objective will decrease.\n",
    "- A nonbinding constraint will have a zero shadow price, as its right hand side is not constraining the optimal solution.\n",
    "\n",
    "This is of course intuitivly clear as relaxing a binding constraint, will enlarge the feasible region. "
   ]
  },
  {
   "cell_type": "code",
   "execution_count": null,
   "id": "c512736d-7453-4592-bd1e-93a9126079fc",
   "metadata": {},
   "outputs": [
    {
     "name": "stdout",
     "output_type": "stream",
     "text": [
      "3 Set Declarations\n",
      "    process : Size=1, Index=None, Ordered=Insertion\n",
      "        Key  : Dimen : Domain : Size : Members\n",
      "        None :     1 :    Any :    3 : {'slicing', 'frying', 'packing'}\n",
      "    time_index : Size=1, Index=None, Ordered=True\n",
      "        Key  : Dimen : Domain        : Size : Members\n",
      "        None :     2 : types*process :    6 : {('plain', 'slicing'), ('plain', 'frying'), ('plain', 'packing'), ('mexican', 'slicing'), ('mexican', 'frying'), ('mexican', 'packing')}\n",
      "    types : Size=1, Index=None, Ordered=Insertion\n",
      "        Key  : Dimen : Domain : Size : Members\n",
      "        None :     1 :    Any :    2 : {'plain', 'mexican'}\n",
      "\n",
      "3 Param Declarations\n",
      "    avail : available processing time for process j\n",
      "        Size=3, Index=process, Domain=Any, Default=None, Mutable=False\n",
      "        Key     : Value\n",
      "         frying :   480\n",
      "        packing :   330\n",
      "        slicing :   345\n",
      "    profit : net profits for product i\n",
      "        Size=2, Index=types, Domain=Any, Default=None, Mutable=False\n",
      "        Key     : Value\n",
      "        mexican :   1.5\n",
      "          plain :   2.0\n",
      "    time : processing time of product i in process j\n",
      "        Size=6, Index=time_index, Domain=Any, Default=None, Mutable=False\n",
      "        Key                    : Value\n",
      "         ('mexican', 'frying') :     5\n",
      "        ('mexican', 'packing') :     2\n",
      "        ('mexican', 'slicing') :     4\n",
      "           ('plain', 'frying') :     4\n",
      "          ('plain', 'packing') :     4\n",
      "          ('plain', 'slicing') :     2\n",
      "\n",
      "2 Var Declarations\n",
      "    optimaltime : Size=3, Index=process\n",
      "        Key     : Lower : Value : Upper : Fixed : Stale : Domain\n",
      "         frying :     0 : 480.0 :  None : False : False : NonNegativeReals\n",
      "        packing :     0 : 330.0 :  None : False : False : NonNegativeReals\n",
      "        slicing :     0 : 315.0 :  None : False : False : NonNegativeReals\n",
      "    x : produced packages of chip type i\n",
      "        Size=2, Index=types\n",
      "        Key     : Lower : Value : Upper : Fixed : Stale : Domain\n",
      "        mexican :     0 :  50.0 :  None : False : False : NonNegativeReals\n",
      "          plain :     0 :  57.5 :  None : False : False : NonNegativeReals\n",
      "\n",
      "1 Objective Declarations\n",
      "    OBJ : Size=1, Index=None, Active=True\n",
      "        Key  : Active : Sense    : Expression\n",
      "        None :   True : maximize : 2.0*x[plain] + 1.5*x[mexican]\n",
      "\n",
      "2 Constraint Declarations\n",
      "    c : Size=3, Index=process, Active=True\n",
      "        Key     : Lower : Body                      : Upper : Active\n",
      "         frying :  -Inf : 4*x[plain] + 5*x[mexican] : 480.0 :   True\n",
      "        packing :  -Inf : 4*x[plain] + 2*x[mexican] : 330.0 :   True\n",
      "        slicing :  -Inf : 2*x[plain] + 4*x[mexican] : 345.0 :   True\n",
      "    opttime : Size=3, Index=process, Active=True\n",
      "        Key     : Lower : Body                                               : Upper : Active\n",
      "         frying :   0.0 :  optimaltime[frying] - (4*x[plain] + 5*x[mexican]) :   0.0 :   True\n",
      "        packing :   0.0 : optimaltime[packing] - (4*x[plain] + 2*x[mexican]) :   0.0 :   True\n",
      "        slicing :   0.0 : optimaltime[slicing] - (2*x[plain] + 4*x[mexican]) :   0.0 :   True\n",
      "\n",
      "1 Suffix Declarations\n",
      "    dual : Direction=Suffix.IMPORT, Datatype=Suffix.FLOAT\n",
      "        Key              : Value\n",
      "               c[frying] : 0.16666667\n",
      "              c[packing] : 0.33333333\n",
      "              c[slicing] :       -0.0\n",
      "         opttime[frying] :       -0.0\n",
      "        opttime[packing] :       -0.0\n",
      "        opttime[slicing] :       -0.0\n",
      "\n",
      "12 Declarations: types process x time_index time avail profit OBJ c dual optimaltime opttime\n"
     ]
    }
   ],
   "source": [
    "m.pprint()"
   ]
  },
  {
   "cell_type": "markdown",
   "id": "1673515f-e46b-4da7-86de-b4f3066bd300",
   "metadata": {},
   "source": [
    "### Example: shadow prices for chips production\n",
    "\n"
   ]
  },
  {
   "cell_type": "code",
   "execution_count": null,
   "id": "8815bf6b-b3fd-49ca-95f4-fa60d020ad8f",
   "metadata": {},
   "outputs": [
    {
     "name": "stdout",
     "output_type": "stream",
     "text": [
      "printing duals\n",
      "   Constraint c\n",
      "       slicing -0.0\n",
      "       slicing -0.0\n",
      "       frying 0.16666667\n",
      "       frying 0.16666667\n",
      "       packing 0.33333333\n",
      "       packing 0.33333333\n",
      "   Constraint opttime\n",
      "       slicing -0.0\n",
      "       slicing -0.0\n",
      "       frying -0.0\n",
      "       frying -0.0\n",
      "       packing -0.0\n",
      "       packing -0.0\n"
     ]
    }
   ],
   "source": [
    "print(\"printing duals\")\n",
    "for c in m.component_objects(pyo.Constraint, active=True):\n",
    "    print(\"   Constraint\", c)\n",
    "    for index in c:\n",
    "        print(\"      \", index, m.dual[c[index]])"
   ]
  },
  {
   "cell_type": "code",
   "execution_count": null,
   "id": "9075cfe5-e9df-4856-abc3-b6c88828a88b",
   "metadata": {},
   "outputs": [],
   "source": [
    "print(\"Constraint  value  lslack  uslack    dual\")\n",
    "for c in [model.demand, model.laborA, model.laborB]:\n",
    "    print(c, str.format(c(), c.lslack(), c.uslack(), model.dual[c]))\n"
   ]
  },
  {
   "cell_type": "code",
   "execution_count": null,
   "id": "1006865e-3cf1-4b39-ba57-e3242cd85579",
   "metadata": {},
   "outputs": [
    {
     "ename": "TypeError",
     "evalue": "'IndexedConstraint' object is not callable",
     "output_type": "error",
     "traceback": [
      "\u001b[0;31m---------------------------------------------------------------------------\u001b[0m",
      "\u001b[0;31mTypeError\u001b[0m                                 Traceback (most recent call last)",
      "Cell \u001b[0;32mIn[47], line 2\u001b[0m\n\u001b[1;32m      1\u001b[0m \u001b[38;5;28;01mfor\u001b[39;00m c \u001b[38;5;129;01min\u001b[39;00m m\u001b[38;5;241m.\u001b[39mcomponent_objects(pyo\u001b[38;5;241m.\u001b[39mConstraint, active\u001b[38;5;241m=\u001b[39m\u001b[38;5;28;01mTrue\u001b[39;00m):\n\u001b[0;32m----> 2\u001b[0m     \u001b[38;5;28mprint\u001b[39m(c, \u001b[38;5;28mstr\u001b[39m\u001b[38;5;241m.\u001b[39mformat(\u001b[43mc\u001b[49m\u001b[43m(\u001b[49m\u001b[43m)\u001b[49m, c\u001b[38;5;241m.\u001b[39mlslack(), c\u001b[38;5;241m.\u001b[39muslack(), m\u001b[38;5;241m.\u001b[39mdual[c]))\n",
      "\u001b[0;31mTypeError\u001b[0m: 'IndexedConstraint' object is not callable"
     ]
    }
   ],
   "source": [
    "for c in m.component_objects(pyo.Constraint, active=True):\n",
    "    print(c, str.format(c(), c.lslack(), c.uslack(), m.dual[c]))"
   ]
  },
  {
   "cell_type": "code",
   "execution_count": null,
   "id": "06d62f08-6f4f-44fc-96cb-56644b27f629",
   "metadata": {},
   "outputs": [
    {
     "data": {
      "text/plain": [
       "{<pyomo.core.base.constraint.IndexedConstraint>: {'slicing': {'process': 'slicing',\n",
       "   'optimal time': 315.0,\n",
       "   'upper bound': 345.0,\n",
       "   'shadow price': 0.33333333},\n",
       "  'frying': {'process': 'frying',\n",
       "   'optimal time': 480.0,\n",
       "   'upper bound': 480.0,\n",
       "   'shadow price': 0.33333333},\n",
       "  'packing': {'process': 'packing',\n",
       "   'optimal time': 330.0,\n",
       "   'upper bound': 330.0,\n",
       "   'shadow price': 0.33333333}},\n",
       " <pyomo.core.base.constraint.IndexedConstraint>: {'slicing': {'process': 'slicing',\n",
       "   'optimal time': 315.0,\n",
       "   'upper bound': 345.0,\n",
       "   'shadow price': -0.0},\n",
       "  'frying': {'process': 'frying',\n",
       "   'optimal time': 480.0,\n",
       "   'upper bound': 480.0,\n",
       "   'shadow price': -0.0},\n",
       "  'packing': {'process': 'packing',\n",
       "   'optimal time': 330.0,\n",
       "   'upper bound': 330.0,\n",
       "   'shadow price': -0.0}}}"
      ]
     },
     "execution_count": null,
     "metadata": {},
     "output_type": "execute_result"
    }
   ],
   "source": [
    "{\n",
    "    c: {i:{'process':i,\n",
    "           'optimal time': pyo.value(m.optimaltime[i]),\n",
    "           'upper bound': pyo.value(m.c[i].upper),\n",
    "           'shadow price': m.dual[c[index]]\n",
    "          }\n",
    "        for i in c        \n",
    "       }\n",
    "    for c in m.component_objects(pyo.Constraint, active=True)  \n",
    "}"
   ]
  },
  {
   "cell_type": "code",
   "execution_count": null,
   "id": "8dcd0b8f-6663-48bc-97ae-d78a964386c4",
   "metadata": {},
   "outputs": [],
   "source": []
  },
  {
   "cell_type": "code",
   "execution_count": null,
   "id": "43310b1f-446f-4d20-92f4-981797fdd935",
   "metadata": {},
   "outputs": [],
   "source": []
  }
 ],
 "metadata": {
  "kernelspec": {
   "display_name": "python3",
   "language": "python",
   "name": "python3"
  }
 },
 "nbformat": 4,
 "nbformat_minor": 5
}
