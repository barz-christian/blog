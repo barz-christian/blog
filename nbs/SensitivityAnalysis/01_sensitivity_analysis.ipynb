{
 "cells": [
  {
   "cell_type": "raw",
   "id": "3396fa14-5ee7-4522-b646-f0077a51f553",
   "metadata": {},
   "source": [
    "---\n",
    "title: \"Sensitivity Analysis in Pyomo\"\n",
    "author: \"cbarz\"\n",
    "date: \"2023-03-12\"\n",
    "categories: [modeling, pyomo]\n",
    "draft: false\n",
    "code-fold: false\n",
    "toc: true\n",
    "description: Calculating shadow prices, reduced \n",
    "---"
   ]
  },
  {
   "cell_type": "markdown",
   "id": "546f496b-7f28-4db4-8aef-711a72270f63",
   "metadata": {},
   "source": [
    "# introduction / example\n",
    "\n",
    "In this post we explain certain tools to investigate how an optimal solution changes when the input data changes. First we will introduce the notions and study how to do it in pyomo with the help of a small example.\n",
    "\n",
    "One usage of these tool could be: Suppose we have factories with certain capacities producing certain products. We used a linear program to derive an optimal solution how to use our resources best. In this optimal setting some factories will running at their capacity limit.\n",
    "Now suppose we want to produce/sell more, hence we have to increase the capacities. Hence a natural question is which capacities should be increased first. Of course we could do simmulations using our linear program, but with the help of what we will see soon these information are allready available with our optimal solution.\n",
    "\n",
    "\n",
    "## content / dropwords\n",
    "\n",
    "- [pyomo suffixes](https://pyomo.readthedocs.io/en/stable/pyomo_modeling_components/Suffixes.html)\n",
    "- sensitivity analysis\n",
    "- accessing duals\n",
    "- reduced costs\n",
    "- shadow prices\n",
    "- slack values"
   ]
  },
  {
   "cell_type": "markdown",
   "id": "fd983751-5546-4236-9b87-2a55441a198d",
   "metadata": {},
   "source": [
    "# \"Definitions\"\n",
    "\n",
    "Suppose we like to solve a linear program in following standard form\n",
    "$$\n",
    "\\begin{array}{ll}\n",
    "\\max & c \\cdot x \\\\\n",
    "s.t. & Ax \\leq b\n",
    "\\end{array}\n",
    "$$\n",
    "\n",
    "We can transform the inequalities into equalities using *slack variables* $z$:\n",
    "$$\n",
    "Ax +z = b\n",
    "$$\n",
    "\n",
    "When the simplex method is used to\n",
    "solve a linear program, it calculates an optimal solution, an optimal objective function value, and partitions the variables into basic variables and nonbasic variables.\n",
    "\n",
    "Simply said the optimal solution divides the variables into 2 types:\n",
    "- *basic variable*, which are between their bounds and\n",
    "- *non basic variable*, which are allways at their bounds.\n"
   ]
  },
  {
   "cell_type": "markdown",
   "id": "a962e6b0-ab78-4574-b647-7e203b20ea96",
   "metadata": {},
   "source": [
    "# Example\n",
    "\n",
    "We use the following example from [@bisschop2006aimms, chapter 2.1.2] to show how \n",
    "\n",
    "Suppose we are producing 2 types of chips: plain chips and Mexican chips. Both chips go through three main processes, namely slicing, frying, and packing. These processes have the following time characteristics:\n",
    "\n",
    "- Mexican chips are sliced with a serrate knife, which takes more time than slicing plain chips.\n",
    "- Frying Mexican chips also takes more time than frying plain chips because of their shape.\n",
    "- The packing process is faster for Mexican chips because these are only sold in one kind of bag, while plain chips are sold in both family-bags and smaller ones.\n",
    "\n",
    "There is a limit on the amount of time available for each process because\n",
    "the necessary equipment is also used for other purposes.The chips also have\n",
    "different contributions to net profit.\n",
    "\n",
    "For simplicity we assumed that the market absorbs all produced chips at the fixed price.\n",
    "The planner of the company now has to determine a production plan that\n",
    "yields maximum net profit, while not violating the constraints described above.\n",
    "\n",
    "# algebraic description\n",
    "\n",
    "## sets\n",
    "\n",
    "- $type$ - chip type\n",
    "- $process$ - production process\n",
    "\n",
    "## variables\n",
    "\n",
    "- $x_i$ produced amount of chip type $i \\in type$\n",
    "\n",
    "## parameters\n",
    "\n",
    "- $profit_i$ - profit of 1 kg of type $i$ chip in \\$\n",
    "- $avail_j$ - available time for production process $j$\n",
    "- $time_{ij}$ - required time in min for 1 kg of type $i$ chip and production process $j$\n",
    "\n",
    "## constraints\n",
    "\n",
    "- (c1) time restriction on slicing\n",
    "- (c2) time restriction on frying\n",
    "- (c3) time restriction on packing\n",
    "- production quantities are not negative\n",
    "\n",
    "## objective\n",
    "\n",
    "Maximize net profit\n",
    "\n",
    "## model\n",
    "\n",
    "$$\n",
    "\\begin{array}{lll}\n",
    "\\max & \\sum_{i\\in type} profit_i \\cdot x_i & \\\\\n",
    "s.t. & \\sum_{i\\in type} time_{ij} \\cdot x_i \\leq avail_j & \\forall j\\in process \\\\\n",
    "     & x_{i} \\leq 0 & \n",
    "\\end{array}\n",
    "$$"
   ]
  },
  {
   "cell_type": "code",
   "execution_count": null,
   "id": "70e99471-ac75-4452-813d-cc522d06c8df",
   "metadata": {},
   "outputs": [],
   "source": [
    "import pyomo.environ as pyo\n",
    "import json"
   ]
  },
  {
   "cell_type": "code",
   "execution_count": null,
   "id": "e67b23d6-4e71-46b3-bd44-23dca0c262c6",
   "metadata": {},
   "outputs": [],
   "source": [
    "data = {\n",
    "    \"Name\": \"Chip Shop\",\n",
    "    \"constraints\": {\n",
    "        'slicing': {'plain': 2, 'mexican': 4, 'availibility': 345},\n",
    "        'frying': {'plain': 4, 'mexican': 5, 'availibility': 480},\n",
    "        'packing': {'plain': 4, 'mexican': 2, 'availibility': 330},\n",
    "    },\n",
    "    \"profit\": {'plain': 2., 'mexican': 1.5},\n",
    "    \"Engine\": \"cbc\",\n",
    "    \"TimeLimit\": \"\"\n",
    "\n",
    "}"
   ]
  },
  {
   "cell_type": "markdown",
   "id": "a9c09541-621c-4d48-82c6-52d34293a393",
   "metadata": {},
   "source": [
    "## Interlude accessing duals in Pyomo\n",
    "\n",
    "In order to extract the desired information we are using [suffixes in pyomo](https://pyomo.readthedocs.io/en/stable/pyomo_modeling_components/Suffixes.html). Suffixes provide a mechanism for declaring extraneous model data, which can be used in a number of contexts. The following code snippet shows how to declare a suffix component:\n",
    "\n",
    "`m.dual = pyo.Suffix(direction=pyo.Suffix.IMPORT)`"
   ]
  },
  {
   "cell_type": "markdown",
   "id": "c2b3e5bd-7522-4f5c-9f65-db1c85d0b4ee",
   "metadata": {},
   "source": [
    "## chips model"
   ]
  },
  {
   "cell_type": "code",
   "execution_count": null,
   "id": "a90c2e85-d396-44bf-971f-995f1ff1e458",
   "metadata": {},
   "outputs": [],
   "source": [
    "def chip_shop(data):    \n",
    "    m = pyo.ConcreteModel(data['Name'])\n",
    "    \n",
    "    #sets\n",
    "    m.types = pyo.Set(initialize = list(data['profit'].keys()))\n",
    "    m.process = pyo.Set(initialize = list(data['constraints'].keys()))\n",
    "    \n",
    "    # decision variables\n",
    "    m.x = pyo.Var(m.types, domain = pyo.NonNegativeReals, doc = 'produced packages of chip type i')\n",
    "    \n",
    "    \n",
    "    \n",
    "    # parameter\n",
    "    @m.Param(m.types, m.process, doc = 'processing time of product i in process j')\n",
    "    def time(m,i,j):\n",
    "        return data['constraints'][j][i]\n",
    "    @m.Param(m.process, doc = 'available processing time for process j')\n",
    "    def avail(m,j):\n",
    "        return data['constraints'][j]['availibility']\n",
    "    @m.Param(m.types, doc = 'net profits for product i')\n",
    "    def profit(m,i):\n",
    "        return data['profit'][i]\n",
    "    \n",
    "    # objective\n",
    "    m.OBJ = pyo.Objective(expr = pyo.quicksum(m.profit[i] * m.x[i] for i in m.types),\n",
    "                         sense = pyo.maximize)\n",
    "    \n",
    "    # constraints\n",
    "    @m.Constraint(m.process)\n",
    "    def c(m,j):\n",
    "        return pyo.quicksum(m.time[i,j] * m.x[i] for i in m.types) <= m.avail[j]\n",
    "    \n",
    "    # declaring a Suffix component - to access duals, slack, etc.\n",
    "    m.dual = pyo.Suffix(direction=pyo.Suffix.IMPORT)\n",
    "    \n",
    "    #extra components for output\n",
    "    m.optimaltime = pyo.Var(m.process, domain = pyo.NonNegativeReals)\n",
    "    @m.Constraint(m.process)\n",
    "    def opttime(m,j):\n",
    "        return m.optimaltime[j] == pyo.quicksum(m.time[i,j] * m.x[i] for i in m.types)\n",
    "    \n",
    "    # choosing and applying a solver\n",
    "    solver = pyo.SolverFactory('cbc')\n",
    "    solver.solve(m)\n",
    "    \n",
    "    return m"
   ]
  },
  {
   "cell_type": "code",
   "execution_count": null,
   "id": "956929d2-1d4e-45c6-8d0a-ff628db43f24",
   "metadata": {},
   "outputs": [
    {
     "name": "stdout",
     "output_type": "stream",
     "text": [
      "objective value: 190.0\n",
      "     plain optimal production: 57.5\n",
      "   mexican optimal production: 50.0\n"
     ]
    }
   ],
   "source": [
    "m = chip_shop(data)\n",
    "print('objective value: %s' % pyo.value(m.OBJ))\n",
    "for i in m.types:\n",
    "    print('%10s optimal production: %3s' % (i, pyo.value(m.x[i])))"
   ]
  },
  {
   "cell_type": "markdown",
   "id": "3ad2813b-9cd9-4583-b3cc-51c80ee993c8",
   "metadata": {},
   "source": [
    "# Shadow prices\n",
    "\n",
    "The *marginal value of a constraint, called its shadow price,* is defined as the rate of change of the objective function when increasing the right-hand side of the constraint by one unit.\n",
    "\n",
    "- A positive shadow price indicates that the objective will increase with a unit increase of the right hand side, while a negative shadow price indicates that the objective will decrease.\n",
    "- A nonbinding constraint will have a zero shadow price, as its right hand side is not constraining the optimal solution.\n",
    "\n",
    "This is of course intuitivly clear as relaxing a binding constraint, will enlarge the feasible region. "
   ]
  },
  {
   "cell_type": "markdown",
   "id": "1673515f-e46b-4da7-86de-b4f3066bd300",
   "metadata": {},
   "source": [
    "### Example: shadow prices for chips production\n",
    "\n"
   ]
  },
  {
   "cell_type": "code",
   "execution_count": null,
   "id": "8815bf6b-b3fd-49ca-95f4-fa60d020ad8f",
   "metadata": {},
   "outputs": [
    {
     "name": "stdout",
     "output_type": "stream",
     "text": [
      "printing duals\n",
      "   Constraint c\n",
      "       slicing -0.0\n",
      "       frying 0.16666667\n",
      "       packing 0.33333333\n",
      "   Constraint opttime\n",
      "       slicing -0.0\n",
      "       frying -0.0\n",
      "       packing -0.0\n"
     ]
    }
   ],
   "source": [
    "print(\"printing duals\")\n",
    "for c in m.component_objects(pyo.Constraint, active=True):\n",
    "    print(\"   Constraint\", c)\n",
    "    for index in c:\n",
    "        print(\"      \", index, m.dual[c[index]])"
   ]
  },
  {
   "cell_type": "code",
   "execution_count": null,
   "id": "8dcd0b8f-6663-48bc-97ae-d78a964386c4",
   "metadata": {},
   "outputs": [],
   "source": []
  },
  {
   "cell_type": "code",
   "execution_count": null,
   "id": "43310b1f-446f-4d20-92f4-981797fdd935",
   "metadata": {},
   "outputs": [],
   "source": []
  }
 ],
 "metadata": {
  "kernelspec": {
   "display_name": "python3",
   "language": "python",
   "name": "python3"
  }
 },
 "nbformat": 4,
 "nbformat_minor": 5
}
