{
 "cells": [
  {
   "cell_type": "raw",
   "id": "d31c92f2-c8b2-4eb6-9bc1-b499365ffe8d",
   "metadata": {},
   "source": [
    "---\n",
    "title: \"TBA:assignment problems\"\n",
    "author: \"cbarz\"\n",
    "date: \"2023-12-02\"\n",
    "categories: []\n",
    "draft: true\n",
    "code-fold: true\n",
    "toc: true\n",
    "description: TBA overview of assignment problems - sturcture\n",
    "---"
   ]
  },
  {
   "cell_type": "markdown",
   "id": "7c06b991-59bd-49c5-9d31-816f3ecd0d36",
   "metadata": {},
   "source": [
    "## content \n",
    "\n",
    "1. [ ] gentle introduction - will be writen last\n",
    "1. [ ] abstract description\n",
    "1. prolem types / graph problems\n",
    "    - [stable marriage problem](https://en.wikipedia.org/wiki/Stable_marriage_problem)\n",
    "    - [stable roomates problem](https://en.wikipedia.org/wiki/Stable_roommates_problem)\n",
    "    - [weapon assignment problem](https://en.wikipedia.org/wiki/Weapon_target_assignment_problem)\n",
    "    - [hospitals/residends problem](https://en.wikipedia.org/wiki/Hospital_resident)\n",
    "    - hospital to physicians (find quote, recall solution was once honored with 'alfred nobel gedächnispreis')\n",
    "1. recall some notions and facts from theory\n",
    "1. [ ] algorithms (ways of solving)\n",
    "    - as LP\n",
    "    - \"hungariang algorithm\" / Kuhn-Munkres algorithm\n",
    "    - [edmonds algorithm](https://en.wikipedia.org/wiki/Edmonds%27s_matching_algorithm)\n",
    "    - [Gale-Shapley algorithm](https://joss.theoj.org/papers/10.21105/joss.02169)\n",
    "    - approximation algorithms\n",
    "1. implementations of mathcing algorithms\n",
    "- [matching](https://pypi.org/project/matching/)\n",
    "\n",
    "1. examples ?\n",
    "\n",
    "## plan\n",
    "\n",
    "- write a notebook for each specific problem class/type\n",
    "- "
   ]
  }
 ],
 "metadata": {
  "kernelspec": {
   "display_name": "python3",
   "language": "python",
   "name": "python3"
  }
 },
 "nbformat": 4,
 "nbformat_minor": 5
}
