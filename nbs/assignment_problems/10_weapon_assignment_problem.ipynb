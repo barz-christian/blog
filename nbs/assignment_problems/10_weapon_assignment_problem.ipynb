{
 "cells": [
  {
   "cell_type": "raw",
   "id": "8e82f318-ea4c-48cc-8ddc-d65ab1fc7c24",
   "metadata": {},
   "source": [
    "---\n",
    "title: \"Weapon target assignment problem\"\n",
    "author: \"cbarz\"\n",
    "date: \"2023-12-02\"\n",
    "categories: [nlp, assignment problem]\n",
    "draft: true\n",
    "code-fold: true\n",
    "toc: true\n",
    "description: The weapon target assignment problem \n",
    "---"
   ]
  },
  {
   "cell_type": "markdown",
   "id": "471170ac-d851-4e95-a965-6230025b3498",
   "metadata": {},
   "source": [
    "## plan\n",
    "\n",
    "1. gentle introduction\n",
    "    - including applications of the WTA\n",
    "1. mathematical formulation\n",
    "1. pyomo implementation\n",
    "1. example\n",
    "1. other solution methods"
   ]
  },
  {
   "cell_type": "markdown",
   "id": "b6002b32-4d32-4fc3-aef8-82bf040ba030",
   "metadata": {},
   "source": [
    "## Introduction\n",
    "\n",
    "According to [the wikipedia article](https://en.wikipedia.org/wiki/Weapon_target_assignment_problem) the about the weapon target assignnment problem (WTA) can be formulated as follows:\n",
    "\n",
    "Given a number of weapons and a number of targets. The weapons are of type $i=1,\\ldots ,m$ and $W_i$ denotes the number available weapons of type $i$. Similarly, there are $j=1,\\ldots ,n$ targets with value $V_j$. Any of the weapons can be assigned to any target. Each weapon type has a certain probability of destroying each target, given by $p_{ij}$.\n",
    "\n",
    "\n",
    "**Remark:** as this is a non linear problem, we include a brief section about implementing non linear models in pyomo and some modeling tips for nlp.\n"
   ]
  },
  {
   "cell_type": "markdown",
   "id": "21c6e346-d573-4325-b853-2894dd9c725f",
   "metadata": {},
   "source": [
    "## math formulation \n",
    "\n",
    "The WTA can be formulated as a non linear integer programm as follows:\n",
    "\n",
    "$$\n",
    "\\begin{array}{llc}\n",
    "\\min & \\sum_j (V_j \\prod_i q_{ij}^{x_{ij}}) & \\\\\n",
    "s.t. & \\sum_j x_{ij} \\leq W_i &, \\forall i \\\\\n",
    "     & x_{ij} \\in \\mathbb{N}\n",
    "\\end{array}\n",
    "$$\n",
    "\n",
    "### objective\n",
    "\n",
    "minimizing the expected survival value or equivalently maximizing the expeced damange\n",
    "\n",
    "### (decision) variable\n",
    "\n",
    "- $x_{ij}$ is the number of weapons of type $i$ assigned to target $j$\n",
    "\n",
    "### parameter\n",
    "\n",
    "- $q_{ij}:=(1-p_{ij})$ survival probability of target $j$ for weapon $i$\n",
    "\n",
    "### constraints\n",
    "\n",
    "Dont assign more weapons of type $i$ than available, i.e. $W_i$\n",
    "\n",
    "### assumptions\n"
   ]
  },
  {
   "cell_type": "code",
   "execution_count": null,
   "id": "cd4e9564-d946-4e98-9257-92c8de0cfd0f",
   "metadata": {},
   "outputs": [],
   "source": [
    "import pyomo.environ as pyo\n",
    "import pandas as pd\n",
    "import numpy as np\n",
    "from itertools import product"
   ]
  },
  {
   "cell_type": "markdown",
   "id": "30a542d0-a236-4a41-bf4a-9fcb87fee93c",
   "metadata": {},
   "source": [
    "## example\n",
    "\n",
    "We consider the following example (from [the wikipedia on the weapon target assignment problem](https://en.wikipedia.org/wiki/Weapon_target_assignment_problem))"
   ]
  },
  {
   "cell_type": "code",
   "execution_count": null,
   "id": "24d9157e-3a3b-471c-9072-094ea8a7c999",
   "metadata": {},
   "outputs": [],
   "source": [
    "data = {\n",
    "'problem_data' : {\n",
    "    'weapon_num': {'ground':5,'air':2, 'sea':1},\n",
    "    'target_val': {'T1':5,'T2':10,'T3':20},\n",
    "    'success_probability': pd.DataFrame(data = {'T1':[0.3,0.1,0.4],\n",
    "                                                'T2':[0.2,0.6,0.5], \n",
    "                                                'T3':[0.5,0.5,0.4]},\n",
    "                                        index = ['ground','air', 'sea'])\n",
    "},\n",
    "    'model_name': 'weapon assignment problem',\n",
    "    'solver': 'scip'\n",
    "}"
   ]
  },
  {
   "cell_type": "code",
   "execution_count": null,
   "id": "274f0f2f-0eff-4c2e-b2ce-64adda7ce752",
   "metadata": {},
   "outputs": [],
   "source": [
    "daten = data['problem_data']"
   ]
  },
  {
   "cell_type": "code",
   "execution_count": null,
   "id": "3adf4e10-e1a1-4fbe-815d-09948c3c7912",
   "metadata": {},
   "outputs": [
    {
     "name": "stdout",
     "output_type": "stream",
     "text": [
      "Given weapons and their availibility:\n"
     ]
    },
    {
     "data": {
      "text/plain": [
       "{'ground': 5, 'air': 2, 'sea': 1}"
      ]
     },
     "execution_count": null,
     "metadata": {},
     "output_type": "execute_result"
    }
   ],
   "source": [
    "print('Given weapons and their availibility:')\n",
    "daten['weapon_num']"
   ]
  },
  {
   "cell_type": "code",
   "execution_count": null,
   "id": "75f7db14-d98a-4adb-9573-be9cb104a1c2",
   "metadata": {},
   "outputs": [
    {
     "name": "stdout",
     "output_type": "stream",
     "text": [
      "Given targets and their value:\n"
     ]
    },
    {
     "data": {
      "text/plain": [
       "{'T1': 5, 'T2': 10, 'T3': 20}"
      ]
     },
     "execution_count": null,
     "metadata": {},
     "output_type": "execute_result"
    }
   ],
   "source": [
    "print('Given targets and their value:')\n",
    "daten['target_val']"
   ]
  },
  {
   "cell_type": "code",
   "execution_count": null,
   "id": "ece2d03b-6fe6-4d85-a635-7f475dc08224",
   "metadata": {},
   "outputs": [
    {
     "data": {
      "text/plain": [
       "5"
      ]
     },
     "execution_count": null,
     "metadata": {},
     "output_type": "execute_result"
    }
   ],
   "source": [
    "i = 'ground'\n",
    "daten['weapon_num'][i]"
   ]
  },
  {
   "cell_type": "code",
   "execution_count": null,
   "id": "8ad516a2-2038-440f-b09a-1f80d8ec5aab",
   "metadata": {},
   "outputs": [
    {
     "name": "stdout",
     "output_type": "stream",
     "text": [
      "success probabilities:\n"
     ]
    },
    {
     "data": {
      "text/html": [
       "<div>\n",
       "<style scoped>\n",
       "    .dataframe tbody tr th:only-of-type {\n",
       "        vertical-align: middle;\n",
       "    }\n",
       "\n",
       "    .dataframe tbody tr th {\n",
       "        vertical-align: top;\n",
       "    }\n",
       "\n",
       "    .dataframe thead th {\n",
       "        text-align: right;\n",
       "    }\n",
       "</style>\n",
       "<table border=\"1\" class=\"dataframe\">\n",
       "  <thead>\n",
       "    <tr style=\"text-align: right;\">\n",
       "      <th></th>\n",
       "      <th>T1</th>\n",
       "      <th>T2</th>\n",
       "      <th>T3</th>\n",
       "    </tr>\n",
       "  </thead>\n",
       "  <tbody>\n",
       "    <tr>\n",
       "      <th>ground</th>\n",
       "      <td>0.3</td>\n",
       "      <td>0.2</td>\n",
       "      <td>0.5</td>\n",
       "    </tr>\n",
       "    <tr>\n",
       "      <th>air</th>\n",
       "      <td>0.1</td>\n",
       "      <td>0.6</td>\n",
       "      <td>0.5</td>\n",
       "    </tr>\n",
       "    <tr>\n",
       "      <th>sea</th>\n",
       "      <td>0.4</td>\n",
       "      <td>0.5</td>\n",
       "      <td>0.4</td>\n",
       "    </tr>\n",
       "  </tbody>\n",
       "</table>\n",
       "</div>"
      ],
      "text/plain": [
       "         T1   T2   T3\n",
       "ground  0.3  0.2  0.5\n",
       "air     0.1  0.6  0.5\n",
       "sea     0.4  0.5  0.4"
      ]
     },
     "metadata": {},
     "output_type": "display_data"
    }
   ],
   "source": [
    "print('success probabilities:')\n",
    "display(daten['success_probability'])"
   ]
  },
  {
   "cell_type": "markdown",
   "id": "36a9efb7-e6d6-46ef-af15-1754624d70ab",
   "metadata": {},
   "source": [
    "## Implementation\n",
    "\n",
    "As the used model for the weapon assignment problem is nonlinear lets recall:"
   ]
  },
  {
   "cell_type": "markdown",
   "id": "e2ef3b41-a008-4117-83ab-018e523cf23e",
   "metadata": {},
   "source": [
    "### Pyomo expression for non linear models\n",
    "\n",
    "Write down a non linear problem in pyomo is easy:\n",
    "\n",
    "| operation | operator | example |\n",
    "|----------|----------|----------|\n",
    "| multiplication    | *   | expr = model.x * model.y   |\n",
    "| division   | /   | expr = model.x / model.y  |\n",
    "| exponentiation | **   | expr = (model.x+2.0)**model.y  |\n",
    "| in-place multiplication | *=   | expr *= model.x   |\n",
    "| in-place division | /=   | expr = /= model.y  |\n",
    "| in-place exponentiation | **=   | expr **= model.x   |\n",
    "\n",
    "moreover there more supported functions part of the pyomo package, e.g. trigonometric functions:\n",
    "\n",
    "- https://static1.squarespace.com/static/5492d7f4e4b00040889988bd/t/57bd0faad482e927298cca8f/1472008110099/5_Nonlinear.pdf"
   ]
  },
  {
   "cell_type": "markdown",
   "id": "6e3b559e-67fe-4070-8819-e3063bc16370",
   "metadata": {},
   "source": [
    "### Some modeling tips\n",
    "\n",
    "- recall many mathematical functions have a valid domain and evaluation outside of their domain caueses errors (-> bounds and innitilization)\n",
    "- as solvers uses 1st and 2nd derivatives check bounds also w.r.t. derivatives ,e.g. for $f(x)=\\sqrt{x}$ we have $f(0)$ is valid but $\\frac{\\partial}{\\partial_x}f(0)$ is not\n",
    "- scale model to avoid variables, contraints, derivatives with different scales\n"
   ]
  },
  {
   "cell_type": "markdown",
   "id": "c3c5d816-23f7-4852-be3e-fed7ae6cabb6",
   "metadata": {},
   "source": [
    "### implementation remark\n",
    "\n",
    "#### solver supports minlp\n",
    "\n",
    "Some Sovlers can handle MINLPs like SCIP, hence after defining an non linear model in pyom, we can solve it as it were a linear model\n",
    "```\n",
    "# define model\n",
    "model = pyo.ConcreteModel()\n",
    "...\n",
    "# choose solver an apply it\n",
    "solver = pyo.SolverFactor('scip')\n",
    "solver.solve(model)\n",
    "```\n",
    "\n",
    "But Pyomo comes with `MindtPy` a mixed-integer nonlinear decomposition toolbox, which allows using decomposition algorithms to solve MINLP. (c.f. upcomming blog post)\n",
    "\n",
    "#### using decomposition algorithms from `MindtPy`\n",
    "\n",
    "```\n",
    "solver = pyo.SolverFactory('mindtpy')\n",
    "solver.solve(model, mip_solver='glpk', nlp_solver='ipopt') \n",
    "```\n",
    "\n",
    "reference: https://pyomo.readthedocs.io/en/stable/contributed_packages/mindtpy.html"
   ]
  },
  {
   "cell_type": "code",
   "execution_count": null,
   "id": "adbc7f93-5695-4631-9238-1b68e3501927",
   "metadata": {},
   "outputs": [],
   "source": [
    "def wta(data):\n",
    "    # assign data to more handleble structures\n",
    "    daten = data['problem_data']\n",
    "    probs = daten['success_probability']\n",
    "    \n",
    "    # create model instance\n",
    "    m = pyo.ConcreteModel(data['model_name'])\n",
    "    \n",
    "    # sets\n",
    "    m.I = pyo.Set(initialize = daten['weapon_num'].keys(), doc = 'weapon types')\n",
    "    m.J = pyo.Set(initialize = daten['target_val'].keys(),doc = 'targets')\n",
    "    # decision variable\n",
    "    m.x = pyo.Var(m.I, m.J, domain = pyo.NonNegativeIntegers,\n",
    "                  doc = 'number of weapons of type i assigned to target j')\n",
    "    # parameter\n",
    "    @m.Param(m.I, doc = 'upper limit for weapon type i')\n",
    "    def W(m,i):\n",
    "        return daten['weapon_num'][i]\n",
    "    @m.Param(m.J, doc = 'target value')\n",
    "    def V(m,j):\n",
    "        return daten['target_val'][j]\n",
    "    @m.Param(m.I, m.J, doc = 'sucess probability when assign weapon i to target j')\n",
    "    def p(m,i,j):\n",
    "        return probs.loc[probs.index == i, j].values[0]\n",
    "    @m.Param(m.I, m.J, doc = 'survival probability (1-p_ij)')\n",
    "    def q(m,i,j):\n",
    "        return 1 - m.p[i,j]\n",
    "    \n",
    "    # constraints\n",
    "    @m.Constraint(m.I, doc = 'available number of weapons of type i')\n",
    "    def c1(m,i):\n",
    "        return m.W[i] >= pyo.quicksum(m.x[i,j] for j in m.J) \n",
    "    \n",
    "    # Objective\n",
    "    ## objective expression\n",
    "    m.objective = pyo.quicksum(m.V[j] * pyo.prod(m.q[i,j]**m.x[i,j] for i in m.I)  for j in m.J)\n",
    "    ## add objective to model\n",
    "    m.OBJ = pyo.Objective(expr = m.objective, sense = pyo.minimize)\n",
    "    \n",
    "    # define solver\n",
    "    \n",
    "    #solver = pyo.SolverFactory('mindtpy')\n",
    "    solver = pyo.SolverFactory('scip')\n",
    "    solver.solve(m)\n",
    "    \n",
    "    return m"
   ]
  },
  {
   "cell_type": "code",
   "execution_count": null,
   "id": "dcaef91f-39f9-486c-bdad-1f7893c1bacd",
   "metadata": {},
   "outputs": [
    {
     "name": "stdout",
     "output_type": "stream",
     "text": [
      "CPU times: user 26 ms, sys: 10.7 ms, total: 36.7 ms\n",
      "Wall time: 111 ms\n"
     ]
    }
   ],
   "source": [
    "%%time\n",
    "m = wta(data)"
   ]
  },
  {
   "cell_type": "code",
   "execution_count": null,
   "id": "9b469115-3cb0-4f30-8c19-cdb7ad866b94",
   "metadata": {},
   "outputs": [],
   "source": [
    "#extract solution\n",
    "def extract_solution(m):\n",
    "    df = pd.DataFrame(index = data['problem_data']['weapon_num'].keys(),\n",
    "                      columns = data['problem_data']['target_val'].keys())\n",
    "    for i,j in product(m.I,m.J):\n",
    "        df.at[i,j] = pyo.value(m.x[i,j])\n",
    "    return df"
   ]
  },
  {
   "cell_type": "code",
   "execution_count": null,
   "id": "9f046baf-f857-4c75-8a5a-bffbdb84bbd4",
   "metadata": {},
   "outputs": [
    {
     "data": {
      "text/html": [
       "<div>\n",
       "<style scoped>\n",
       "    .dataframe tbody tr th:only-of-type {\n",
       "        vertical-align: middle;\n",
       "    }\n",
       "\n",
       "    .dataframe tbody tr th {\n",
       "        vertical-align: top;\n",
       "    }\n",
       "\n",
       "    .dataframe thead th {\n",
       "        text-align: right;\n",
       "    }\n",
       "</style>\n",
       "<table border=\"1\" class=\"dataframe\">\n",
       "  <thead>\n",
       "    <tr style=\"text-align: right;\">\n",
       "      <th></th>\n",
       "      <th>T1</th>\n",
       "      <th>T2</th>\n",
       "      <th>T3</th>\n",
       "    </tr>\n",
       "  </thead>\n",
       "  <tbody>\n",
       "    <tr>\n",
       "      <th>ground</th>\n",
       "      <td>1.0</td>\n",
       "      <td>0.0</td>\n",
       "      <td>4.0</td>\n",
       "    </tr>\n",
       "    <tr>\n",
       "      <th>air</th>\n",
       "      <td>0.0</td>\n",
       "      <td>2.0</td>\n",
       "      <td>0.0</td>\n",
       "    </tr>\n",
       "    <tr>\n",
       "      <th>sea</th>\n",
       "      <td>1.0</td>\n",
       "      <td>0.0</td>\n",
       "      <td>0.0</td>\n",
       "    </tr>\n",
       "  </tbody>\n",
       "</table>\n",
       "</div>"
      ],
      "text/plain": [
       "         T1   T2   T3\n",
       "ground  1.0  0.0  4.0\n",
       "air     0.0  2.0  0.0\n",
       "sea     1.0  0.0  0.0"
      ]
     },
     "execution_count": null,
     "metadata": {},
     "output_type": "execute_result"
    }
   ],
   "source": [
    "extract_solution(m)"
   ]
  },
  {
   "cell_type": "code",
   "execution_count": null,
   "id": "ae45a541-f773-4bae-bd22-f934a068ed46",
   "metadata": {},
   "outputs": [
    {
     "data": {
      "text/plain": [
       "0.0"
      ]
     },
     "execution_count": null,
     "metadata": {},
     "output_type": "execute_result"
    }
   ],
   "source": [
    "pyo.value(m.x['air','T1'])"
   ]
  },
  {
   "cell_type": "code",
   "execution_count": null,
   "id": "736328f7-eba1-48f8-8778-e87971824822",
   "metadata": {},
   "outputs": [
    {
     "data": {
      "text/plain": [
       "{'problem_data': {'weapon_num': {'ground': 5, 'air': 2, 'sea': 1},\n",
       "  'target_val': {'T1': 5, 'T2': 10, 'T3': 20},\n",
       "  'success_probability':          T1   T2   T3\n",
       "  ground  0.3  0.2  0.5\n",
       "  air     0.1  0.6  0.5\n",
       "  sea     0.4  0.5  0.4},\n",
       " 'model_name': 'weapon assignment problem',\n",
       " 'solver': 'scip'}"
      ]
     },
     "execution_count": null,
     "metadata": {},
     "output_type": "execute_result"
    }
   ],
   "source": [
    "data"
   ]
  },
  {
   "cell_type": "code",
   "execution_count": null,
   "id": "880bad82-430a-4d27-9f5e-26056ff5fbf3",
   "metadata": {},
   "outputs": [
    {
     "name": "stdout",
     "output_type": "stream",
     "text": [
      "x : number of weapons of type i assigned to target j\n",
      "    Size=9, Index=x_index\n",
      "    Key              : Lower : Value : Upper : Fixed : Stale : Domain\n",
      "       ('air', 'T1') :     0 :   0.0 :  None : False : False : NonNegativeIntegers\n",
      "       ('air', 'T2') :     0 :   2.0 :  None : False : False : NonNegativeIntegers\n",
      "       ('air', 'T3') :     0 :   0.0 :  None : False : False : NonNegativeIntegers\n",
      "    ('ground', 'T1') :     0 :   1.0 :  None : False : False : NonNegativeIntegers\n",
      "    ('ground', 'T2') :     0 :   0.0 :  None : False : False : NonNegativeIntegers\n",
      "    ('ground', 'T3') :     0 :   4.0 :  None : False : False : NonNegativeIntegers\n",
      "       ('sea', 'T1') :     0 :   1.0 :  None : False : False : NonNegativeIntegers\n",
      "       ('sea', 'T2') :     0 :   0.0 :  None : False : False : NonNegativeIntegers\n",
      "       ('sea', 'T3') :     0 :   0.0 :  None : False : False : NonNegativeIntegers\n"
     ]
    }
   ],
   "source": [
    "m.x.pprint()"
   ]
  },
  {
   "cell_type": "code",
   "execution_count": null,
   "id": "d0cb64dd-21ed-46cf-a761-ebe35468a743",
   "metadata": {},
   "outputs": [],
   "source": []
  }
 ],
 "metadata": {
  "kernelspec": {
   "display_name": "python3",
   "language": "python",
   "name": "python3"
  }
 },
 "nbformat": 4,
 "nbformat_minor": 5
}
