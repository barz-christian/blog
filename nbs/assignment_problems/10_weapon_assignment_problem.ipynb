{
 "cells": [
  {
   "cell_type": "code",
   "execution_count": null,
   "id": "7645ca5b-3973-4b3d-a207-394465c662c6",
   "metadata": {},
   "outputs": [],
   "source": [
    "---\n",
    "title: \"Weapon target assignment problem\"\n",
    "author: \"cbarz\"\n",
    "date: \"2023-12-02\"\n",
    "categories: []\n",
    "draft: true\n",
    "code-fold: true\n",
    "toc: true\n",
    "description: The weapon target assignment problem \n",
    "---"
   ]
  },
  {
   "cell_type": "markdown",
   "id": "471170ac-d851-4e95-a965-6230025b3498",
   "metadata": {},
   "source": [
    "## plan\n",
    "\n",
    "1. gentle introduction\n",
    "    - including applications of the WTA\n",
    "1. mathematical formulation\n",
    "1. pyomo implementation\n",
    "1. example\n",
    "1. other solution methods"
   ]
  },
  {
   "cell_type": "markdown",
   "id": "b6002b32-4d32-4fc3-aef8-82bf040ba030",
   "metadata": {},
   "source": [
    "## Introduction\n",
    "\n",
    "According to [the wikipedia article](https://en.wikipedia.org/wiki/Weapon_target_assignment_problem) the about the weapon target assignnment problem (WTA) can be formulated as follows:\n",
    "\n",
    "Given a number of weapons and a number of targets. The weapons are of type $i=1,\\ldots ,m$ and $W_i$ denotes the number available weapons of type $i$. Similarly, there are $j=1,\\ldots ,n$ targets with value $V_j$. Any of the weapons can be assigned to any target. Each weapon type has a certain probability of destroying each target, given by $p_{ij}$.\n"
   ]
  },
  {
   "cell_type": "markdown",
   "id": "21c6e346-d573-4325-b853-2894dd9c725f",
   "metadata": {},
   "source": [
    "## math formulation \n",
    "\n",
    "The WTA can be formulated as a non linear integer programm as follows:\n",
    "\n",
    "$$\n",
    "\\begin{array}{llc}\n",
    "\\min & \\sum_j (V_j \\prod_i q_{ij}^{x_{ij}}) & \\\\\n",
    "s.t. & \\sum_j x_{ij} \\leq W_i &, \\forall i \\\\\n",
    "     & x_{ij} \\in \\mathbb{N}\n",
    "\\end{array}\n",
    "$$\n",
    "\n",
    "### objective\n",
    "\n",
    "minimizing the expected survival value or equivalently maximizing the expeced damange\n",
    "\n",
    "### (decision) variable\n",
    "\n",
    "- $x_{ij}$ is the number of weapons of type $i$ assigned to target $j$\n",
    "\n",
    "### parameter\n",
    "\n",
    "- $q_{ij}:=(1-p_{ij})$ survival probability of target $j$ for weapon $i$\n",
    "\n",
    "### constraints\n",
    "\n",
    "### assumptions\n"
   ]
  },
  {
   "cell_type": "code",
   "execution_count": null,
   "id": "77b99dc8-60ce-4e0d-8625-346638a2db0c",
   "metadata": {},
   "outputs": [
    {
     "name": "stdout",
     "output_type": "stream",
     "text": [
      "1 Var Declarations\n",
      "    q : Size=1, Index=None\n",
      "        Key  : Lower : Value             : Upper : Fixed : Stale : Domain\n",
      "        None :  None : 8.944271909985442 :  None : False : False :  Reals\n",
      "\n",
      "1 Objective Declarations\n",
      "    objective : Size=1, Index=None, Active=True\n",
      "        Key  : Active : Sense    : Expression\n",
      "        None :   True : maximize : 40.0*q/(q + 4.0)/(q + 20.0)\n",
      "\n",
      "2 Declarations: q objective\n",
      "\n",
      "Flowrate at maximum CB =  8.944271909985442 liters per minute.\n",
      "\n",
      "Maximum CB = 0.954915028125263 moles per liter.\n",
      "\n",
      "Productivity =  8.541019662483748 moles per minute.\n"
     ]
    }
   ],
   "source": [
    "## NLP example\n",
    "\n",
    "from pyomo.environ import *\n",
    "\n",
    "V = 40     # liters\n",
    "kA = 0.5   # 1/min\n",
    "kB = 0.1   # l/min\n",
    "CAf = 2.0  # moles/liter\n",
    "\n",
    "# create a model instance\n",
    "model = ConcreteModel()\n",
    "\n",
    "# create x and y variables in the model\n",
    "model.q = Var()\n",
    "\n",
    "# add a model objective\n",
    "model.objective = Objective(expr = model.q*V*kA*CAf/(model.q + V*kB)/(model.q + V*kA), sense=maximize)\n",
    "\n",
    "# compute a solution using ipopt for nonlinear optimization\n",
    "results = SolverFactory('ipopt').solve(model)\n",
    "model.pprint()\n",
    "\n",
    "\n",
    "# print solutions\n",
    "qmax = model.q()\n",
    "CBmax = model.objective()\n",
    "print('\\nFlowrate at maximum CB = ', qmax, 'liters per minute.')\n",
    "print('\\nMaximum CB =', CBmax, 'moles per liter.')\n",
    "print('\\nProductivity = ', qmax*CBmax, 'moles per minute.')"
   ]
  },
  {
   "cell_type": "code",
   "execution_count": null,
   "id": "880bad82-430a-4d27-9f5e-26056ff5fbf3",
   "metadata": {},
   "outputs": [],
   "source": []
  }
 ],
 "metadata": {
  "kernelspec": {
   "display_name": "python3",
   "language": "python",
   "name": "python3"
  }
 },
 "nbformat": 4,
 "nbformat_minor": 5
}
