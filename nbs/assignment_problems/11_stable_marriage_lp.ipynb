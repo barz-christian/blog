{
 "cells": [
  {
   "cell_type": "raw",
   "id": "7158904a-2bfa-4abf-92a7-82b657ff3375",
   "metadata": {},
   "source": [
    "---\n",
    "title: \"Stable marriage problem as Linear program\"\n",
    "author: \"cbarz\"\n",
    "date: \"2023-12-02\"\n",
    "categories: [milp, assignment problem]\n",
    "draft: true\n",
    "code-fold: true\n",
    "toc: true\n",
    "description: The stable marriage problem ... . In this post we will see how the problem can be formulated and solved as a linear program.\n",
    "---"
   ]
  },
  {
   "cell_type": "markdown",
   "id": "5cc842f6-a321-4901-a699-1a14b89b2a6b",
   "metadata": {},
   "source": [
    "## outline\n",
    "\n",
    "1. introduction  / problem description\n",
    "1. basics from graph theory\n",
    "1. mathematical formulation\n",
    "1. pyomo implementation\n",
    "1. example\n",
    "1. summary or outlook for other solution methods\n",
    "\n",
    "reference: http://cgm.cs.mcgill.ca/~avis/courses/251/2012/ktlaerid/LP-bliss.pdf"
   ]
  }
 ],
 "metadata": {
  "kernelspec": {
   "display_name": "python3",
   "language": "python",
   "name": "python3"
  }
 },
 "nbformat": 4,
 "nbformat_minor": 5
}
