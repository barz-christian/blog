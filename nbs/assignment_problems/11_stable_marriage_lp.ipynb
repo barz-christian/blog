{
 "cells": [
  {
   "cell_type": "raw",
   "id": "7158904a-2bfa-4abf-92a7-82b657ff3375",
   "metadata": {},
   "source": [
    "---\n",
    "title: \"Stable marriage problem as Linear program\"\n",
    "author: \"cbarz\"\n",
    "date: \"2023-12-02\"\n",
    "categories: [milp, assignment problem]\n",
    "draft: true\n",
    "code-fold: true\n",
    "toc: true\n",
    "description: The stable marriage problem ... . In this post we will see how the problem can be formulated and solved as a linear program.\n",
    "---"
   ]
  },
  {
   "cell_type": "markdown",
   "id": "5cc842f6-a321-4901-a699-1a14b89b2a6b",
   "metadata": {},
   "source": [
    "## outline\n",
    "\n",
    "1. introduction  / problem description\n",
    "1. basics from graph theory\n",
    "1. mathematical formulation\n",
    "1. pyomo implementation\n",
    "1. example\n",
    "1. summary or outlook for other solution methods\n",
    "1. gale shapley alggorithmus: https://core.ac.uk/download/pdf/82241772.pdf, https://www.geeksforgeeks.org/stable-marriage-problem/\n",
    "reference: http://cgm.cs.mcgill.ca/~avis/courses/251/2012/ktlaerid/LP-bliss.pdf , https://econcs.seas.harvard.edu/files/econcs/files/wang_thesis16.pdf, \n",
    "1. compare to SAT, i.e. ORTools: https://planspace.org/20230316-solving_a_matching_problem_with_ortools_cpsat/\n"
   ]
  },
  {
   "cell_type": "markdown",
   "id": "a87e33d8-9f14-4881-8eb4-be5d41ef17b5",
   "metadata": {},
   "source": [
    "## algebraic description\n",
    "\n",
    "Following [@vate1989linear] the stable marriage problem can be formulated as linear program as follows:\n",
    "\n",
    "$$\n",
    "\\begin{array}{lll}\n",
    "\\min & \\sum x_{ij} & \\\\\n",
    "s.t. & \\sum_j x_{ij} = 1 & \\forall i \\\\\n",
    "     & \\sum_i x_{ij} = 1 & \\forall j \\\\\n",
    "     & \\sum_{k: w_k <_{m_i} w_j} x_{ik} + \\sum_{k:m_k\\leq_{w_j} m_i} x_{kj} \\leq 1& \\forall i,j\\\\\n",
    "     & x_{ij} \\geq 0 & \\forall i,j\n",
    "\\end{array}\n",
    "$$\n"
   ]
  },
  {
   "cell_type": "code",
   "execution_count": null,
   "id": "a0891129-081a-4a09-a5ae-4b07a08183da",
   "metadata": {},
   "outputs": [],
   "source": [
    "import pyomo.environ as pyo\n",
    "import pandas as pd\n",
    "import numpy as np"
   ]
  },
  {
   "cell_type": "code",
   "execution_count": null,
   "id": "ef242a19-87e5-4a02-99b0-f0fad9a0b5d2",
   "metadata": {},
   "outputs": [],
   "source": [
    "set_size = 6"
   ]
  },
  {
   "cell_type": "code",
   "execution_count": null,
   "id": "20504bc5-efb8-47fa-8e5f-0722c4108489",
   "metadata": {},
   "outputs": [],
   "source": [
    "def gen_source(number):\n",
    "    \"\"\"returns list of unique strings representing sources, i.e. 's1'\"\"\"\n",
    "    return ['s' + str(i) for i in range(number)]\n",
    "def gen_target(number):\n",
    "    \"\"\"returns list of unique strings representing targets, i.e. 't1'\"\"\"\n",
    "    return ['t' + str(i) for i in range(number)]\n",
    "def gen_preferences(number):\n",
    "    \"\"\"generate array of size number x number whose elements represent the preference\n",
    "    rows =, columns = \n",
    "    \"\"\"\n",
    "    def _helper_gen_vec(number):\n",
    "        \"\"\"gnerates random vector of integers from 0 to number without replacement\"\"\"\n",
    "        out = np.random.choice(number, replace = False, size = (1, number)) + 1\n",
    "        return out.tolist()                        \n",
    "    output = []\n",
    "    for i in range(number):\n",
    "        output = output + _helper_gen_vec(number)\n",
    "    return output\n",
    "    "
   ]
  },
  {
   "cell_type": "code",
   "execution_count": null,
   "id": "e3551d30-b160-428a-85c6-f9b270761e6e",
   "metadata": {},
   "outputs": [],
   "source": [
    "def gen_data(number):\n",
    "    \"\"\"generates dictionary holding randomly generated problem data for stable marriage problem\"\"\"\n",
    "    source = gen_source(number)\n",
    "    target = gen_target(number)\n",
    "    preferences = pd.DataFrame(gen_preferences(number), index = source, columns = target)\n",
    "    \n",
    "    return {\n",
    "        'source': source,\n",
    "        'target': target,\n",
    "        'preferences': preferences\n",
    "    }"
   ]
  },
  {
   "cell_type": "code",
   "execution_count": null,
   "id": "fe1da130-cb5c-4851-8cfb-aa2acf81d674",
   "metadata": {},
   "outputs": [
    {
     "data": {
      "text/html": [
       "<div>\n",
       "<style scoped>\n",
       "    .dataframe tbody tr th:only-of-type {\n",
       "        vertical-align: middle;\n",
       "    }\n",
       "\n",
       "    .dataframe tbody tr th {\n",
       "        vertical-align: top;\n",
       "    }\n",
       "\n",
       "    .dataframe thead th {\n",
       "        text-align: right;\n",
       "    }\n",
       "</style>\n",
       "<table border=\"1\" class=\"dataframe\">\n",
       "  <thead>\n",
       "    <tr style=\"text-align: right;\">\n",
       "      <th></th>\n",
       "      <th>t0</th>\n",
       "      <th>t1</th>\n",
       "      <th>t2</th>\n",
       "      <th>t3</th>\n",
       "    </tr>\n",
       "  </thead>\n",
       "  <tbody>\n",
       "    <tr>\n",
       "      <th>s0</th>\n",
       "      <td>4</td>\n",
       "      <td>3</td>\n",
       "      <td>1</td>\n",
       "      <td>2</td>\n",
       "    </tr>\n",
       "    <tr>\n",
       "      <th>s1</th>\n",
       "      <td>1</td>\n",
       "      <td>4</td>\n",
       "      <td>2</td>\n",
       "      <td>3</td>\n",
       "    </tr>\n",
       "    <tr>\n",
       "      <th>s2</th>\n",
       "      <td>3</td>\n",
       "      <td>1</td>\n",
       "      <td>2</td>\n",
       "      <td>4</td>\n",
       "    </tr>\n",
       "    <tr>\n",
       "      <th>s3</th>\n",
       "      <td>2</td>\n",
       "      <td>1</td>\n",
       "      <td>4</td>\n",
       "      <td>3</td>\n",
       "    </tr>\n",
       "  </tbody>\n",
       "</table>\n",
       "</div>"
      ],
      "text/plain": [
       "    t0  t1  t2  t3\n",
       "s0   4   3   1   2\n",
       "s1   1   4   2   3\n",
       "s2   3   1   2   4\n",
       "s3   2   1   4   3"
      ]
     },
     "execution_count": null,
     "metadata": {},
     "output_type": "execute_result"
    }
   ],
   "source": [
    "data = gen_data(4)\n",
    "data['preferences']"
   ]
  },
  {
   "cell_type": "code",
   "execution_count": null,
   "id": "df47c807-3c7b-45f8-9f4f-caf75e92fbe0",
   "metadata": {},
   "outputs": [],
   "source": [
    "def smp(data):\n",
    "    m = pyo.ConcreteModel()\n",
    "    \n",
    "    m.S = pyo.Set(initialize = data['source'], doc = 'sources s')\n",
    "    m.T = pyo.Set(initialize = data['target'], doc = 'targets t')\n",
    "    \n",
    "    m.x = pyo.Var(m.S, m.T, domain =pyo.Binary, doc ='1 iff s is assigned to t')\n",
    "    \n",
    "    @m.Param(m.S,m.T)\n",
    "    def A(m,s,t):\n",
    "        return data['preferences'].loc[s,t]\n",
    "    \n",
    "    return m"
   ]
  },
  {
   "cell_type": "code",
   "execution_count": null,
   "id": "d9ba6906-9797-454a-9ea1-36e9c17cb911",
   "metadata": {},
   "outputs": [
    {
     "name": "stdout",
     "output_type": "stream",
     "text": [
      "4 Set Declarations\n",
      "    A_index : Size=1, Index=None, Ordered=True\n",
      "        Key  : Dimen : Domain : Size : Members\n",
      "        None :     2 :    S*T :   16 : {('s0', 't0'), ('s0', 't1'), ('s0', 't2'), ('s0', 't3'), ('s1', 't0'), ('s1', 't1'), ('s1', 't2'), ('s1', 't3'), ('s2', 't0'), ('s2', 't1'), ('s2', 't2'), ('s2', 't3'), ('s3', 't0'), ('s3', 't1'), ('s3', 't2'), ('s3', 't3')}\n",
      "    S : sources s\n",
      "        Size=1, Index=None, Ordered=Insertion\n",
      "        Key  : Dimen : Domain : Size : Members\n",
      "        None :     1 :    Any :    4 : {'s0', 's1', 's2', 's3'}\n",
      "    T : targets t\n",
      "        Size=1, Index=None, Ordered=Insertion\n",
      "        Key  : Dimen : Domain : Size : Members\n",
      "        None :     1 :    Any :    4 : {'t0', 't1', 't2', 't3'}\n",
      "    x_index : Size=1, Index=None, Ordered=True\n",
      "        Key  : Dimen : Domain : Size : Members\n",
      "        None :     2 :    S*T :   16 : {('s0', 't0'), ('s0', 't1'), ('s0', 't2'), ('s0', 't3'), ('s1', 't0'), ('s1', 't1'), ('s1', 't2'), ('s1', 't3'), ('s2', 't0'), ('s2', 't1'), ('s2', 't2'), ('s2', 't3'), ('s3', 't0'), ('s3', 't1'), ('s3', 't2'), ('s3', 't3')}\n",
      "\n",
      "1 Param Declarations\n",
      "    A : Size=16, Index=A_index, Domain=Any, Default=None, Mutable=False\n",
      "        Key          : Value\n",
      "        ('s0', 't0') :     4\n",
      "        ('s0', 't1') :     3\n",
      "        ('s0', 't2') :     1\n",
      "        ('s0', 't3') :     2\n",
      "        ('s1', 't0') :     1\n",
      "        ('s1', 't1') :     4\n",
      "        ('s1', 't2') :     2\n",
      "        ('s1', 't3') :     3\n",
      "        ('s2', 't0') :     3\n",
      "        ('s2', 't1') :     1\n",
      "        ('s2', 't2') :     2\n",
      "        ('s2', 't3') :     4\n",
      "        ('s3', 't0') :     2\n",
      "        ('s3', 't1') :     1\n",
      "        ('s3', 't2') :     4\n",
      "        ('s3', 't3') :     3\n",
      "\n",
      "1 Var Declarations\n",
      "    x : 1 iff s is assigned to t\n",
      "        Size=16, Index=x_index\n",
      "        Key          : Lower : Value : Upper : Fixed : Stale : Domain\n",
      "        ('s0', 't0') :     0 :  None :     1 : False :  True : Binary\n",
      "        ('s0', 't1') :     0 :  None :     1 : False :  True : Binary\n",
      "        ('s0', 't2') :     0 :  None :     1 : False :  True : Binary\n",
      "        ('s0', 't3') :     0 :  None :     1 : False :  True : Binary\n",
      "        ('s1', 't0') :     0 :  None :     1 : False :  True : Binary\n",
      "        ('s1', 't1') :     0 :  None :     1 : False :  True : Binary\n",
      "        ('s1', 't2') :     0 :  None :     1 : False :  True : Binary\n",
      "        ('s1', 't3') :     0 :  None :     1 : False :  True : Binary\n",
      "        ('s2', 't0') :     0 :  None :     1 : False :  True : Binary\n",
      "        ('s2', 't1') :     0 :  None :     1 : False :  True : Binary\n",
      "        ('s2', 't2') :     0 :  None :     1 : False :  True : Binary\n",
      "        ('s2', 't3') :     0 :  None :     1 : False :  True : Binary\n",
      "        ('s3', 't0') :     0 :  None :     1 : False :  True : Binary\n",
      "        ('s3', 't1') :     0 :  None :     1 : False :  True : Binary\n",
      "        ('s3', 't2') :     0 :  None :     1 : False :  True : Binary\n",
      "        ('s3', 't3') :     0 :  None :     1 : False :  True : Binary\n",
      "\n",
      "6 Declarations: S T x_index x A_index A\n"
     ]
    }
   ],
   "source": [
    "m = smp(data)\n",
    "m.pprint()"
   ]
  },
  {
   "cell_type": "code",
   "execution_count": null,
   "id": "94b84a9d-635d-48ce-a500-84b77ef2c8af",
   "metadata": {},
   "outputs": [],
   "source": [
    "a  = np.random.choice(set_size, replace = False, size = (1,set_size)).tolist()\n",
    "b  = np.random.choice(set_size, replace = False, size = (1,set_size)).tolist()"
   ]
  },
  {
   "cell_type": "code",
   "execution_count": null,
   "id": "a16f2dc6-4ea8-40c5-add2-3ad0b99914e8",
   "metadata": {},
   "outputs": [
    {
     "data": {
      "text/plain": [
       "[[2, 5, 3, 0, 4, 1], [0, 5, 4, 2, 1, 3]]"
      ]
     },
     "execution_count": null,
     "metadata": {},
     "output_type": "execute_result"
    }
   ],
   "source": [
    "a + b"
   ]
  },
  {
   "cell_type": "code",
   "execution_count": null,
   "id": "ccf04092-0338-4ea8-aad2-ea4c0386f3d3",
   "metadata": {},
   "outputs": [
    {
     "data": {
      "text/html": [
       "<div>\n",
       "<style scoped>\n",
       "    .dataframe tbody tr th:only-of-type {\n",
       "        vertical-align: middle;\n",
       "    }\n",
       "\n",
       "    .dataframe tbody tr th {\n",
       "        vertical-align: top;\n",
       "    }\n",
       "\n",
       "    .dataframe thead th {\n",
       "        text-align: right;\n",
       "    }\n",
       "</style>\n",
       "<table border=\"1\" class=\"dataframe\">\n",
       "  <thead>\n",
       "    <tr style=\"text-align: right;\">\n",
       "      <th></th>\n",
       "      <th>0</th>\n",
       "      <th>1</th>\n",
       "      <th>2</th>\n",
       "      <th>3</th>\n",
       "      <th>4</th>\n",
       "      <th>5</th>\n",
       "    </tr>\n",
       "  </thead>\n",
       "  <tbody>\n",
       "    <tr>\n",
       "      <th>0</th>\n",
       "      <td>2</td>\n",
       "      <td>5</td>\n",
       "      <td>3</td>\n",
       "      <td>0</td>\n",
       "      <td>4</td>\n",
       "      <td>1</td>\n",
       "    </tr>\n",
       "    <tr>\n",
       "      <th>1</th>\n",
       "      <td>0</td>\n",
       "      <td>5</td>\n",
       "      <td>4</td>\n",
       "      <td>2</td>\n",
       "      <td>1</td>\n",
       "      <td>3</td>\n",
       "    </tr>\n",
       "  </tbody>\n",
       "</table>\n",
       "</div>"
      ],
      "text/plain": [
       "   0  1  2  3  4  5\n",
       "0  2  5  3  0  4  1\n",
       "1  0  5  4  2  1  3"
      ]
     },
     "execution_count": null,
     "metadata": {},
     "output_type": "execute_result"
    }
   ],
   "source": [
    "pd.DataFrame(a+b)"
   ]
  },
  {
   "cell_type": "code",
   "execution_count": null,
   "id": "08db2429-a9df-4dc9-9dda-0c2a15353add",
   "metadata": {},
   "outputs": [],
   "source": []
  }
 ],
 "metadata": {
  "kernelspec": {
   "display_name": "python3",
   "language": "python",
   "name": "python3"
  }
 },
 "nbformat": 4,
 "nbformat_minor": 5
}
