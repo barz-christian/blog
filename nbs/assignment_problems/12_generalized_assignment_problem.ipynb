{
 "cells": [
  {
   "cell_type": "raw",
   "id": "67f06776-2071-4a94-ba86-29d67047aaba",
   "metadata": {},
   "source": [
    "---\n",
    "title: \"Generalized assignment problem\"\n",
    "author: \"cbarz\"\n",
    "date: \"2023-12-02\"\n",
    "categories: [milp, assignment problem]\n",
    "draft: true\n",
    "code-fold: true\n",
    "toc: true\n",
    "description: In the generalized assignment problem we assign a set of tasks to a set of agents. In this post we see a classical problem formulation as a milp. But we will also see a reformulation and a solution using metaheuristics.\n",
    "---"
   ]
  },
  {
   "cell_type": "markdown",
   "id": "c9b8d386-2c0a-4ff4-85ae-e0d0bbdaae1d",
   "metadata": {},
   "source": [
    "## Introduction\n",
    "\n",
    "Given a set of agents and a set of tasks and for each pair (agent, task) a costs or profit value. Moreover each agent has a budget, whcih means that the sum of costs assigned to an agent can not exceed his budget.\n",
    "\n",
    "The goal is to find an assigment of agents to tasks such that the overall profit is maximized. (More precisely each task is assigned to only one agent.)\n",
    "\n",
    "Its known that the generalized assignment problem is NP-hard.\n",
    "\n",
    "### Special cases\n",
    "\n",
    "1. If all agent budgets and tasks costs are equal to one, then the problem is the [assignment problem](https://en.wikipedia.org/wiki/Assignment_problem)\n",
    "1. If consts and profits of all tasks are equal for each agent, then the problem reduces to the [multiple knapsack problem](https://en.wikipedia.org/wiki/Knapsack_problem).\n",
    "1. If there is only a single agent, then the problem reduces to the [knapsack problem](https://en.wikipedia.org/wiki/Knapsack_problem)\n",
    "\n",
    "Further introductory reading: https://en.wikipedia.org/wiki/Generalized_assignment_problem"
   ]
  },
  {
   "cell_type": "markdown",
   "id": "ed3ba8cf-b5be-41e1-a2d9-37c0816591ab",
   "metadata": {},
   "source": [
    "## Abstract mathematical formulation (as integer program)\n",
    "\n",
    "$$\n",
    "\\begin{array}{llr}\n",
    "\\min & \\sum_{i,j} c_{ij} x_{ij} & \\\\\n",
    "s.t. & \\sum_j w_{ij} x_{ij} \\leq t_i & \\forall i\\\\\n",
    "     & \\sum_i x_{ij} = 1 & \\forall j\n",
    "\\end{array}\n",
    "$$\n",
    "\n",
    "where we denoted by\n",
    "\n",
    "- $I$ agent index set\n",
    "- $J$ task index set\n",
    "\n",
    "### Decision variables\n",
    "\n",
    "- $x_{ij}$, binary and equal to one iff agent $i$ is assigned to tassk $j$\n",
    "\n",
    "### Parameter\n",
    "\n",
    "- $c_{ij}$ cost/profit of assigning agent $i$ to task $j$\n",
    "- $w_{ij}$ assigned capacity/weight if agent $i$ is assigned to task $j$\n",
    "- $t_i$ capacity of agent $i$\n",
    "\n",
    "\n",
    "The first constraint $\\sum_j w_{ij} x_{ij} \\leq t_i$ represents the fact, that the assigned task to an agent do not exceed the agent capacity.\n",
    "The second constraint $\\sum_i x_{ij} = 1$ assures that each task gets assign.\n",
    "\n",
    "Of course the objective $\\sum_{i,j} c_{ij} x_{ij}$ represents the cost of the assignment and an optimal solution will be one with smallest possible costs."
   ]
  },
  {
   "cell_type": "code",
   "execution_count": null,
   "id": "9e042db8-1afb-4eb5-be0f-92b81cfcea8e",
   "metadata": {},
   "outputs": [],
   "source": [
    "import pyomo.environ as pyo\n",
    "import pandas as pd\n",
    "import numpy as np"
   ]
  },
  {
   "cell_type": "code",
   "execution_count": null,
   "id": "98f73eba-4944-4de8-bf58-846bc8cdf91d",
   "metadata": {},
   "outputs": [],
   "source": [
    "# global parameter\n",
    "_number_of_agents = 4\n",
    "_number_of_tasks = 6\n",
    "\n",
    "# set seed for reproducibility\n",
    "np.random.seed(101101)"
   ]
  },
  {
   "cell_type": "code",
   "execution_count": null,
   "id": "ef402ad3-b83f-4e9d-8cc5-b7420c8c559f",
   "metadata": {},
   "outputs": [],
   "source": [
    "# functions data generation\n",
    "def gen_agents(number_of_agents = _number_of_agents):\n",
    "    \"\"\"returns list of unique strings representing agents\"\"\"\n",
    "    return [\"a\" + str(i) for i in range(1,number_of_agents+1)]\n",
    "\n",
    "def gen_tasks(number_of_tasks = _number_of_tasks):\n",
    "    \"\"\"returns list of unique strings representing tasks\"\"\"\n",
    "    return [\"t\" + str(i) for i in range(1,number_of_tasks+1)]\n",
    "\n",
    "def gen_agent_capacity(number_of_agents = _number_of_agents, up_limit = 10):\n",
    "    \"\"\"\n",
    "    returns array with randomly generated integers between 0 and param up_limit \n",
    "    representing agents capacities\n",
    "    \"\"\"\n",
    "    return np.random.randint(up_limit+1, size=number_of_agents)\n",
    "\n",
    "def gen_assignment_cost(number_of_agents = _number_of_agents, \n",
    "                        number_of_task = _number_of_tasks,\n",
    "                        up_limit = 10):\n",
    "    \"\"\"\n",
    "    returns array with randomly generated integers between 1 and param up_limit\n",
    "    representing costs assigning agent  i to task j\n",
    "    rows = agents, columns = tasks\n",
    "    \"\"\"\n",
    "    return np.random.randint(low=1, high = up_limit, size = (number_of_agents, number_of_task))\n",
    "\n",
    "def gen_assignment_capacity(number_of_agents = _number_of_agents, \n",
    "                        number_of_task = _number_of_tasks,\n",
    "                        up_limit = 10):\n",
    "    \"\"\"\n",
    "    returns array with randomly generated integers between 1 and param up_limit\n",
    "    representing used capacity of agent i when assigned to task j\n",
    "    rows = agents, columns = tasks\n",
    "    REMARK: keep in mind the obvious observation: The problem gets infeasible, if there the 'assignment capacity' for a tasks is bigger than the agent capacity\n",
    "    \"\"\"\n",
    "    return np.random.randint(low=1, high = up_limit, size = (number_of_agents, number_of_task))\n",
    "\n",
    "\n",
    "def gen_data(number_of_agents, number_of_tasks, up_limit, solver):\n",
    "    \"\"\"\n",
    "    returns dicionary holding all problem data and optimization parameter\n",
    "    arrays converted to pandas Data frames \n",
    "    \"\"\"\n",
    "    agents = gen_agents(number_of_agents)\n",
    "    tasks = gen_tasks(number_of_tasks)\n",
    "    agent_capacity = gen_agent_capacity(number_of_agents, up_limit)\n",
    "    assignment_cost = gen_assignment_cost(number_of_agents, number_of_tasks, up_limit)\n",
    "    assignment_capacity = gen_assignment_capacity(number_of_agents, number_of_tasks, up_limit)\n",
    "    \n",
    "    data = {\n",
    "        'agents': agents,\n",
    "        'tasks': tasks,\n",
    "        'agent_capacity': pd.DataFrame(data = agent_capacity, index = agents, columns = ['agent_capacity']),\n",
    "        'assignment_costs': pd.DataFrame(data = assignment_cost, index = agents, columns = tasks),\n",
    "        'assignment_capacity': pd.DataFrame(data = assignment_capacity, index = agents, columns = tasks),\n",
    "        'model_name': 'gerneralized assignment problem',\n",
    "        'solver': solver\n",
    "                                         \n",
    "    }\n",
    "    return data\n"
   ]
  },
  {
   "cell_type": "code",
   "execution_count": null,
   "id": "e4d7269c-227d-4d96-9c83-518569309e04",
   "metadata": {},
   "outputs": [],
   "source": [
    "# I/O functions\n",
    "def extract_solution(m):\n",
    "    \"\"\"\n",
    "    extracts assignment and objective value\n",
    "    \"\"\"\n",
    "    assignment = [(i,j) for i in m.I for j in m.J if pyo.value(m.x[i,j]) != 0]\n",
    "    obj_val = pyo.value(m.OBJ)\n",
    "    output = {\n",
    "        'assignment': assignment,\n",
    "        'objective_value': obj_val\n",
    "    }\n",
    "    return output"
   ]
  },
  {
   "cell_type": "markdown",
   "id": "88ded3ac-6f34-4a2e-a691-bce10fa8f431",
   "metadata": {},
   "source": [
    "## Implementation of the generalized assignment problem in pyomo"
   ]
  },
  {
   "cell_type": "code",
   "execution_count": null,
   "id": "f2c0a70e-1d5a-4e80-864c-a5be0c1b4e52",
   "metadata": {},
   "outputs": [],
   "source": [
    "# pyomo implementation of a generalized assignment problem\n",
    "def gap(data):\n",
    "    #instanciate model\n",
    "    m = pyo.ConcreteModel(data['model_name'])\n",
    "    \n",
    "    # define sets\n",
    "    m.I = pyo.Set(initialize = data['agents'], doc = 'agents')\n",
    "    m.J = pyo.Set(initialize = data['tasks'], doc = 'tasks')\n",
    "    \n",
    "    # decision variables\n",
    "    m.x = pyo.Var(m.I, m.J, domain = pyo.Binary, doc = '1 iff agent i is assigned to target j')\n",
    "    \n",
    "    # define parameter\n",
    "    @m.Param(m.I, doc = 'agent capacity')\n",
    "    def t(m,i):\n",
    "        return data['agent_capacity'].loc[i,'agent_capacity']\n",
    "    @m.Param(m.I,m.J, doc = 'assignment costs')\n",
    "    def c(m,i,j):\n",
    "        return data['assignment_costs'].loc[i,j]\n",
    "    @m.Param(m.I, m.J, doc = 'assignment capactity for agent i to task j')\n",
    "    def w(m,i,j):\n",
    "        return data['assignment_capacity'].loc[i,j]\n",
    "    \n",
    "    # define constraints\n",
    "    @m.Constraint(m.I, doc = 'individual agent capacity constraint')\n",
    "    def c1(m,i):\n",
    "        return m.t[i] >= pyo.quicksum(m.x[i,j] * m.w[i,j] for j in m.J)\n",
    "    @m.Constraint(m.J, doc = 'each tasks gets assigned')\n",
    "    def c2(m,j):\n",
    "        return  1 == pyo.quicksum(m.x[i,j] for i in m.I)\n",
    "    \n",
    "    # define objective\n",
    "    m.OBJ = pyo.Objective(expr = sum(m.x[i,j] * m.c[i,j] for i in m.I for j in m.J), \n",
    "                          sense = pyo.minimize)\n",
    "    \n",
    "    # choose and apply solver\n",
    "    solver = pyo.SolverFactory(data['solver'])\n",
    "    solver.solve(m)\n",
    "    \n",
    "    return m"
   ]
  },
  {
   "cell_type": "markdown",
   "id": "f222f52c-bdce-4cc3-9eb4-19345c459871",
   "metadata": {},
   "source": [
    "# Example and simple infeasiblity checks\n",
    "\n",
    "For the simplicity of this example we randomly generate data.\n",
    "\n",
    "Obviously the problem become infeasible if there exists a tasks $j$ no agent can perform, i.e. its required capacity is bigger than the agent capacities.\n",
    "\n",
    "In more mathematical terms the problem is infeasible if there is a $j$ and such that for all $i$\n",
    "$$\n",
    "t_i \\leq w_{ij}\n",
    "$$\n",
    "\n",
    "Because the data is randomly generated, we check the data for this type of infeasiblity too.\n",
    "\n",
    "A short word for readers not trained in mathematics: This test is a necessary condition for infeasibility. If its passed, its means this kind of feasibility does not exists, but it does not mean that the problem is feasiblie. Another example of data for an infeasible problem is given, if the sum of the agent capacity is smaller than \"the sum of the required capacity\". \n",
    "\n",
    "To make it more explicit: Suppose all agents capacity is 2 and all tasks require a capacity of two. In this case the above test is passed, but if additionally there are more tasks than  agents there obviously does not exists an assignment of agents to tasks.\n",
    "\n",
    "The function for our data test is given in the next code cell."
   ]
  },
  {
   "cell_type": "code",
   "execution_count": null,
   "id": "a2ecce8e-010a-4b2b-aeaf-6a57edad5957",
   "metadata": {},
   "outputs": [],
   "source": [
    "# functions testing\n",
    "## include one test for completeness checking if the problem data defines an infeasible problem\n",
    "\n",
    "def test_data_1(data):\n",
    "    \"\"\"\n",
    "    tests a necessary condition for infeasibility, passing test does not guarantee feasibility\n",
    "    test if for each tasks there is at least one agent with sufficient high capacity \n",
    "    \"\"\"\n",
    "    # extract data\n",
    "    assign_costs = data['assignment_costs']\n",
    "    capactity = data['agent_capacity']\n",
    "    # compute test\n",
    "    ## vectorwise comparison, recall if difference is greater zero iff agent capacity is bigger than assign cap to task (row = agents)\n",
    "    test = assign_costs.apply(lambda x: x - capactity['agent_capacity'], axis = 0) \n",
    "    test = test.apply(lambda x: x > 0, axis = 0) \n",
    "    ## convert to dictionary in order to return problematic columns/tasks (i.e. easier debugging)\n",
    "    test = {x: any(test[x]) for x in test.columns}\n",
    "    \n",
    "    #define assertion error message\n",
    "    exception = ('infeasible problem data, tasks with to high assignment costs and no agent with sufficiently high capacity exists', \n",
    "                 ' problem in ', [col for col in test.keys() if not test[col]])\n",
    "    assert all(test), exception\n",
    "    return all(test)"
   ]
  },
  {
   "cell_type": "code",
   "execution_count": null,
   "id": "a0ade3eb-c396-4443-976f-e88b6d9eecc1",
   "metadata": {},
   "outputs": [
    {
     "name": "stdout",
     "output_type": "stream",
     "text": [
      "Data generarted and test passed: True\n"
     ]
    }
   ],
   "source": [
    "# generate and test data\n",
    "data = gen_data(_number_of_agents,_number_of_tasks, 10, 'cbc')\n",
    "print('Data generarted and test passed:', test_data_1(data))"
   ]
  },
  {
   "cell_type": "markdown",
   "id": "cb7bab5d-fa37-47db-a7c4-e40338bc9eb3",
   "metadata": {},
   "source": [
    "Lets have a look at the generated data.\n",
    "But before we introduce our notation: The suffix a is used for agents and the suffix t is used for targets."
   ]
  },
  {
   "cell_type": "code",
   "execution_count": null,
   "id": "dd3892f2-ada6-45a0-a065-9d1ee4fc7929",
   "metadata": {},
   "outputs": [
    {
     "name": "stdout",
     "output_type": "stream",
     "text": [
      "Agent capacities:\n"
     ]
    },
    {
     "data": {
      "text/html": [
       "<div>\n",
       "<style scoped>\n",
       "    .dataframe tbody tr th:only-of-type {\n",
       "        vertical-align: middle;\n",
       "    }\n",
       "\n",
       "    .dataframe tbody tr th {\n",
       "        vertical-align: top;\n",
       "    }\n",
       "\n",
       "    .dataframe thead th {\n",
       "        text-align: right;\n",
       "    }\n",
       "</style>\n",
       "<table border=\"1\" class=\"dataframe\">\n",
       "  <thead>\n",
       "    <tr style=\"text-align: right;\">\n",
       "      <th></th>\n",
       "      <th>agent_capacity</th>\n",
       "    </tr>\n",
       "  </thead>\n",
       "  <tbody>\n",
       "    <tr>\n",
       "      <th>a1</th>\n",
       "      <td>10</td>\n",
       "    </tr>\n",
       "    <tr>\n",
       "      <th>a2</th>\n",
       "      <td>1</td>\n",
       "    </tr>\n",
       "    <tr>\n",
       "      <th>a3</th>\n",
       "      <td>10</td>\n",
       "    </tr>\n",
       "    <tr>\n",
       "      <th>a4</th>\n",
       "      <td>6</td>\n",
       "    </tr>\n",
       "  </tbody>\n",
       "</table>\n",
       "</div>"
      ],
      "text/plain": [
       "    agent_capacity\n",
       "a1              10\n",
       "a2               1\n",
       "a3              10\n",
       "a4               6"
      ]
     },
     "execution_count": null,
     "metadata": {},
     "output_type": "execute_result"
    }
   ],
   "source": [
    "print('Agent capacities:')\n",
    "data['agent_capacity']"
   ]
  },
  {
   "cell_type": "code",
   "execution_count": null,
   "id": "ea6d7622-bb4f-4241-9720-01afe81506b4",
   "metadata": {},
   "outputs": [
    {
     "name": "stdout",
     "output_type": "stream",
     "text": [
      "Used capacity when agent i  is assigned to task j:\n"
     ]
    },
    {
     "data": {
      "text/html": [
       "<div>\n",
       "<style scoped>\n",
       "    .dataframe tbody tr th:only-of-type {\n",
       "        vertical-align: middle;\n",
       "    }\n",
       "\n",
       "    .dataframe tbody tr th {\n",
       "        vertical-align: top;\n",
       "    }\n",
       "\n",
       "    .dataframe thead th {\n",
       "        text-align: right;\n",
       "    }\n",
       "</style>\n",
       "<table border=\"1\" class=\"dataframe\">\n",
       "  <thead>\n",
       "    <tr style=\"text-align: right;\">\n",
       "      <th></th>\n",
       "      <th>t1</th>\n",
       "      <th>t2</th>\n",
       "      <th>t3</th>\n",
       "      <th>t4</th>\n",
       "      <th>t5</th>\n",
       "      <th>t6</th>\n",
       "    </tr>\n",
       "  </thead>\n",
       "  <tbody>\n",
       "    <tr>\n",
       "      <th>a1</th>\n",
       "      <td>7</td>\n",
       "      <td>4</td>\n",
       "      <td>5</td>\n",
       "      <td>9</td>\n",
       "      <td>5</td>\n",
       "      <td>4</td>\n",
       "    </tr>\n",
       "    <tr>\n",
       "      <th>a2</th>\n",
       "      <td>4</td>\n",
       "      <td>1</td>\n",
       "      <td>7</td>\n",
       "      <td>3</td>\n",
       "      <td>8</td>\n",
       "      <td>5</td>\n",
       "    </tr>\n",
       "    <tr>\n",
       "      <th>a3</th>\n",
       "      <td>8</td>\n",
       "      <td>5</td>\n",
       "      <td>2</td>\n",
       "      <td>3</td>\n",
       "      <td>2</td>\n",
       "      <td>8</td>\n",
       "    </tr>\n",
       "    <tr>\n",
       "      <th>a4</th>\n",
       "      <td>7</td>\n",
       "      <td>9</td>\n",
       "      <td>2</td>\n",
       "      <td>2</td>\n",
       "      <td>7</td>\n",
       "      <td>8</td>\n",
       "    </tr>\n",
       "  </tbody>\n",
       "</table>\n",
       "</div>"
      ],
      "text/plain": [
       "    t1  t2  t3  t4  t5  t6\n",
       "a1   7   4   5   9   5   4\n",
       "a2   4   1   7   3   8   5\n",
       "a3   8   5   2   3   2   8\n",
       "a4   7   9   2   2   7   8"
      ]
     },
     "execution_count": null,
     "metadata": {},
     "output_type": "execute_result"
    }
   ],
   "source": [
    "print('Used capacity when agent i  is assigned to task j:')\n",
    "data['assignment_capacity']"
   ]
  },
  {
   "cell_type": "code",
   "execution_count": null,
   "id": "7913a337-b87b-4a2f-b86b-29cca84ea2b9",
   "metadata": {},
   "outputs": [
    {
     "name": "stdout",
     "output_type": "stream",
     "text": [
      "Assignment costs:\n"
     ]
    },
    {
     "data": {
      "text/html": [
       "<div>\n",
       "<style scoped>\n",
       "    .dataframe tbody tr th:only-of-type {\n",
       "        vertical-align: middle;\n",
       "    }\n",
       "\n",
       "    .dataframe tbody tr th {\n",
       "        vertical-align: top;\n",
       "    }\n",
       "\n",
       "    .dataframe thead th {\n",
       "        text-align: right;\n",
       "    }\n",
       "</style>\n",
       "<table border=\"1\" class=\"dataframe\">\n",
       "  <thead>\n",
       "    <tr style=\"text-align: right;\">\n",
       "      <th></th>\n",
       "      <th>t1</th>\n",
       "      <th>t2</th>\n",
       "      <th>t3</th>\n",
       "      <th>t4</th>\n",
       "      <th>t5</th>\n",
       "      <th>t6</th>\n",
       "    </tr>\n",
       "  </thead>\n",
       "  <tbody>\n",
       "    <tr>\n",
       "      <th>a1</th>\n",
       "      <td>7</td>\n",
       "      <td>8</td>\n",
       "      <td>6</td>\n",
       "      <td>4</td>\n",
       "      <td>1</td>\n",
       "      <td>5</td>\n",
       "    </tr>\n",
       "    <tr>\n",
       "      <th>a2</th>\n",
       "      <td>7</td>\n",
       "      <td>1</td>\n",
       "      <td>2</td>\n",
       "      <td>7</td>\n",
       "      <td>2</td>\n",
       "      <td>1</td>\n",
       "    </tr>\n",
       "    <tr>\n",
       "      <th>a3</th>\n",
       "      <td>7</td>\n",
       "      <td>8</td>\n",
       "      <td>2</td>\n",
       "      <td>4</td>\n",
       "      <td>3</td>\n",
       "      <td>8</td>\n",
       "    </tr>\n",
       "    <tr>\n",
       "      <th>a4</th>\n",
       "      <td>7</td>\n",
       "      <td>1</td>\n",
       "      <td>7</td>\n",
       "      <td>7</td>\n",
       "      <td>7</td>\n",
       "      <td>4</td>\n",
       "    </tr>\n",
       "  </tbody>\n",
       "</table>\n",
       "</div>"
      ],
      "text/plain": [
       "    t1  t2  t3  t4  t5  t6\n",
       "a1   7   8   6   4   1   5\n",
       "a2   7   1   2   7   2   1\n",
       "a3   7   8   2   4   3   8\n",
       "a4   7   1   7   7   7   4"
      ]
     },
     "execution_count": null,
     "metadata": {},
     "output_type": "execute_result"
    }
   ],
   "source": [
    "print('Assignment costs:')\n",
    "data['assignment_costs']"
   ]
  },
  {
   "cell_type": "markdown",
   "id": "56ea7a74-95cf-4dfe-8867-f98b306018a6",
   "metadata": {},
   "source": [
    "Lets have a look at the optimal assignment for this problem data and have a look at the solution for different solvers."
   ]
  },
  {
   "cell_type": "code",
   "execution_count": null,
   "id": "3914f4bf-cf18-47d9-b9bd-2301e9481094",
   "metadata": {},
   "outputs": [
    {
     "name": "stdout",
     "output_type": "stream",
     "text": [
      "CPU times: user 10.4 ms, sys: 20.6 ms, total: 31 ms\n",
      "Wall time: 111 ms\n"
     ]
    }
   ],
   "source": [
    "%%time\n",
    "m = gap(data)"
   ]
  },
  {
   "cell_type": "code",
   "execution_count": null,
   "id": "52738f0f-559c-4a13-8ade-6388cee75e30",
   "metadata": {},
   "outputs": [
    {
     "data": {
      "text/plain": [
       "{'assignment': [('a1', 't5'),\n",
       "  ('a1', 't6'),\n",
       "  ('a2', 't2'),\n",
       "  ('a3', 't1'),\n",
       "  ('a3', 't3'),\n",
       "  ('a4', 't4')],\n",
       " 'objective_value': 23.0}"
      ]
     },
     "execution_count": null,
     "metadata": {},
     "output_type": "execute_result"
    }
   ],
   "source": [
    "extract_solution(m)"
   ]
  },
  {
   "cell_type": "code",
   "execution_count": null,
   "id": "64caa971-f523-4f08-b178-27f79c9b2387",
   "metadata": {},
   "outputs": [],
   "source": [
    "data['solver'] = 'scip'"
   ]
  },
  {
   "cell_type": "code",
   "execution_count": null,
   "id": "5ecf5a78-b019-4b5a-a885-1d699035d622",
   "metadata": {},
   "outputs": [
    {
     "name": "stdout",
     "output_type": "stream",
     "text": [
      "CPU times: user 13.6 ms, sys: 19.6 ms, total: 33.2 ms\n",
      "Wall time: 91.4 ms\n"
     ]
    }
   ],
   "source": [
    "%%time\n",
    "m = gap(data)"
   ]
  },
  {
   "cell_type": "code",
   "execution_count": null,
   "id": "d722cdc3-7342-437c-9dbe-afe6d868b922",
   "metadata": {},
   "outputs": [
    {
     "data": {
      "text/plain": [
       "{'assignment': [('a1', 't5'),\n",
       "  ('a1', 't6'),\n",
       "  ('a2', 't2'),\n",
       "  ('a3', 't1'),\n",
       "  ('a3', 't3'),\n",
       "  ('a4', 't4')],\n",
       " 'objective_value': 23.0}"
      ]
     },
     "execution_count": null,
     "metadata": {},
     "output_type": "execute_result"
    }
   ],
   "source": [
    "extract_solution(m)"
   ]
  },
  {
   "cell_type": "markdown",
   "id": "323551fb-95e8-45bb-9b25-b44f81636b62",
   "metadata": {},
   "source": [
    "## Remark on solvers and problem sizes.\n",
    "\n",
    "- section status: draft:\n",
    "\n",
    "- tested 3 oos solver: glpk, cbc and scip\n",
    "- tested on different problem sizes (up to 500 agents, 800 tasks) and different random input data\n",
    "- cbc and scip doing \"well\", small instances in ms, above bigger size ~30 sec\n",
    "- glpk only applicable for small instances, but here as quick as the other\n"
   ]
  },
  {
   "cell_type": "markdown",
   "id": "0d57ee58-b875-418e-b4e1-0d8c3fa7b570",
   "metadata": {},
   "source": [
    "# next steps\n",
    "\n",
    "- compare LP with apprioxmative solutions (does matching include a suitable one?)\n",
    "- compare with alternative formulations, e.g.\n",
    "    - https://www.diva-portal.org/smash/get/diva2:21391/FULLTEXT01.pdf, enthält refomrulierung as set partioon problem\n",
    "- (could:) show solver solution times for different instances\n",
    "    - including a paragraph on the complexity"
   ]
  },
  {
   "cell_type": "code",
   "execution_count": null,
   "id": "400c154c-ba7c-4a32-b8a0-f119c96875e1",
   "metadata": {},
   "outputs": [],
   "source": []
  }
 ],
 "metadata": {
  "kernelspec": {
   "display_name": "python3",
   "language": "python",
   "name": "python3"
  }
 },
 "nbformat": 4,
 "nbformat_minor": 5
}
