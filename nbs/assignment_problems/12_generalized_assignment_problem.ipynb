{
 "cells": [
  {
   "cell_type": "raw",
   "id": "67f06776-2071-4a94-ba86-29d67047aaba",
   "metadata": {},
   "source": [
    "---\n",
    "title: \"Generalized assignment problem\"\n",
    "author: \"cbarz\"\n",
    "date: \"2023-12-02\"\n",
    "categories: [nlp, assignment problem]\n",
    "draft: true\n",
    "code-fold: true\n",
    "toc: true\n",
    "description: The weapon target assignment problem can be decribed by a mixed integer non linear program (minlp). We will see how minlp can be implemented and solved using pyomo.\n",
    "---"
   ]
  },
  {
   "cell_type": "markdown",
   "id": "c9b8d386-2c0a-4ff4-85ae-e0d0bbdaae1d",
   "metadata": {},
   "source": [
    "- https://www.diva-portal.org/smash/get/diva2:21391/FULLTEXT01.pdf\n",
    "- enthält refomrulierung as set partioon problem\n",
    "\n",
    "## Introduction\n",
    "\n",
    "Given a set of agents and a set of tasks and for each pair (agent, task) a costs or profit value. Moreover each agent has a budget, whcih means that the sum of costs assigned to an agent can not exceed his budget.\n",
    "\n",
    "The goal is to find an assigment of agents to tasks such that the overall profit is maximized. (More precisely each task is assigned to only one agent.)\n",
    "\n",
    "Its known that the generalized assignment problem is NP-hard.\n",
    "\n",
    "### Special cases\n",
    "\n",
    "1. If all agent budgets and tasks costs are equal to one, then the problem is the [assignment problem](https://en.wikipedia.org/wiki/Assignment_problem)\n",
    "1. If consts and profits of all tasks are equal for each agent, then the problem reduces to the [multiple knapsack problem](https://en.wikipedia.org/wiki/Knapsack_problem).\n",
    "1. If there is only a single agent, then the problem reduces to the [knapsack problem](https://en.wikipedia.org/wiki/Knapsack_problem)\n",
    "\n",
    "Further introductory reading: https://en.wikipedia.org/wiki/Generalized_assignment_problem"
   ]
  },
  {
   "cell_type": "markdown",
   "id": "ed3ba8cf-b5be-41e1-a2d9-37c0816591ab",
   "metadata": {},
   "source": [
    "## Abstract mathematical formulation (as integer program)\n",
    "\n",
    "$$\n",
    "\\begin{array}{llr}\n",
    "\\min & \\sum_{i,j} c_{ij} x_{ij} & \\\\\n",
    "s.t. & \\sum_j w_{ij} x_{ij} \\leq t_i & \\forall i\\\\\n",
    "     & \\sum_i x_{ij} \\leq 1 & \\forall j\n",
    "\\end{array}\n",
    "$$\n",
    "\n",
    "where\n",
    "- $I$ index set of agents\n",
    "- $J$ index set of tasks\n",
    "- $c_{ij}$ cost/profit of assigning agent $i$ to task $j$\n",
    "- $w_{ij}$ weight\n",
    "- $t_i$ capacity of agent $i$\n",
    "\n",
    "### decision variables\n"
   ]
  },
  {
   "cell_type": "code",
   "execution_count": null,
   "id": "9e042db8-1afb-4eb5-be0f-92b81cfcea8e",
   "metadata": {},
   "outputs": [],
   "source": []
  }
 ],
 "metadata": {
  "kernelspec": {
   "display_name": "python3",
   "language": "python",
   "name": "python3"
  }
 },
 "nbformat": 4,
 "nbformat_minor": 5
}
