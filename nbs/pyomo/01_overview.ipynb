{
 "cells": [
  {
   "cell_type": "raw",
   "id": "63e167a3-b7d7-4ea1-b966-db82102b01a3",
   "metadata": {},
   "source": [
    "---\n",
    "title: \"Pyomo workflows\"\n",
    "author: \"cbarz\"\n",
    "date: \"2022-xx-yy\"\n",
    "categories: [pyomo]\n",
    "draft: true\n",
    "code-fold: true\n",
    "toc: true\n",
    "description: \"overview-planning notebook for pyomo workflows\"\n",
    "---"
   ]
  },
  {
   "cell_type": "markdown",
   "id": "be287246-8873-4d36-bb4e-8ac8a46beed8",
   "metadata": {},
   "source": [
    "## problem\n",
    "\n",
    "things are frogotten if they have not been practiced for a longer time.\n",
    "\n",
    "reading the documentation is sometimes quite time consuming \n",
    "\n",
    "## goal\n",
    "\n",
    "create small snippets to be up to date quickly\n",
    "\n",
    "## content\n",
    "\n",
    "1. linear programming\n",
    "1. non linear programming\n",
    "1. stochastic programming\n",
    "1. in and output\n",
    "1. solvers, e.g. solver options"
   ]
  },
  {
   "cell_type": "markdown",
   "id": "c6eb66fd-abe5-4125-911b-d3bd22a2dcbf",
   "metadata": {},
   "source": [
    "## structure\n",
    "\n",
    "1. simple example"
   ]
  }
 ],
 "metadata": {
  "kernelspec": {
   "display_name": "python3",
   "language": "python",
   "name": "python3"
  }
 },
 "nbformat": 4,
 "nbformat_minor": 5
}
