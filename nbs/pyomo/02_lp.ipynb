{
 "cells": [
  {
   "cell_type": "code",
   "execution_count": null,
   "id": "97a8ad11-ade7-4acd-9715-5f384b7d7bb8",
   "metadata": {},
   "outputs": [
    {
     "ename": "SyntaxError",
     "evalue": "invalid syntax (<ipython-input-1-85249d562441>, line 1)",
     "output_type": "error",
     "traceback": [
      "\u001b[0;36m  Cell \u001b[0;32mIn[1], line 1\u001b[0;36m\u001b[0m\n\u001b[0;31m    ---\u001b[0m\n\u001b[0m       ^\u001b[0m\n\u001b[0;31mSyntaxError\u001b[0m\u001b[0;31m:\u001b[0m invalid syntax\n"
     ]
    }
   ],
   "source": [
    "---\n",
    "title: \"Linear programming in pyomo\"\n",
    "author: \"cbarz\"\n",
    "date: \"2022-xx-yy\"\n",
    "categories: [pyomo, linear programming]\n",
    "draft: false\n",
    "code-fold: false\n",
    "toc: true\n",
    "description: \"basic pyomo workflows\"\n",
    "---"
   ]
  },
  {
   "cell_type": "markdown",
   "id": "7d041d3b-e757-4d6d-bc95-7e6eaeff0c17",
   "metadata": {},
   "source": [
    "main buidling blocks :\n",
    "1. instanciate model `ConcreteModel()`\n",
    "1. add sets\n",
    "1. add variables\n",
    "1. add constraints\n",
    "1. add objective\n",
    "1. de"
   ]
  },
  {
   "cell_type": "code",
   "execution_count": null,
   "id": "7fd87ae7-36f2-4ea1-babc-fb2ee44d5370",
   "metadata": {},
   "outputs": [],
   "source": [
    "from pyomo.environ import *\n",
    "\n",
    "model = ConcreteModel()\n",
    "\n",
    "model.x = Var(bounds=(1.0,10.0),initialize=5.0)\n",
    "model.y = Var(within=Binary)\n",
    "\n",
    "model.c1 = Constraint(expr=(model.x-4.0)**2 - model.x <= 50.0*(1-model.y))\n",
    "model.c2 = Constraint(expr=model.x*log(model.x)+5.0 <= 50.0*(model.y))\n",
    "\n",
    "model.objective = Objective(expr=model.x, sense=minimize)\n",
    "\n",
    "SolverFactory('mindtpy').solve(model, mip_solver='glpk', nlp_solver='ipopt') "
   ]
  }
 ],
 "metadata": {
  "kernelspec": {
   "display_name": "python3",
   "language": "python",
   "name": "python3"
  }
 },
 "nbformat": 4,
 "nbformat_minor": 5
}
