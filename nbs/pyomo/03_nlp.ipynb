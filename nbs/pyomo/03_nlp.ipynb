{
 "cells": [
  {
   "cell_type": "code",
   "execution_count": null,
   "id": "a3a1d8e5-a668-490e-a5b4-3597aea9fc2d",
   "metadata": {},
   "outputs": [
    {
     "ename": "SyntaxError",
     "evalue": "invalid syntax (<ipython-input-1-b5b7617975fa>, line 1)",
     "output_type": "error",
     "traceback": [
      "\u001b[0;36m  Cell \u001b[0;32mIn[1], line 1\u001b[0;36m\u001b[0m\n\u001b[0;31m    ---\u001b[0m\n\u001b[0m       ^\u001b[0m\n\u001b[0;31mSyntaxError\u001b[0m\u001b[0;31m:\u001b[0m invalid syntax\n"
     ]
    }
   ],
   "source": [
    "---\n",
    "title: \"Non linear programming in pyomo\"\n",
    "author: \"cbarz\"\n",
    "date: \"2022-xx-yy\"\n",
    "categories: [pyomo, non linear programming]\n",
    "draft: true\n",
    "code-fold: true\n",
    "toc: true\n",
    "description: \"basic pyomo workflows for nlp\"\n",
    "---"
   ]
  },
  {
   "cell_type": "markdown",
   "id": "cae44ce0-7864-4b9f-8ac3-9bb49a7432e0",
   "metadata": {},
   "source": [
    "pyomo reference: https://pyomo.readthedocs.io/en/stable/contributed_packages/mindtpy.html\n",
    "\n",
    "With the mixed-integer nonlinear decomposition toolbox in Pyomo `MindtPy` minlps can be solved using the following decomposition algorithems:\n",
    "\n",
    "1. [Outer-apporximation](https://dx.doi.org/10.1007/BF02592064)\n",
    "1. [LP/NLP based branch and bound](https://www.sciencedirect.com/science/article/abs/pii/0098135492800288)\n",
    "1. [extended cutting plane](http://dx.doi.org/10.1016/0098-1354(95)87027-X)\n",
    "1. [global outer approximation](https://link.springer.com/article/10.1007/s10107-004-0503-1)\n",
    "1. [regularized outer approximation](https://link.springer.com/article/10.1007%2Fs10107-018-1356-3)\n",
    "1. [feasibility pump](https://link.springer.com/article/10.1007/s10107-008-0212-2)\n",
    "\n",
    "main buidling blocks :\n",
    "1. instanciate model `ConcreteModel()`\n",
    "1. add sets\n",
    "1. add variables\n",
    "1. add constraints\n",
    "1. add objective\n",
    "1. define solver and solve model"
   ]
  },
  {
   "cell_type": "code",
   "execution_count": null,
   "id": "c67244dc-f3cd-4693-ac63-fe147478f0cd",
   "metadata": {},
   "outputs": [
    {
     "data": {
      "text/plain": [
       "{'Problem': [{'Name': 'unknown', 'Lower bound': 2.43844718719117, 'Upper bound': 2.4384471872707754, 'Number of objectives': 1, 'Number of constraints': 2, 'Number of variables': 2, 'Number of binary variables': 1, 'Number of integer variables': 0, 'Number of continuous variables': 1, 'Number of nonzeros': None, 'Sense': 'minimize', 'Number of disjunctions': 0}], 'Solver': [{'Name': 'MindtPyOA', 'Status': 'ok', 'Message': None, 'User time': 0.2722933989998637, 'Wallclock time': 0.2722933989998637, 'Termination condition': 'optimal', 'Termination message': None, 'Timing': Bunch(Call after main solve = 3.056700006709434e-05, Call after subproblem solve = 1.0740001016529277e-05, OA cut generation = 0.001555258999360376, feasibility subproblem = 0.034517051999500836, fixed subproblem = 0.08473014199989848, initialization = 0.05965278199983004, main = 0.048688222999771824, main loop = 0.17458768599954055, main_timer_start_time = 7516.527777676, total = 0.2722933989998637), 'Iterations': 3, 'Num infeasible nlp subproblem': 1, 'Best solution found time': 0.2590502879993437, 'Primal integral': 0.0, 'Dual integral': 0.3187508452563641, 'Primal dual gap integral': 0.3187508452563641}]}"
      ]
     },
     "execution_count": null,
     "metadata": {},
     "output_type": "execute_result"
    }
   ],
   "source": [
    "from pyomo.environ import *\n",
    "\n",
    "model = ConcreteModel()\n",
    "\n",
    "model.x = Var(bounds=(1.0,10.0),initialize=5.0)\n",
    "model.y = Var(within=Binary)\n",
    "\n",
    "model.c1 = Constraint(expr=(model.x-4.0)**2 - model.x <= 50.0*(1-model.y))\n",
    "model.c2 = Constraint(expr=model.x*log(model.x)+5.0 <= 50.0*(model.y))\n",
    "\n",
    "model.objective = Objective(expr=model.x, sense=minimize)\n",
    "\n",
    "SolverFactory('mindtpy').solve(model, mip_solver='glpk', nlp_solver='ipopt') "
   ]
  },
  {
   "cell_type": "code",
   "execution_count": null,
   "id": "212c2380-ff0e-4182-a45e-4e073966c914",
   "metadata": {},
   "outputs": [
    {
     "name": "stdout",
     "output_type": "stream",
     "text": [
      "objective : Size=1, Index=None, Active=True\n",
      "    Key  : Active : Value\n",
      "    None :   True : 2.4384471872707754\n"
     ]
    }
   ],
   "source": [
    "model.objective.display()"
   ]
  },
  {
   "cell_type": "markdown",
   "id": "afd37304-035e-4e49-b4b7-03adab5d8c97",
   "metadata": {},
   "source": [
    "## setting options for mip and nlp solvers"
   ]
  },
  {
   "cell_type": "code",
   "execution_count": null,
   "id": "2cfecd8a-7d3c-4008-973e-4955cc661cca",
   "metadata": {},
   "outputs": [
    {
     "name": "stderr",
     "output_type": "stream",
     "text": [
      "Starting MindtPy version 0.1.0 using OA algorithm\n",
      "iteration_limit: 50\n",
      "stalling_limit: 15\n",
      "time_limit: 3600\n",
      "strategy: OA\n",
      "add_regularization: None\n",
      "call_after_main_solve: <pyomo.contrib.gdpopt.util._DoNothing object>\n",
      "call_after_subproblem_solve: <pyomo.contrib.gdpopt.util._DoNothing object>\n",
      "call_after_subproblem_feasible: <pyomo.contrib.gdpopt.util._DoNothing object>\n",
      "tee: true\n",
      "logger: <Logger pyomo.contrib.mindtpy (INFO)>\n",
      "logging_level: 20\n",
      "integer_to_binary: false\n",
      "add_no_good_cuts: false\n",
      "use_tabu_list: false\n",
      "single_tree: false\n",
      "solution_pool: false\n",
      "num_solution_iteration: 5\n",
      "cycling_check: true\n",
      "feasibility_norm: L_infinity\n",
      "differentiate_mode: reverse_symbolic\n",
      "use_mcpp: false\n",
      "calculate_dual_at_solution: false\n",
      "use_fbbt: false\n",
      "use_dual_bound: true\n",
      "partition_obj_nonlinear_terms: true\n",
      "quadratic_strategy: 0\n",
      "move_objective: false\n",
      "add_cuts_at_incumbent: false\n",
      "heuristic_nonconvex: false\n",
      "init_strategy: rNLP\n",
      "level_coef: 0.5\n",
      "solution_limit: 10\n",
      "reduce_level_coef: false\n",
      "use_bb_tree_incumbent: false\n",
      "sqp_lag_scaling_coef: fixed\n",
      "fp_cutoffdecr: 0.1\n",
      "fp_iteration_limit: 20\n",
      "fp_projcuts: true\n",
      "fp_transfercuts: true\n",
      "fp_projzerotol: 0.0001\n",
      "fp_mipgap: 0.01\n",
      "fp_discrete_only: true\n",
      "fp_main_norm: L1\n",
      "fp_norm_constraint: true\n",
      "fp_norm_constraint_coef: 1.0\n",
      "add_slack: false\n",
      "max_slack: 1000.0\n",
      "OA_penalty_factor: 1000.0\n",
      "equality_relaxation: false\n",
      "linearize_inactive: false\n",
      "nlp_solver: ipopt\n",
      "nlp_solver_args:\n",
      "mip_solver: cbc\n",
      "mip_solver_args:\n",
      "  solver: cbc\n",
      "  warmstart: true\n",
      "mip_solver_mipgap: 0.0001\n",
      "threads: 0\n",
      "regularization_mip_threads: 0\n",
      "solver_tee: false\n",
      "mip_solver_tee: false\n",
      "nlp_solver_tee: false\n",
      "mip_regularization_solver: None\n",
      "absolute_bound_tolerance: 0.0001\n",
      "relative_bound_tolerance: 0.001\n",
      "small_dual_tolerance: 1.0e-08\n",
      "integer_tolerance: 1.0e-05\n",
      "constraint_tolerance: 1.0e-06\n",
      "variable_tolerance: 1.0e-08\n",
      "zero_tolerance: 1.0e-08\n",
      "obj_bound: 1000000000000000.0\n",
      "continuous_var_bound: 10000000000.0\n",
      "integer_var_bound: 1000000000.0\n",
      "initial_bound_coef: 0.1\n",
      "\n",
      "-----------------------------------------------------------------------------------------------\n",
      "               Mixed-Integer Nonlinear Decomposition Toolbox in Pyomo (MindtPy)                \n",
      "-----------------------------------------------------------------------------------------------\n",
      "For more information, please visit \n",
      "https://pyomo.readthedocs.io/en/stable/contributed_packages/mindtpy.html\n",
      "If you use this software, please cite the following:\n",
      "Bernal, David E., et al. Mixed-integer nonlinear decomposition toolbox for Pyomo (MindtPy).\n",
      "Computer Aided Chemical Engineering. Vol. 44. Elsevier, 2018. 895-900.\n",
      "\n",
      "Original model has 2 constraints (2 nonlinear) and 0 disjunctions, with 2 variables, of which 1 are binary, 0 are integer, and 1 are continuous.\n",
      "rNLP is the initial strategy being used.\n",
      "\n",
      " ===============================================================================================\n",
      " Iteration | Subproblem Type | Objective Value | Primal Bound |   Dual Bound |   Gap   | Time(s)\n",
      "\n",
      "         -       Relaxed NLP                 1            inf              1      nan%      0.07\n",
      "Algorithm should terminate here.\n",
      " ===============================================================================================\n",
      " Primal integral          :       nan \n",
      " Dual integral            :    0.0000 \n",
      " Primal-dual gap integral :       nan \n"
     ]
    },
    {
     "data": {
      "text/plain": [
       "{'Problem': [{'Name': 'unknown', 'Lower bound': 0.9999999925051268, 'Upper bound': inf, 'Number of objectives': 1, 'Number of constraints': 2, 'Number of variables': 2, 'Number of binary variables': 1, 'Number of integer variables': 0, 'Number of continuous variables': 1, 'Number of nonzeros': None, 'Sense': 'minimize', 'Number of disjunctions': 0}], 'Solver': [{'Name': 'MindtPyOA', 'Status': 'ok', 'Message': None, 'User time': 0.0804327750001903, 'Wallclock time': 0.0804327750001903, 'Termination condition': None, 'Termination message': None, 'Timing': Bunch(OA cut generation = 0.0006000469993523438, initialization = 0.05889207699965482, main = 0.0018029169996225392, main loop = 0.004857405999246112, main_timer_start_time = 8121.651330863, total = 0.0804327750001903), 'Iterations': 1, 'Num infeasible nlp subproblem': 0, 'Best solution found time': None, 'Primal integral': nan, 'Dual integral': 0.0, 'Primal dual gap integral': nan}]}"
      ]
     },
     "execution_count": null,
     "metadata": {},
     "output_type": "execute_result"
    }
   ],
   "source": [
    "SolverFactory('mindtpy').solve(model,\n",
    "                               strategy='OA',\n",
    "                               time_limit=3600,\n",
    "                               mip_solver='cbc',\n",
    "                               mip_solver_args=dict(solver='cbc', warmstart=True),\n",
    "                               nlp_solver='ipopt',\n",
    "                               tee=True)"
   ]
  },
  {
   "cell_type": "code",
   "execution_count": null,
   "id": "cf37ba48-67af-4849-afeb-73b58567444e",
   "metadata": {},
   "outputs": [],
   "source": []
  }
 ],
 "metadata": {
  "kernelspec": {
   "display_name": "python3",
   "language": "python",
   "name": "python3"
  }
 },
 "nbformat": 4,
 "nbformat_minor": 5
}
