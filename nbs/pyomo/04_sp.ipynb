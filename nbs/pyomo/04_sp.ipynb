{
 "cells": [
  {
   "cell_type": "raw",
   "id": "7fd759f9-0b7c-4b04-8f82-2fd3097aabb4",
   "metadata": {},
   "source": [
    "---\n",
    "title: \"Stochastic programming in pyomo\"\n",
    "author: \"cbarz\"\n",
    "date: \"2022-xx-yy\"\n",
    "categories: [pyomo, stochastic programming]\n",
    "draft: true\n",
    "code-fold: true\n",
    "toc: true\n",
    "description: \"basic pyomo workflows for stochastic programming\"\n",
    "---"
   ]
  },
  {
   "cell_type": "code",
   "execution_count": null,
   "id": "7c7cc622-0702-4374-9e79-e6efc79a01b2",
   "metadata": {},
   "outputs": [],
   "source": []
  }
 ],
 "metadata": {
  "kernelspec": {
   "display_name": "python3",
   "language": "python",
   "name": "python3"
  }
 },
 "nbformat": 4,
 "nbformat_minor": 5
}
