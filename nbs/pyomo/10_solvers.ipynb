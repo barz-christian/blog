{
 "cells": [
  {
   "cell_type": "raw",
   "id": "1b18963e-6770-4b8d-86a1-fa3583f71581",
   "metadata": {},
   "source": [
    "---\n",
    "title: \"Solvers in Pyomo\"\n",
    "author: \"cbarz\"\n",
    "date: \"2022-xx-yy\"\n",
    "categories: [solvers]\n",
    "draft: true\n",
    "code-fold: true\n",
    "toc: true\n",
    "description: \"overview of different open source solvers and how to use them with pyomo\"\n",
    "---"
   ]
  },
  {
   "cell_type": "markdown",
   "id": "c485bf3b-4912-49b6-949a-1bea234490e6",
   "metadata": {},
   "source": [
    "- glpk\n",
    "- SCIP\n",
    "- GLOP\n",
    "- CP-SAT\n",
    "- cbc \n",
    "    - CBC is an open-source MILP solver. It uses many of the COIN-OR components and is designed to be used with CLP. It is available as a library and as a standalone solver.\n",
    "    - https://github.com/coin-or/Cbc\n",
    "- ipopt\n",
    "    - Ipopt is an open-source solver for large-scale nonlinear continuous optimization. It can be used from various modeling environments and is available as callable library with interfaces to C++, C, Fortran, Java, and R. Ipopt uses an interior point method, together with a filter linear search procedure.\n",
    "    - https://github.com/coin-or/Ipopt\n",
    "- HiGHS\n",
    "    - High performance serial and parallel solver for large scale sparse linear programming\n",
    "    - http://github.com/ERGO-Code/HiGHS\n",
    "- couenne\n",
    "    - Couenne (Convex Over and Under ENvelopes for Nonlinear Estimation) is a spatial branch & bound algorithm that implements linearization, bound reduction, and branching techniques for Mixed-integer, Nonlinear Programming (MINLP) problems. The purpose of Couenne is to find global optima of nonconvex MINLPs.\n",
    "    - https://github.com/coin-or/Couenne\n",
    "- BONMIN \n",
    "    - BONMIN (Basic Open-source Nonlinear Mixed INteger programming) is an open-source code for solving general MINLP (Mixed Integer NonLinear Programming) problems. It is distributed on COIN-OR under the CPL (Common Public License).\n",
    "    - https://coin-or.github.io/Bonmin\n",
    "- DisCO \n",
    "    - DisCO is an open-source distributed memory parallel solver library for MISOCP. It implements various algorithms and is compatible with various other solvers at solving continuous relaxations.\n",
    "    - https://projects.coin-or.org/DisCO\n",
    "- LaGO \n",
    "    - LaGO (Lagrangian Global Optimizer) is a software-package for the global optimization of nonconvex mixed-integer nonlinear programs (MINLP). LaGO can work with black-box formulations of the functions, but assumes to have sparsity information and methods for the evaluation of function values, gradients, and Hessian-vector-multiplications.\n",
    "    - https://github.com/coin-or/LaGO\n",
    "- RBFOpt \n",
    "    - Library for black-box (also known as derivative-free) optimization written in Python. Currently, the software supports box-constrained problems with continuous and discrete variables.\n",
    "    - https://projects.coin-or.org/RBFOpt/wiki\n",
    "- SHOT\n",
    "    - SHOT is a deterministic convex MINLP solver based on polyhedral outer approximation and primal heuristics.\n",
    "    - http://www.github.com/COIN-OR/SHOT"
   ]
  },
  {
   "cell_type": "markdown",
   "id": "76c73582-1c06-4fd0-9010-1ad2be5d1fe7",
   "metadata": {},
   "source": [
    "## Couenne (Convex Over and Under ENvelopes for Nonlinear Estimation)\n",
    "\n",
    "is an open source branch & bound algorithm for solving Mixed-Integer Nonlinear Programming (MINLP) problems to find global optima for non convex MINLPs\n",
    "\n",
    "https://www.coin-or.org/Couenne/"
   ]
  },
  {
   "cell_type": "markdown",
   "id": "1375d0b5-bd3c-4d76-9fb3-41eec77c4a29",
   "metadata": {},
   "source": [
    "references:\n",
    "    \n",
    "- https://www.coin-or.org/projects/#ffs-tabbed-114\n",
    "- https://developers.google.com/optimization"
   ]
  },
  {
   "cell_type": "code",
   "execution_count": null,
   "id": "53d15282-2225-47ee-9992-c55c8e78cc9e",
   "metadata": {},
   "outputs": [],
   "source": []
  }
 ],
 "metadata": {
  "kernelspec": {
   "display_name": "python3",
   "language": "python",
   "name": "python3"
  }
 },
 "nbformat": 4,
 "nbformat_minor": 5
}
